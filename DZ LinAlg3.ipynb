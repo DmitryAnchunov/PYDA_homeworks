{
 "cells": [
  {
   "cell_type": "markdown",
   "metadata": {},
   "source": [
    "### Уровень 0\n",
    "\n",
    "1) Придумайте матрицы, которые обладают следующими свойствами:\n",
    "\n",
    "- a) диагональная, ортогональная, но не единичная(!):\n",
    "- b) верхнетреугольная, ортогональная:\n",
    "- c) нижнетреугольная, ортогональная:\n",
    "- d) матрица, у которой определитель = 1, и все элементы не равны 0:\"\n",
    "\n",
    "*P.S. Во всех пунктах ответом должна быть ненулевая матрица размерности не менее 2!*\n",
    "\n",
    "2) Найдите собственные значения и собственные вектора матриц"
   ]
  },
  {
   "cell_type": "code",
   "execution_count": 1,
   "metadata": {},
   "outputs": [],
   "source": [
    "import numpy as np\n",
    "import pylab as pl\n",
    "import warnings\n",
    "\n",
    "from matplotlib import pyplot as plt\n",
    "from scipy import linalg\n",
    "from sklearn.datasets import load_digits\n",
    "from sklearn.decomposition import TruncatedSVD\n",
    "from sklearn.ensemble import RandomForestClassifier\n",
    "warnings.filterwarnings(\"ignore\")"
   ]
  },
  {
   "cell_type": "code",
   "execution_count": 118,
   "metadata": {},
   "outputs": [
    {
     "data": {
      "text/plain": [
       "matrix([[0, 0, 1],\n",
       "        [0, 1, 0],\n",
       "        [1, 0, 0]])"
      ]
     },
     "execution_count": 118,
     "metadata": {},
     "output_type": "execute_result"
    }
   ],
   "source": [
    "# a) диагональная и ортогональная\n",
    "x = [[0,0,1], [0,1,0], [1,0,0]]\n",
    "diag_ort = np.matrix(diag_ort)\n",
    "diag_ort"
   ]
  },
  {
   "cell_type": "code",
   "execution_count": 119,
   "metadata": {},
   "outputs": [
    {
     "data": {
      "text/plain": [
       "-1.0"
      ]
     },
     "execution_count": 119,
     "metadata": {},
     "output_type": "execute_result"
    }
   ],
   "source": [
    "# Проверка матрицы на ортогональность: определитель равен единице\n",
    "np.linalg.det(diag_ort)"
   ]
  },
  {
   "cell_type": "code",
   "execution_count": 100,
   "metadata": {},
   "outputs": [
    {
     "data": {
      "text/plain": [
       "matrix([[3, 8, 4],\n",
       "        [7, 2, 6],\n",
       "        [1, 5, 9]])"
      ]
     },
     "execution_count": 100,
     "metadata": {},
     "output_type": "execute_result"
    }
   ],
   "source": [
    "# b) верхнетреугольная, ортогональная\n",
    "# берем любую матрицу\n",
    "m = [[ 3, 8, 4],\n",
    "       [ 7, 2, 6],\n",
    "       [ 1, 5, 9]]\n",
    "x = np.matrix(m)\n",
    "x"
   ]
  },
  {
   "cell_type": "code",
   "execution_count": 116,
   "metadata": {},
   "outputs": [
    {
     "data": {
      "text/plain": [
       "matrix([[ 1.00000000e+00, -2.77555756e-16,  2.22044605e-16],\n",
       "        [ 0.00000000e+00,  1.00000000e+00, -8.32667268e-17],\n",
       "        [ 0.00000000e+00,  0.00000000e+00,  1.00000000e+00]])"
      ]
     },
     "execution_count": 116,
     "metadata": {},
     "output_type": "execute_result"
    }
   ],
   "source": [
    "# делаем svd разложение, получаем оргтогональные матрицы U, V \n",
    "U, s, V = np.linalg.svd(x)\n",
    "# делаем разложение матрицы U на ортогональную и верхнетреугольную матрицу (произведение орт матриц дает ортогональную)\n",
    "upper_trian_ort = np.linalg.qr(U, mode = 'r')\n",
    "upper_trian_ort"
   ]
  },
  {
   "cell_type": "code",
   "execution_count": 117,
   "metadata": {},
   "outputs": [
    {
     "data": {
      "text/plain": [
       "1.0000000000000004"
      ]
     },
     "execution_count": 117,
     "metadata": {},
     "output_type": "execute_result"
    }
   ],
   "source": [
    "# проверка ортогональности\n",
    "#n = upper_trian_ort.T\n",
    "#n.dot(upper_trian_ort)\n",
    "np.linalg.det(upper_trian_ort)"
   ]
  },
  {
   "cell_type": "code",
   "execution_count": 115,
   "metadata": {},
   "outputs": [
    {
     "data": {
      "text/plain": [
       "matrix([[ 1.00000000e+00,  0.00000000e+00,  0.00000000e+00],\n",
       "        [-2.77555756e-16,  1.00000000e+00,  0.00000000e+00],\n",
       "        [ 2.22044605e-16, -8.32667268e-17,  1.00000000e+00]])"
      ]
     },
     "execution_count": 115,
     "metadata": {},
     "output_type": "execute_result"
    }
   ],
   "source": [
    "# c) нижнетреугольная, ортогональная:\n",
    "lower_trian_ort = np.transpose(y)\n",
    "lower_trian_ort"
   ]
  },
  {
   "cell_type": "code",
   "execution_count": 113,
   "metadata": {},
   "outputs": [
    {
     "data": {
      "text/plain": [
       "matrix([[-0.55931196,  0.45021641, -0.69604261],\n",
       "        [-0.5350512 , -0.83740203, -0.11170523],\n",
       "        [-0.63315902,  0.30994036,  0.7092578 ]])"
      ]
     },
     "execution_count": 113,
     "metadata": {},
     "output_type": "execute_result"
    }
   ],
   "source": [
    "# d) матрица, у которой определитель = 1, и все элементы не равны 0:\"\n",
    "z = np.linalg.qr(U, mode = 'reduced')\n",
    "z[0]"
   ]
  },
  {
   "cell_type": "code",
   "execution_count": 114,
   "metadata": {},
   "outputs": [
    {
     "data": {
      "text/plain": [
       "1.0000000000000004"
      ]
     },
     "execution_count": 114,
     "metadata": {},
     "output_type": "execute_result"
    }
   ],
   "source": [
    "np.linalg.det(z[0])"
   ]
  },
  {
   "cell_type": "code",
   "execution_count": 120,
   "metadata": {},
   "outputs": [
    {
     "name": "stdout",
     "output_type": "stream",
     "text": [
      "[[2 2]\n",
      " [1 3]]\n"
     ]
    }
   ],
   "source": [
    "# 2) Найдите собственные значения и собственные вектора матриц\n",
    "m = np.array([[2, 2],\n",
    "[1, 3]])\n",
    "print(m)"
   ]
  },
  {
   "cell_type": "code",
   "execution_count": 126,
   "metadata": {},
   "outputs": [],
   "source": [
    "def value_vector(matrix):\n",
    "    \n",
    "    value, vector = np.linalg.eig(matrix)\n",
    "    for i in range(len(value)):\n",
    "        print(\"Собственное значение \" + str(value[i]))\n",
    "        print(\"Cобственный вектор для этого значения \" + str(vector[:,i]))"
   ]
  },
  {
   "cell_type": "code",
   "execution_count": 127,
   "metadata": {},
   "outputs": [
    {
     "name": "stdout",
     "output_type": "stream",
     "text": [
      "Собственное значение 1.0\n",
      "Cобственный вектор для этого значения [-0.89442719  0.4472136 ]\n",
      "Собственное значение 4.0\n",
      "Cобственный вектор для этого значения [-0.70710678 -0.70710678]\n"
     ]
    }
   ],
   "source": [
    "value_vector(m)"
   ]
  },
  {
   "cell_type": "code",
   "execution_count": 128,
   "metadata": {},
   "outputs": [
    {
     "name": "stdout",
     "output_type": "stream",
     "text": [
      "Собственное значение 1.0\n",
      "Cобственный вектор для этого значения [[0.70710678]\n",
      " [0.        ]\n",
      " [0.70710678]]\n",
      "Собственное значение -1.0\n",
      "Cобственный вектор для этого значения [[-0.70710678]\n",
      " [ 0.        ]\n",
      " [ 0.70710678]]\n",
      "Собственное значение 1.0\n",
      "Cобственный вектор для этого значения [[0.]\n",
      " [1.]\n",
      " [0.]]\n"
     ]
    }
   ],
   "source": [
    "value_vector(diag_ort)"
   ]
  },
  {
   "cell_type": "code",
   "execution_count": 129,
   "metadata": {},
   "outputs": [
    {
     "name": "stdout",
     "output_type": "stream",
     "text": [
      "Собственное значение 0.9999999999999998\n",
      "Cобственный вектор для этого значения [[1.]\n",
      " [0.]\n",
      " [0.]]\n",
      "Собственное значение 1.0000000000000004\n",
      "Cобственный вектор для этого значения [[-0.38461538]\n",
      " [ 0.92307692]\n",
      " [ 0.        ]]\n",
      "Собственное значение 1.0000000000000002\n",
      "Cобственный вектор для этого значения [[0.24135945]\n",
      " [0.34074275]\n",
      " [0.90864734]]\n"
     ]
    }
   ],
   "source": [
    "value_vector(upper_trian_ort)"
   ]
  },
  {
   "cell_type": "code",
   "execution_count": 131,
   "metadata": {},
   "outputs": [
    {
     "name": "stdout",
     "output_type": "stream",
     "text": [
      "Собственное значение 1.0000000000000002\n",
      "Cобственный вектор для этого значения [[0.]\n",
      " [0.]\n",
      " [1.]]\n",
      "Собственное значение 1.0000000000000004\n",
      "Cобственный вектор для этого значения [[0.        ]\n",
      " [0.93632918]\n",
      " [0.35112344]]\n",
      "Собственное значение 0.9999999999999998\n",
      "Cобственный вектор для этого значения [[ 0.8601567 ]\n",
      " [ 0.35839862]\n",
      " [-0.36287861]]\n"
     ]
    }
   ],
   "source": [
    "value_vector(lower_trian_ort)"
   ]
  },
  {
   "cell_type": "code",
   "execution_count": 132,
   "metadata": {},
   "outputs": [
    {
     "name": "stdout",
     "output_type": "stream",
     "text": [
      "Собственное значение (1.0000000000000002+0j)\n",
      "Cобственный вектор для этого значения [[ 0.39276129+0.j]\n",
      " [-0.05857583+0.j]\n",
      " [-0.91777309+0.j]]\n",
      "Собственное значение (-0.8437280917882347+0.5367708143401466j)\n",
      "Cобственный вектор для этого значения [[-0.0162959 +0.65007979j]\n",
      " [-0.70589265+0.j        ]\n",
      " [ 0.03807896+0.27820185j]]\n",
      "Собственное значение (-0.8437280917882347-0.5367708143401466j)\n",
      "Cобственный вектор для этого значения [[-0.0162959 -0.65007979j]\n",
      " [-0.70589265-0.j        ]\n",
      " [ 0.03807896-0.27820185j]]\n"
     ]
    }
   ],
   "source": [
    "value_vector(z[0])"
   ]
  },
  {
   "cell_type": "code",
   "execution_count": null,
   "metadata": {},
   "outputs": [],
   "source": []
  }
 ],
 "metadata": {
  "kernelspec": {
   "display_name": "Python 3",
   "language": "python",
   "name": "python3"
  },
  "language_info": {
   "codemirror_mode": {
    "name": "ipython",
    "version": 3
   },
   "file_extension": ".py",
   "mimetype": "text/x-python",
   "name": "python",
   "nbconvert_exporter": "python",
   "pygments_lexer": "ipython3",
   "version": "3.7.6"
  }
 },
 "nbformat": 4,
 "nbformat_minor": 4
}
