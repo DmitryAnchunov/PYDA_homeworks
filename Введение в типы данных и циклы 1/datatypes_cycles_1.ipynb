{
 "cells": [
  {
   "cell_type": "markdown",
   "metadata": {},
   "source": [
    "**Задача 1**. Дано слово из латинских букв. Напишите скрипт, который выводит на экран букву из середины слова (если число букв нечетное). Если букв четное число, то на экран выводятся две буквы из середины.  \n",
    "\n",
    "Пример: для 'test' должно выводится 'es', для 'testing' - 't'"
   ]
  },
  {
   "cell_type": "code",
   "execution_count": 65,
   "metadata": {},
   "outputs": [
    {
     "name": "stdout",
     "output_type": "stream",
     "text": [
      "Введите любое слов латинскими буквами:quit\n",
      "ui\n"
     ]
    }
   ],
   "source": [
    "word = input('Введите любое слов латинскими буквами:')\n",
    "letters = len(word)\n",
    "if letters % 2 == 0:\n",
    "    print(word[letters//2 - 1:letters//2 + 1])\n",
    "else: \n",
    "    print(word[letters//2])"
   ]
  },
  {
   "cell_type": "markdown",
   "metadata": {},
   "source": [
    "**Задача 2**. Мы делаем MVP dating-сервиса, и у нас есть список парней и девушек (их число может варьироваться):"
   ]
  },
  {
   "cell_type": "code",
   "execution_count": null,
   "metadata": {},
   "outputs": [],
   "source": [
    "Выдвигаем гипотезу: лучшие рекомендации мы получим, если просто отсортируем имена по алфавиту и познакомим людей \n",
    "с одинаковыми индексами после сортировки! \"Познакомить\" пары нам поможет функция zip, а в цикле распакуем zip-объект и \n",
    "выведем информацию в виде:\n",
    "\n",
    "Идеальные пары:\n",
    "Alex и Emma\n",
    "Arthur и Kate\n",
    "John и Kira\n",
    "Peter и Liza\n",
    "Richard и Trisha"
   ]
  },
  {
   "cell_type": "code",
   "execution_count": 3,
   "metadata": {},
   "outputs": [
    {
     "name": "stdout",
     "output_type": "stream",
     "text": [
      "Идеальные пары:\n",
      "Alex и Emma\n",
      "Arthur и Kate\n",
      "John и Kira\n",
      "Peter и Liza\n",
      "Richard и Trisha\n"
     ]
    }
   ],
   "source": [
    "boys = ['Peter', 'Alex', 'John', 'Arthur', 'Richard']\n",
    "girls = ['Kate', 'Liza', 'Kira', 'Emma', 'Trisha']\n",
    "if len(boys) != len(girls):\n",
    "    print('Внимание, кто-то может остаться без пары!')\n",
    "else:\n",
    "    b = sorted(boys)\n",
    "    g = sorted(girls)\n",
    "    pair = list(zip(b, g))\n",
    "    print('Идеальные пары:')\n",
    "    for pairs in pair:\n",
    "        print(pairs[0], 'и', pairs[1])"
   ]
  },
  {
   "cell_type": "markdown",
   "metadata": {},
   "source": [
    "**Внимание! Если количество людей в списках будет не совпадать, то мы никого знакомить не будет и выведем пользователю предупреждение, что кто-то может остаться без пары!**"
   ]
  },
  {
   "cell_type": "markdown",
   "metadata": {},
   "source": [
    "**Задача 3**. У нас есть список, содержащий информацию о среднедневной температуре в Фаренгейтах за недельный период по странам.\n",
    "Необходимо написать код, который рассчитает среднюю температуру за неделю в Цельсиях для каждой страны."
   ]
  },
  {
   "cell_type": "code",
   "execution_count": 4,
   "metadata": {},
   "outputs": [],
   "source": [
    "countries_temperature = [\n",
    " ['Thailand', [75.2, 77, 78.8, 73.4, 68, 75.2, 77]],\n",
    " ['Germany', [57.2, 55.4, 59, 59, 53.6, 55.4, 57.2]],\n",
    " ['Russia', [35.6, 37.4, 39.2, 41, 42.8, 39.2, 35.6]],\n",
    " ['Poland', [50, 50, 53.6, 57.2, 55.4, 55.4, 51.8]],\n",
    "]"
   ]
  },
  {
   "cell_type": "code",
   "execution_count": 21,
   "metadata": {},
   "outputs": [
    {
     "name": "stdout",
     "output_type": "stream",
     "text": [
      "Среднедневная температура в градусах Цельсия за недельный период:\n",
      "Thailand = 4.4\n",
      "Germany = 3.3\n",
      "Russia = 2.2\n",
      "Poland = 3.1\n"
     ]
    }
   ],
   "source": [
    "#a = len(countries_temperature)\n",
    "print('Среднедневная температура в градусах Цельсия за недельный период:')\n",
    "for trend_temp in countries_temperature:\n",
    "    c = sum(trend_temp[1])\n",
    "    t = trend_temp[0] \n",
    "    print(t, '=', round(c/7/17.22, 1))"
   ]
  },
  {
   "cell_type": "markdown",
   "metadata": {},
   "source": [
    "**Задача 4.** Дан поток логов по количеству просмотренных страниц для каждого пользователя. Список отсортирован по ID пользователя. Вам необходимо написать алгоритм, который считает среднее значение просмотров на пользователя. \n",
    "Т. е. надо посчитать отношение суммы всех просмотров к количеству уникальных пользователей."
   ]
  },
  {
   "cell_type": "code",
   "execution_count": 66,
   "metadata": {},
   "outputs": [],
   "source": [
    "stream = [\n",
    "    '2018-01-01,user1,3',\n",
    "    '2018-01-07,user1,4',\n",
    "    '2018-03-29,user1,1',\n",
    "    '2018-04-04,user1,13',\n",
    "    '2018-01-05,user2,7',\n",
    "    '2018-06-14,user3,4',\n",
    "    '2018-07-02,user3,10',\n",
    "    '2018-03-21,user4,19',\n",
    "    '2018-03-22,user4,4',\n",
    "    '2018-04-22,user4,8',\n",
    "    '2018-05-03,user4,9',\n",
    "    '2018-05-11,user4,11',\n",
    "]"
   ]
  },
  {
   "cell_type": "code",
   "execution_count": 67,
   "metadata": {},
   "outputs": [
    {
     "name": "stdout",
     "output_type": "stream",
     "text": [
      "Cреднее значение просмотров на пользователя:\n",
      "user1 - 5.25\n",
      "user2 - 7.0\n",
      "user3 - 7.0\n",
      "user4 - 10.2\n"
     ]
    }
   ],
   "source": [
    "a = 'user1'\n",
    "b = 1\n",
    "c = 0\n",
    "print('Cреднее значение просмотров на пользователя:')\n",
    "for users in stream:\n",
    "    if str(users).split(\",\")[1] == a:\n",
    "        c = int(str(users).split(\",\")[2]) + c\n",
    "    else:\n",
    "        print(a, '-', c/str(stream).count(a))\n",
    "        c = 0\n",
    "        c = int(str(users).split(\",\")[2]) + c\n",
    "        b = b + 1\n",
    "        a = f\"{a[:4] + str(b)}\"\n",
    "print(a,'-', c/str(stream).count(a))"
   ]
  },
  {
   "cell_type": "code",
   "execution_count": 64,
   "metadata": {},
   "outputs": [
    {
     "name": "stdout",
     "output_type": "stream",
     "text": [
      "Сумма просмотров у каждого пользователя:  {'user1': 21, 'user2': 7, 'user3': 14, 'user4': 51}\n",
      "Cреднее значение просмотров на уникального пользователя: 23.25\n"
     ]
    }
   ],
   "source": [
    "q = dict()\n",
    "x = 0\n",
    "y = 0\n",
    "z = 0\n",
    "for users in stream:\n",
    "    if str(users).split(\",\")[1] != y:\n",
    "        x = 0\n",
    "        z = z + 1\n",
    "    x = int(str(users).split(\",\")[2]) + x\n",
    "    q[str(users).split(\",\")[1]] = x\n",
    "    y = str(users).split(\",\")[1]\n",
    "    \n",
    "print('Сумма просмотров у каждого пользователя: ', q)\n",
    "\n",
    "print('Cреднее значение просмотров на уникального пользователя:', sum([a for a in q.values()])/z)"
   ]
  },
  {
   "cell_type": "markdown",
   "metadata": {},
   "source": [
    "**Задача 5**. Дана статистика рекламных кампаний по дням. Напишите алгоритм, который по паре дата-кампания ищет значение численного столбца. \n",
    "Т. е. для даты '2018-01-01' и 'google' нужно получить число 25. \n",
    "Считайте, что все комбинации дата-кампания уникальны."
   ]
  },
  {
   "cell_type": "code",
   "execution_count": 78,
   "metadata": {},
   "outputs": [],
   "source": [
    "stats = [\n",
    "    ['2018-01-01', 'google', 25],\n",
    "    ['2018-01-01', 'yandex', 65],\n",
    "    ['2018-01-01', 'market', 89],\n",
    "    ['2018-01-02', 'google', 574],\n",
    "    ['2018-01-02', 'yandex', 249],\n",
    "    ['2018-01-02', 'market', 994],\n",
    "    ['2018-01-03', 'google', 1843],\n",
    "    ['2018-01-04', 'yandex', 1327],\n",
    "    ['2018-01-03', 'market', 1764],\n",
    "]"
   ]
  },
  {
   "cell_type": "code",
   "execution_count": 125,
   "metadata": {},
   "outputs": [
    {
     "name": "stdout",
     "output_type": "stream",
     "text": [
      "Введите название сервиса в формате yandex: yandex\n",
      "Введите дату в формате 2018-01-01: 2018-01-01\n",
      "\n",
      " Данные по сервису yandex на дату 2018-01-01 :\n",
      "\n",
      " ----65----\n"
     ]
    }
   ],
   "source": [
    "stop = 0\n",
    "check = 0\n",
    "while stop == 0:\n",
    "    service = input('Введите название сервиса в формате yandex: ')\n",
    "    if service in str(stats):\n",
    "        while stop == 0:\n",
    "            date = input('Введите дату в формате 2018-01-01: ')\n",
    "            if date in str(stats):\n",
    "                for q in stats:\n",
    "                    if service in q[1] and q[0] == date:\n",
    "                        print('\\n', 'Данные по сервису', service, 'на дату', date, ':')\n",
    "                        print('\\n', \"{:-^10}\".format(q[2]))\n",
    "                        stop = 1\n",
    "                        break\n",
    "                    else:\n",
    "                        check = check + 1\n",
    "                        if check > len(stats) - 1:\n",
    "                            print('Данных на', date, 'по сервису', service, 'нет')\n",
    "                            stop = 1\n",
    "                            check = 0\n",
    "                            break\n",
    "            else:\n",
    "                print('Дата', date, 'не найдена, проверьте формат или попробуйте другую дату')\n",
    "    else: \n",
    "        print('Cервис', service, 'не найден, попробуйте снова')"
   ]
  },
  {
   "cell_type": "markdown",
   "metadata": {},
   "source": [
    "**Задача 6**. Дан список вида:"
   ]
  },
  {
   "cell_type": "code",
   "execution_count": 75,
   "metadata": {},
   "outputs": [],
   "source": [
    "data = [\n",
    "    [13, 25, 23, 34],\n",
    "    [45, 32, 44, 47],\n",
    "    [12, 33, 23, 95],\n",
    "    [13, 53, 34, 35]\n",
    "]"
   ]
  },
  {
   "cell_type": "markdown",
   "metadata": {},
   "source": [
    "Напишите код, который будет вычислять сумму элементов на диагонали. Т. е. 13+32+23+35.  \n",
    "Список может быть любой длины, но всегда является \"квадратным\" (количество элементов во вложенных списках равно их количеству)."
   ]
  },
  {
   "cell_type": "code",
   "execution_count": 77,
   "metadata": {},
   "outputs": [
    {
     "name": "stdout",
     "output_type": "stream",
     "text": [
      "Выберите диагональ для расчета суммы её значений:\n",
      "От первого значения к последнему = d, другая диагональ - любой знак, кроме d. Вы выбрали: s\n",
      "Сумма значений по выбранной диагонали: 124\n"
     ]
    }
   ],
   "source": [
    "print('Выберите диагональ для расчета суммы её значений:')\n",
    "q = input('От первого значения к последнему = d, другая диагональ - любой знак, кроме d. Вы выбрали: ')\n",
    "b = 0\n",
    "c = 0\n",
    "for values in data:\n",
    "    if q == 'd':\n",
    "        c = values[b] + c\n",
    "    else:\n",
    "        c = values[-1-b] + c\n",
    "    b = b + 1\n",
    "print ('Сумма значений по выбранной диагонали:', c)"
   ]
  },
  {
   "cell_type": "code",
   "execution_count": null,
   "metadata": {},
   "outputs": [],
   "source": []
  }
 ],
 "metadata": {
  "kernelspec": {
   "display_name": "Python 3",
   "language": "python",
   "name": "python3"
  },
  "language_info": {
   "codemirror_mode": {
    "name": "ipython",
    "version": 3
   },
   "file_extension": ".py",
   "mimetype": "text/x-python",
   "name": "python",
   "nbconvert_exporter": "python",
   "pygments_lexer": "ipython3",
   "version": "3.7.6"
  }
 },
 "nbformat": 4,
 "nbformat_minor": 2
}
