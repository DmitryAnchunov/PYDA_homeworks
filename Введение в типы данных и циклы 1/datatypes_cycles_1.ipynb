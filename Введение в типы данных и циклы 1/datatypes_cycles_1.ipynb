{
 "cells": [
  {
   "cell_type": "markdown",
   "metadata": {},
   "source": [
    "**Задача 1**. Дано слово из латинских букв. Напишите скрипт, который выводит на экран букву из середины слова (если число букв нечетное). Если букв четное число, то на экран выводятся две буквы из середины.  \n",
    "\n",
    "Пример: для 'test' должно выводится 'es', для 'testing' - 't'"
   ]
  },
  {
   "cell_type": "code",
   "execution_count": 75,
   "metadata": {},
   "outputs": [
    {
     "name": "stdout",
     "output_type": "stream",
     "text": [
      "Введите любое слов латинскими буквами:world\n",
      "r\n"
     ]
    }
   ],
   "source": [
    "word = input('Введите любое слов латинскими буквами:')\n",
    "letters = len(word)\n",
    "if letters % 2 == 0:\n",
    "    print(word[letters//2-1:letters//2+1])\n",
    "else: \n",
    "    print(word[letters//2])"
   ]
  },
  {
   "cell_type": "markdown",
   "metadata": {},
   "source": [
    "**Задача 2**. Мы делаем MVP dating-сервиса, и у нас есть список парней и девушек (их число может варьироваться):"
   ]
  },
  {
   "cell_type": "code",
   "execution_count": null,
   "metadata": {},
   "outputs": [],
   "source": []
  },
  {
   "cell_type": "code",
   "execution_count": 77,
   "metadata": {},
   "outputs": [
    {
     "name": "stdout",
     "output_type": "stream",
     "text": [
      "Идеальные пары:\n",
      "Alex и Emma\n",
      "Arthur и Kate\n",
      "John и Kira\n",
      "Peter и Liza\n",
      "Richard и Trisha\n",
      "\n"
     ]
    }
   ],
   "source": [
    "boys = ['Peter', 'Alex', 'John', 'Arthur', 'Richard']\n",
    "girls = ['Kate', 'Liza', 'Kira', 'Emma', 'Trisha']\n",
    "if len(boys) != len(girls):\n",
    "    print('Внимание, кто-то может остаться без пары!')\n",
    "else:\n",
    "    b = sorted(boys)\n",
    "    g = sorted(girls)\n",
    "    #print(list(b))\n",
    "    pair = list(zip(b, g))\n",
    "    pair.reverse()\n",
    "    a = len(pair)\n",
    "    print('Идеальные пары:')\n",
    "    while a != 0:\n",
    "        a = a-1\n",
    "        print(list(pair)[0+a][0], 'и', list(pair)[0+a][1])\n",
    "    print()"
   ]
  },
  {
   "cell_type": "markdown",
   "metadata": {},
   "source": [
    "Выдвигаем гипотезу: лучшие рекомендации мы получим, если просто отсортируем имена по алфавиту и познакомим людей с одинаковыми индексами после сортировки! \"Познакомить\" пары нам поможет функция zip, а в цикле распакуем zip-объект и выведем информацию в виде:\n",
    "\n",
    "Идеальные пары:  \n",
    "Alex и Emma  \n",
    "Arthur и Kate  \n",
    "John и Kira  \n",
    "Peter и Liza  \n",
    "Richard и Trisha  "
   ]
  },
  {
   "cell_type": "markdown",
   "metadata": {},
   "source": [
    "**Внимание! Если количество людей в списках будет не совпадать, то мы никого знакомить не будет и выведем пользователю предупреждение, что кто-то может остаться без пары!**"
   ]
  },
  {
   "cell_type": "markdown",
   "metadata": {},
   "source": [
    "**Задача 3**. У нас есть список, содержащий информацию о среднедневной температуре в Фаренгейтах за недельный период по странам.\n",
    "Необходимо написать код, который рассчитает среднюю температуру за неделю в Цельсиях для каждой страны."
   ]
  },
  {
   "cell_type": "code",
   "execution_count": 2,
   "metadata": {},
   "outputs": [],
   "source": [
    "countries_temperature = [\n",
    " ['Thailand', [75.2, 77, 78.8, 73.4, 68, 75.2, 77]],\n",
    " ['Germany', [57.2, 55.4, 59, 59, 53.6, 55.4, 57.2]],\n",
    " ['Russia', [35.6, 37.4, 39.2, 41, 42.8, 39.2, 35.6]],\n",
    " ['Poland', [50, 50, 53.6, 57.2, 55.4, 55.4, 51.8]],\n",
    "]"
   ]
  },
  {
   "cell_type": "code",
   "execution_count": 3,
   "metadata": {},
   "outputs": [
    {
     "name": "stdout",
     "output_type": "stream",
     "text": [
      "Среднедневная температура в Фаренгейтах за недельный период:\n",
      "Poland = 53.3\n",
      "Russia = 38.7\n",
      "Germany = 56.7\n",
      "Thailand = 74.9\n"
     ]
    }
   ],
   "source": [
    "a = len(countries_temperature)\n",
    "print('Среднедневная температура в Фаренгейтах за недельный период:')\n",
    "while a != 0:\n",
    "    a = a - 1\n",
    "    c = countries_temperature[0+a][1]\n",
    "    t = countries_temperature[0+a][0] \n",
    "    print(t, '=',round(sum(c)/7,1))"
   ]
  },
  {
   "cell_type": "markdown",
   "metadata": {},
   "source": [
    "**Задача 4.** Дан поток логов по количеству просмотренных страниц для каждого пользователя. Список отсортирован по ID пользователя. Вам необходимо написать алгоритм, который считает среднее значение просмотров на пользователя. \n",
    "Т. е. надо посчитать отношение суммы всех просмотров к количеству уникальных пользователей."
   ]
  },
  {
   "cell_type": "code",
   "execution_count": 2,
   "metadata": {},
   "outputs": [],
   "source": [
    "stream = [\n",
    "    '2018-01-01,user1,3',\n",
    "    '2018-01-07,user1,4',\n",
    "    '2018-03-29,user1,1',\n",
    "    '2018-04-04,user1,13',\n",
    "    '2018-01-05,user2,7',\n",
    "    '2018-06-14,user3,4',\n",
    "    '2018-07-02,user3,10',\n",
    "    '2018-03-21,user4,19',\n",
    "    '2018-03-22,user4,4',\n",
    "    '2018-04-22,user4,8',\n",
    "    '2018-05-03,user4,9',\n",
    "    '2018-05-11,user4,11',\n",
    "]"
   ]
  },
  {
   "cell_type": "code",
   "execution_count": 69,
   "metadata": {},
   "outputs": [
    {
     "name": "stdout",
     "output_type": "stream",
     "text": [
      "Cреднее значение просмотров на пользователя:\n",
      "user1 - 5.25\n",
      "user2 - 7.0\n",
      "user3 - 7.0\n",
      "user4 - 10.2\n"
     ]
    }
   ],
   "source": [
    "a = 'user1'\n",
    "b = 1\n",
    "c = 0\n",
    "print('Cреднее значение просмотров на пользователя:')\n",
    "for users in stream:\n",
    "    if str(users).split(\",\")[1] == a:\n",
    "        c = int(str(users).split(\",\")[2]) + c\n",
    "    else:\n",
    "        print(a,'-',c/str(stream).count(a))\n",
    "        c = 0\n",
    "        c = int(str(users).split(\",\")[2]) + c\n",
    "        b = b + 1\n",
    "        a = f\"{a[:4] + str(b)}\"\n",
    "print(a,'-',c/str(stream).count(a))"
   ]
  },
  {
   "cell_type": "markdown",
   "metadata": {},
   "source": [
    "**Задача 5**. Дана статистика рекламных кампаний по дням. Напишите алгоритм, который по паре дата-кампания ищет значение численного столбца. \n",
    "Т. е. для даты '2018-01-01' и 'google' нужно получить число 25. \n",
    "Считайте, что все комбинации дата-кампания уникальны."
   ]
  },
  {
   "cell_type": "code",
   "execution_count": 1,
   "metadata": {},
   "outputs": [],
   "source": [
    "stats = [\n",
    "    ['2018-01-01', 'google', 25],\n",
    "    ['2018-01-01', 'yandex', 65],\n",
    "    ['2018-01-01', 'market', 89],\n",
    "    ['2018-01-02', 'google', 574],\n",
    "    ['2018-01-02', 'yandex', 249],\n",
    "    ['2018-01-02', 'market', 994],\n",
    "    ['2018-01-03', 'google', 1843],\n",
    "    ['2018-01-04', 'yandex', 1327],\n",
    "    ['2018-01-03', 'market', 1764],\n",
    "]"
   ]
  },
  {
   "cell_type": "code",
   "execution_count": 2,
   "metadata": {},
   "outputs": [
    {
     "name": "stdout",
     "output_type": "stream",
     "text": [
      "['market', 'google', 'yandex']\n",
      "['2018-01-02', '2018-01-01', '2018-01-03', '2018-01-04']\n"
     ]
    }
   ],
   "source": [
    "service_list = []\n",
    "for q in stats:\n",
    "    a = q[1]\n",
    "    service_list.append(a)\n",
    "date_list = []\n",
    "for z in stats:\n",
    "    b = z[0]\n",
    "    date_list.append(b)\n",
    "service_list = list(set(service_list))\n",
    "print(service_list)\n",
    "date_list = list(set(date_list))\n",
    "print(date_list)"
   ]
  },
  {
   "cell_type": "code",
   "execution_count": 3,
   "metadata": {},
   "outputs": [
    {
     "name": "stdout",
     "output_type": "stream",
     "text": [
      "Введите название сервиса в формате yandex: yande\n",
      "Данный сервис не найден, попробуйте снова\n",
      "Примеры сервисов в базе: ['market', 'google', 'yandex']\n",
      "Введите название сервиса в формате yandex: yandex\n",
      "Введите дату в формате 2018-01-01: 21\n",
      "Дата не найдена, проверьте формат или попробуйте другую дату\n",
      "Примеры дат в базе: ['2018-01-02', '2018-01-01', '2018-01-03', '2018-01-04']\n",
      "Введите дату в формате 2018-01-01: 2018-01-03\n",
      "Данных на 2018-01-03 по сервису yandex нет\n"
     ]
    }
   ],
   "source": [
    "stop = 0\n",
    "check = 0\n",
    "while stop == 0:\n",
    "    service = input('Введите название сервиса в формате yandex: ')\n",
    "    if service_list.count(service) > 0:\n",
    "        while stop == 0:\n",
    "            date = input('Введите дату в формате 2018-01-01: ')\n",
    "            if date_list.count(date) > 0:\n",
    "                for q in stats:\n",
    "                    if service in q[1] and q[0] == date:\n",
    "                        print(q[2])\n",
    "                        stop = 1\n",
    "                        break\n",
    "                    else:\n",
    "                        check = check + 1\n",
    "                        if check > date_list.count(date):\n",
    "                            print('Данных на', date, 'по сервису', service, 'нет')\n",
    "                            stop = 1\n",
    "                            check = 0\n",
    "                            break\n",
    "            else:\n",
    "                print('Дата не найдена, проверьте формат или попробуйте другую дату')\n",
    "                print('Примеры дат в базе:', list(date_list))\n",
    "    else: \n",
    "        print('Данный сервис не найден, попробуйте снова')\n",
    "        print('Примеры сервисов в базе:', list(service_list))"
   ]
  },
  {
   "cell_type": "markdown",
   "metadata": {},
   "source": [
    "**Задача 6**. Дан список вида:"
   ]
  },
  {
   "cell_type": "code",
   "execution_count": 2,
   "metadata": {},
   "outputs": [],
   "source": [
    "data = [\n",
    "    [13, 25, 23, 34],\n",
    "    [45, 32, 44, 47],\n",
    "    [12, 33, 23, 95],\n",
    "    [13, 53, 34, 35]\n",
    "]"
   ]
  },
  {
   "cell_type": "markdown",
   "metadata": {},
   "source": [
    "Напишите код, который будет вычислять сумму элементов на диагонали. Т. е. 13+32+23+35.  \n",
    "Список может быть любой длины, но всегда является \"квадратным\" (количество элементов во вложенных списках равно их количеству)."
   ]
  },
  {
   "cell_type": "code",
   "execution_count": 33,
   "metadata": {},
   "outputs": [
    {
     "name": "stdout",
     "output_type": "stream",
     "text": [
      "Выберите диагональ для расчета суммы её значений:\n",
      "От первого значения к последнему = d, другая диагональ - любой знак, кроме d. Вы выбрали: d\n",
      "Сумма значений по выбранной диагонали: 103\n"
     ]
    }
   ],
   "source": [
    "print('Выберите диагональ для расчета суммы её значений:')\n",
    "q = input('От первого значения к последнему = d, другая диагональ - любой знак, кроме d. Вы выбрали: ')\n",
    "a = len(data) - 1\n",
    "b = 0\n",
    "c = 0\n",
    "while b < 4 and b >= 0:\n",
    "    if q == 'd':\n",
    "        c = data[a-b][a-b] + c\n",
    "    else:\n",
    "        c = data[a-b][b] + c\n",
    "    b = b + 1\n",
    "print ('Сумма значений по выбранной диагонали:', c)"
   ]
  },
  {
   "cell_type": "code",
   "execution_count": null,
   "metadata": {},
   "outputs": [],
   "source": []
  }
 ],
 "metadata": {
  "kernelspec": {
   "display_name": "Python 3",
   "language": "python",
   "name": "python3"
  },
  "language_info": {
   "codemirror_mode": {
    "name": "ipython",
    "version": 3
   },
   "file_extension": ".py",
   "mimetype": "text/x-python",
   "name": "python",
   "nbconvert_exporter": "python",
   "pygments_lexer": "ipython3",
   "version": "3.7.6"
  }
 },
 "nbformat": 4,
 "nbformat_minor": 2
}
