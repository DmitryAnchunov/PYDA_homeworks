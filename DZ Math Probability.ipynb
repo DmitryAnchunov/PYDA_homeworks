{
 "cells": [
  {
   "cell_type": "code",
   "execution_count": 4,
   "metadata": {},
   "outputs": [],
   "source": [
    "import matplotlib.pyplot as plt\n",
    "import seaborn\n",
    "import numpy as np\n",
    "import random\n",
    "import seaborn\n",
    "import math\n",
    "from math import factorial as f_\n",
    "\n",
    "from numpy.random import choice\n",
    "from scipy.stats import *\n",
    "\n",
    "%matplotlib inline"
   ]
  },
  {
   "cell_type": "markdown",
   "metadata": {},
   "source": [
    "#### Задание 1\n",
    "\n",
    "Монетку подбрасывают 15 раз\n",
    "\n",
    "Найдите вероятность выпадения простого числа орлов"
   ]
  },
  {
   "cell_type": "markdown",
   "metadata": {},
   "source": [
    "На бумажке:\n",
    "    Всего исходов 15, значит возможных вариантов будет 2 в 15 степени = 32 768.\n",
    "    \n",
    "    2 орла - 14! = 14+13+12+11+10+9+8+7+6+5+4+3+2+1 = 105\n",
    "    \n",
    "    3 орла - (13*14*15)/(1*2*3) = 455\n",
    "    \n",
    "    5 орлов - (11*12*13*14*15)/(1*2*3*4*5) = 3003\n",
    "    \n",
    "    7 орлов - (9*10*11*12*13*14*15)/(1*2*3*4*5*6*7) = 6435\n",
    "    \n",
    "    11 орлов - (5*6*7*8*9*10*11*12*13*14*15)/(1*2*3*4*5*6*7*8*9*10*11) = 1365\n",
    "    \n",
    "    13 орлов - (3*4*5*6*7*8*9*10*11*12*13*14*15)/(1*2*3*4*5*6*7*8*9*10*11*12*13) = 105\n",
    "    \n",
    "    Всего благоприятных исходов: 105 + 455 + 3003 + 6435 + 1365 + 105 = 11 468\n",
    "    \n",
    "    Вероятность: 11 468 / 32 768 = 0.349975586"
   ]
  },
  {
   "cell_type": "code",
   "execution_count": 5,
   "metadata": {},
   "outputs": [],
   "source": [
    "x = 2 # число выпадений орла из n попыток\n",
    "n = 15 # число попыток\n",
    "outcomes = {1, 0} # орел или решка\n",
    "prime_number = {2, 3, 5, 7, 11, 13}\n",
    "\n",
    "def proba(x, n, outcomes):\n",
    "    i = len(outcomes)**n # число всех исходов\n",
    "    y = f_(n)/(f_(n-x)*f_(x)) # число благоприятных исходов с выпадением x раз орла из n попыток\n",
    "    \n",
    "    return y/i"
   ]
  },
  {
   "cell_type": "code",
   "execution_count": 6,
   "metadata": {},
   "outputs": [
    {
     "name": "stdout",
     "output_type": "stream",
     "text": [
      "Вероятность выпадения простого числа орлов =  0.3499755859375\n"
     ]
    }
   ],
   "source": [
    "sumP = 0\n",
    "for x in range(1, n):\n",
    "    if x in prime_number:\n",
    "        sumP = sumP + proba(x, n, outcomes)\n",
    "\n",
    "print ('Вероятность выпадения простого числа орлов = ', sumP)"
   ]
  },
  {
   "cell_type": "code",
   "execution_count": 7,
   "metadata": {},
   "outputs": [
    {
     "data": {
      "text/plain": [
       "32768"
      ]
     },
     "execution_count": 7,
     "metadata": {},
     "output_type": "execute_result"
    }
   ],
   "source": [
    "2**15"
   ]
  },
  {
   "cell_type": "markdown",
   "metadata": {},
   "source": [
    "#### Задание 2\n",
    "\n",
    "Создайте свою дискретную случайную величину с не менее, чем 10 значениями.\n",
    "\n",
    "1. Просемплируйте 1000 случайных значений, \n",
    "2. Постройте гистограмму плотности распределения по выборке, \n",
    "3. Посчитайте среднее, дисперсию и медиану."
   ]
  },
  {
   "cell_type": "code",
   "execution_count": 102,
   "metadata": {},
   "outputs": [],
   "source": [
    "random_numbers = np.random.randint(low=1, high=11, size=1000)"
   ]
  },
  {
   "cell_type": "code",
   "execution_count": 111,
   "metadata": {},
   "outputs": [
    {
     "data": {
      "text/plain": [
       "<matplotlib.axes._subplots.AxesSubplot at 0x7ff9a34aff10>"
      ]
     },
     "execution_count": 111,
     "metadata": {},
     "output_type": "execute_result"
    },
    {
     "data": {
      "image/png": "[encoded data removed]",
      "text/plain": [
       "<Figure size 432x288 with 1 Axes>"
      ]
     },
     "metadata": {
      "needs_background": "light"
     },
     "output_type": "display_data"
    }
   ],
   "source": [
    "seaborn.distplot(random_numbers)"
   ]
  },
  {
   "cell_type": "code",
   "execution_count": 110,
   "metadata": {},
   "outputs": [
    {
     "data": {
      "text/plain": [
       "(5.543, 7.900151, 6.0)"
      ]
     },
     "execution_count": 110,
     "metadata": {},
     "output_type": "execute_result"
    }
   ],
   "source": [
    "mean = np.mean(random_numbers)\n",
    "variance = np.var(random_numbers)\n",
    "median = np.median(random_numbers)\n",
    "mean, variance, median"
   ]
  },
  {
   "cell_type": "code",
   "execution_count": null,
   "metadata": {},
   "outputs": [],
   "source": []
  },
  {
   "cell_type": "code",
   "execution_count": null,
   "metadata": {},
   "outputs": [],
   "source": []
  }
 ],
 "metadata": {
  "kernelspec": {
   "display_name": "Python 3",
   "language": "python",
   "name": "python3"
  },
  "language_info": {
   "codemirror_mode": {
    "name": "ipython",
    "version": 3
   },
   "file_extension": ".py",
   "mimetype": "text/x-python",
   "name": "python",
   "nbconvert_exporter": "python",
   "pygments_lexer": "ipython3",
   "version": "3.7.6"
  }
 },
 "nbformat": 4,
 "nbformat_minor": 4
}
