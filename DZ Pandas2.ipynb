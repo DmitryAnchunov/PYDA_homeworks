{
 "cells": [
  {
   "cell_type": "markdown",
   "metadata": {},
   "source": [
    "### Задание 1\n",
    "\n",
    "Для датафрейма log создайте столбец source_type с разметкой источников из traffic_source:\n",
    "* yandex или google - 'organic'\n",
    "* paid и email из России - 'ad'\n",
    "* paid и email не из России - 'other'\n",
    "* остальные - из traffic_source без изменений"
   ]
  },
  {
   "cell_type": "code",
   "execution_count": 2,
   "metadata": {},
   "outputs": [],
   "source": [
    "import pandas as pd"
   ]
  },
  {
   "cell_type": "code",
   "execution_count": 7,
   "metadata": {},
   "outputs": [
    {
     "data": {
      "text/html": [
       "<div>\n",
       "<style scoped>\n",
       "    .dataframe tbody tr th:only-of-type {\n",
       "        vertical-align: middle;\n",
       "    }\n",
       "\n",
       "    .dataframe tbody tr th {\n",
       "        vertical-align: top;\n",
       "    }\n",
       "\n",
       "    .dataframe thead th {\n",
       "        text-align: right;\n",
       "    }\n",
       "</style>\n",
       "<table border=\"1\" class=\"dataframe\">\n",
       "  <thead>\n",
       "    <tr style=\"text-align: right;\">\n",
       "      <th></th>\n",
       "      <th>timestamp</th>\n",
       "      <th>visit_id</th>\n",
       "      <th>url</th>\n",
       "      <th>region</th>\n",
       "      <th>user_id</th>\n",
       "      <th>traffic_source</th>\n",
       "    </tr>\n",
       "  </thead>\n",
       "  <tbody>\n",
       "    <tr>\n",
       "      <th>0</th>\n",
       "      <td>1549980692</td>\n",
       "      <td>e3b0c44298</td>\n",
       "      <td>https://host.ru/3c19b4ef7371864fa3</td>\n",
       "      <td>Russia</td>\n",
       "      <td>b1613cc09f</td>\n",
       "      <td>yandex</td>\n",
       "    </tr>\n",
       "    <tr>\n",
       "      <th>1</th>\n",
       "      <td>1549980704</td>\n",
       "      <td>6e340b9cff</td>\n",
       "      <td>https://host.ru/c8d9213a31839f9a3a</td>\n",
       "      <td>Russia</td>\n",
       "      <td>4c3ec14bee</td>\n",
       "      <td>direct</td>\n",
       "    </tr>\n",
       "  </tbody>\n",
       "</table>\n",
       "</div>"
      ],
      "text/plain": [
       "    timestamp    visit_id                                 url  region  \\\n",
       "0  1549980692  e3b0c44298  https://host.ru/3c19b4ef7371864fa3  Russia   \n",
       "1  1549980704  6e340b9cff  https://host.ru/c8d9213a31839f9a3a  Russia   \n",
       "\n",
       "      user_id traffic_source  \n",
       "0  b1613cc09f         yandex  \n",
       "1  4c3ec14bee         direct  "
      ]
     },
     "execution_count": 7,
     "metadata": {},
     "output_type": "execute_result"
    }
   ],
   "source": [
    "log = pd.read_csv('ml-latest-small/visit_log.csv', sep=';')\n",
    "log.head(2)"
   ]
  },
  {
   "cell_type": "code",
   "execution_count": 15,
   "metadata": {},
   "outputs": [],
   "source": [
    "def source_markup(row):\n",
    "    if row.traffic_source == 'yandex' or row.traffic_source == 'google':\n",
    "        return 'organic'\n",
    "    elif ((row.traffic_source == 'paid' or row.traffic_source == 'email') and row.region == 'Russia'):\n",
    "        return 'ad'\n",
    "    elif ((row.traffic_source == 'paid' or row.traffic_source == 'email') and row.region != 'Russia'):\n",
    "        return 'other'\n",
    "    else:\n",
    "        return row.traffic_source"
   ]
  },
  {
   "cell_type": "code",
   "execution_count": 26,
   "metadata": {},
   "outputs": [],
   "source": [
    "log['source_type'] = log.apply(source_markup, axis = 1)"
   ]
  },
  {
   "cell_type": "code",
   "execution_count": 31,
   "metadata": {},
   "outputs": [
    {
     "name": "stderr",
     "output_type": "stream",
     "text": [
      "/opt/anaconda3/lib/python3.7/site-packages/ipykernel_launcher.py:1: UserWarning: Boolean Series key will be reindexed to match DataFrame index.\n",
      "  \"\"\"Entry point for launching an IPython kernel.\n"
     ]
    },
    {
     "data": {
      "text/html": [
       "<div>\n",
       "<style scoped>\n",
       "    .dataframe tbody tr th:only-of-type {\n",
       "        vertical-align: middle;\n",
       "    }\n",
       "\n",
       "    .dataframe tbody tr th {\n",
       "        vertical-align: top;\n",
       "    }\n",
       "\n",
       "    .dataframe thead th {\n",
       "        text-align: right;\n",
       "    }\n",
       "</style>\n",
       "<table border=\"1\" class=\"dataframe\">\n",
       "  <thead>\n",
       "    <tr style=\"text-align: right;\">\n",
       "      <th></th>\n",
       "      <th>timestamp</th>\n",
       "      <th>visit_id</th>\n",
       "      <th>url</th>\n",
       "      <th>region</th>\n",
       "      <th>user_id</th>\n",
       "      <th>traffic_source</th>\n",
       "      <th>source_type</th>\n",
       "    </tr>\n",
       "  </thead>\n",
       "  <tbody>\n",
       "    <tr>\n",
       "      <th>1</th>\n",
       "      <td>1549980704</td>\n",
       "      <td>6e340b9cff</td>\n",
       "      <td>https://host.ru/c8d9213a31839f9a3a</td>\n",
       "      <td>Russia</td>\n",
       "      <td>4c3ec14bee</td>\n",
       "      <td>direct</td>\n",
       "      <td>direct</td>\n",
       "    </tr>\n",
       "    <tr>\n",
       "      <th>7</th>\n",
       "      <td>1549980754</td>\n",
       "      <td>837885c8f8</td>\n",
       "      <td>https://host.ru/108ce4b365afb7b88e</td>\n",
       "      <td>Russia</td>\n",
       "      <td>cb5082b6f6</td>\n",
       "      <td>direct</td>\n",
       "      <td>direct</td>\n",
       "    </tr>\n",
       "    <tr>\n",
       "      <th>8</th>\n",
       "      <td>1549980760</td>\n",
       "      <td>af5570f5a1</td>\n",
       "      <td>https://host.ru/3004a8273caeef2867</td>\n",
       "      <td>China</td>\n",
       "      <td>45664f7af2</td>\n",
       "      <td>direct</td>\n",
       "      <td>direct</td>\n",
       "    </tr>\n",
       "    <tr>\n",
       "      <th>10</th>\n",
       "      <td>1549980777</td>\n",
       "      <td>01d448afd9</td>\n",
       "      <td>https://host.ru/a5dda93e70318570c0</td>\n",
       "      <td>India</td>\n",
       "      <td>27e76a4a80</td>\n",
       "      <td>direct</td>\n",
       "      <td>direct</td>\n",
       "    </tr>\n",
       "    <tr>\n",
       "      <th>13</th>\n",
       "      <td>1549980792</td>\n",
       "      <td>dd46c3eebb</td>\n",
       "      <td>https://host.ru/3004a8273caeef2867</td>\n",
       "      <td>China</td>\n",
       "      <td>7e301c8c41</td>\n",
       "      <td>direct</td>\n",
       "      <td>direct</td>\n",
       "    </tr>\n",
       "  </tbody>\n",
       "</table>\n",
       "</div>"
      ],
      "text/plain": [
       "     timestamp    visit_id                                 url  region  \\\n",
       "1   1549980704  6e340b9cff  https://host.ru/c8d9213a31839f9a3a  Russia   \n",
       "7   1549980754  837885c8f8  https://host.ru/108ce4b365afb7b88e  Russia   \n",
       "8   1549980760  af5570f5a1  https://host.ru/3004a8273caeef2867   China   \n",
       "10  1549980777  01d448afd9  https://host.ru/a5dda93e70318570c0   India   \n",
       "13  1549980792  dd46c3eebb  https://host.ru/3004a8273caeef2867   China   \n",
       "\n",
       "       user_id traffic_source source_type  \n",
       "1   4c3ec14bee         direct      direct  \n",
       "7   cb5082b6f6         direct      direct  \n",
       "8   45664f7af2         direct      direct  \n",
       "10  27e76a4a80         direct      direct  \n",
       "13  7e301c8c41         direct      direct  "
      ]
     },
     "execution_count": 31,
     "metadata": {},
     "output_type": "execute_result"
    }
   ],
   "source": [
    "# проверка работы функции\n",
    "log[ log.source_type != 'other' ][log.source_type != 'ad' ][log.source_type != 'organic' ].head(5)"
   ]
  },
  {
   "cell_type": "code",
   "execution_count": null,
   "metadata": {},
   "outputs": [],
   "source": []
  },
  {
   "cell_type": "markdown",
   "metadata": {},
   "source": [
    "### Задание 2\n",
    "\n",
    "Задача: отфильтровать файл URLs.txt по адресам страниц с текстами новостей.\n",
    "\n",
    "Выполните следующие действия:\n",
    "1. Прочитайте содержимое файла с датафрейм\n",
    "2. Отфильтруйте страницы, используя метод str.contains и регулярное выражение в соответствии с заданным шаблоном\n",
    "> Шаблон страницы новостей имеет внутри url: /, затем 8 цифр, затем дефис."
   ]
  },
  {
   "cell_type": "code",
   "execution_count": 40,
   "metadata": {},
   "outputs": [],
   "source": [
    "import re"
   ]
  },
  {
   "cell_type": "code",
   "execution_count": 135,
   "metadata": {},
   "outputs": [],
   "source": [
    "log = pd.read_table('ml-latest-small/URLs.txt', sep='\\t+', engine='python')\n",
    "#log.head()"
   ]
  },
  {
   "cell_type": "code",
   "execution_count": 134,
   "metadata": {},
   "outputs": [],
   "source": [
    "w = log [log.url.str.contains(r'/\\d{8}-')].reset_index(drop = True)\n",
    "#w.head()"
   ]
  },
  {
   "cell_type": "code",
   "execution_count": 133,
   "metadata": {},
   "outputs": [],
   "source": [
    "q = w.url.str.extractall(r'(\\d{8})').reset_index()"
   ]
  },
  {
   "cell_type": "code",
   "execution_count": 132,
   "metadata": {},
   "outputs": [
    {
     "data": {
      "text/html": [
       "<div>\n",
       "<style scoped>\n",
       "    .dataframe tbody tr th:only-of-type {\n",
       "        vertical-align: middle;\n",
       "    }\n",
       "\n",
       "    .dataframe tbody tr th {\n",
       "        vertical-align: top;\n",
       "    }\n",
       "\n",
       "    .dataframe thead th {\n",
       "        text-align: right;\n",
       "    }\n",
       "</style>\n",
       "<table border=\"1\" class=\"dataframe\">\n",
       "  <thead>\n",
       "    <tr style=\"text-align: right;\">\n",
       "      <th></th>\n",
       "      <th>url</th>\n",
       "      <th>template</th>\n",
       "    </tr>\n",
       "  </thead>\n",
       "  <tbody>\n",
       "    <tr>\n",
       "      <th>0</th>\n",
       "      <td>/politics/36188461-s-marta-zhizn-rossiyan-susc...</td>\n",
       "      <td>36188461</td>\n",
       "    </tr>\n",
       "    <tr>\n",
       "      <th>1</th>\n",
       "      <td>/world/36007585-tramp-pridumal-kak-reshit-ukra...</td>\n",
       "      <td>36007585</td>\n",
       "    </tr>\n",
       "    <tr>\n",
       "      <th>2</th>\n",
       "      <td>/science/36157853-nasa-sobiraet-ekstrennuyu-pr...</td>\n",
       "      <td>36157853</td>\n",
       "    </tr>\n",
       "    <tr>\n",
       "      <th>3</th>\n",
       "      <td>/video/36001498-poyavilis-pervye-podrobnosti-g...</td>\n",
       "      <td>36001498</td>\n",
       "    </tr>\n",
       "    <tr>\n",
       "      <th>4</th>\n",
       "      <td>/world/36007585-tramp-pridumal-kak-reshit-ukra...</td>\n",
       "      <td>36007585</td>\n",
       "    </tr>\n",
       "  </tbody>\n",
       "</table>\n",
       "</div>"
      ],
      "text/plain": [
       "                                                 url  template\n",
       "0  /politics/36188461-s-marta-zhizn-rossiyan-susc...  36188461\n",
       "1  /world/36007585-tramp-pridumal-kak-reshit-ukra...  36007585\n",
       "2  /science/36157853-nasa-sobiraet-ekstrennuyu-pr...  36157853\n",
       "3  /video/36001498-poyavilis-pervye-podrobnosti-g...  36001498\n",
       "4  /world/36007585-tramp-pridumal-kak-reshit-ukra...  36007585"
      ]
     },
     "execution_count": 132,
     "metadata": {},
     "output_type": "execute_result"
    }
   ],
   "source": [
    "join = w.merge(q, how = 'left', left_index=True, right_index=True).filter(items = ['url', 0])\n",
    "join.rename(columns={0: 'template'}, inplace=True)\n",
    "join.head()\n",
    "#data"
   ]
  },
  {
   "cell_type": "code",
   "execution_count": null,
   "metadata": {},
   "outputs": [],
   "source": []
  },
  {
   "cell_type": "markdown",
   "metadata": {},
   "source": [
    "### Домашнее задание 3\n",
    "\n",
    "* в датафрейме data создайте столбец lemmas\n",
    "* вычислите леммы запросов из столбца keyword\n",
    "* леммы в столбец lemmas\n",
    "> Леммы должны иметь строковый тип."
   ]
  },
  {
   "cell_type": "code",
   "execution_count": 137,
   "metadata": {},
   "outputs": [],
   "source": [
    "data = pd.DataFrame({\n",
    "    'keyword': ['курс гривны к рублю', 'доллары в рубли', '100 долларов в рублях', 'курс рубля'],\n",
    "    'shows': [125076, 114173, 97534, 53546],\n",
    "})"
   ]
  },
  {
   "cell_type": "code",
   "execution_count": 138,
   "metadata": {},
   "outputs": [
    {
     "data": {
      "text/html": [
       "<div>\n",
       "<style scoped>\n",
       "    .dataframe tbody tr th:only-of-type {\n",
       "        vertical-align: middle;\n",
       "    }\n",
       "\n",
       "    .dataframe tbody tr th {\n",
       "        vertical-align: top;\n",
       "    }\n",
       "\n",
       "    .dataframe thead th {\n",
       "        text-align: right;\n",
       "    }\n",
       "</style>\n",
       "<table border=\"1\" class=\"dataframe\">\n",
       "  <thead>\n",
       "    <tr style=\"text-align: right;\">\n",
       "      <th></th>\n",
       "      <th>keyword</th>\n",
       "      <th>shows</th>\n",
       "    </tr>\n",
       "  </thead>\n",
       "  <tbody>\n",
       "    <tr>\n",
       "      <th>0</th>\n",
       "      <td>курс гривны к рублю</td>\n",
       "      <td>125076</td>\n",
       "    </tr>\n",
       "    <tr>\n",
       "      <th>1</th>\n",
       "      <td>доллары в рубли</td>\n",
       "      <td>114173</td>\n",
       "    </tr>\n",
       "    <tr>\n",
       "      <th>2</th>\n",
       "      <td>100 долларов в рублях</td>\n",
       "      <td>97534</td>\n",
       "    </tr>\n",
       "    <tr>\n",
       "      <th>3</th>\n",
       "      <td>курс рубля</td>\n",
       "      <td>53546</td>\n",
       "    </tr>\n",
       "  </tbody>\n",
       "</table>\n",
       "</div>"
      ],
      "text/plain": [
       "                 keyword   shows\n",
       "0    курс гривны к рублю  125076\n",
       "1        доллары в рубли  114173\n",
       "2  100 долларов в рублях   97534\n",
       "3             курс рубля   53546"
      ]
     },
     "execution_count": 138,
     "metadata": {},
     "output_type": "execute_result"
    }
   ],
   "source": [
    "data"
   ]
  },
  {
   "cell_type": "code",
   "execution_count": 140,
   "metadata": {},
   "outputs": [],
   "source": [
    "from pymystem3 import Mystem"
   ]
  },
  {
   "cell_type": "code",
   "execution_count": 151,
   "metadata": {},
   "outputs": [],
   "source": [
    "def calculation_lemmas(keyword):\n",
    "    m = Mystem()\n",
    "    lemmas = m.lemmatize(keyword)\n",
    "    return ' '.join(lemmas)"
   ]
  },
  {
   "cell_type": "code",
   "execution_count": 152,
   "metadata": {},
   "outputs": [],
   "source": [
    "data['lemmas'] = data.keyword.apply(calculation_lemmas)"
   ]
  },
  {
   "cell_type": "code",
   "execution_count": 154,
   "metadata": {},
   "outputs": [
    {
     "data": {
      "text/html": [
       "<div>\n",
       "<style scoped>\n",
       "    .dataframe tbody tr th:only-of-type {\n",
       "        vertical-align: middle;\n",
       "    }\n",
       "\n",
       "    .dataframe tbody tr th {\n",
       "        vertical-align: top;\n",
       "    }\n",
       "\n",
       "    .dataframe thead th {\n",
       "        text-align: right;\n",
       "    }\n",
       "</style>\n",
       "<table border=\"1\" class=\"dataframe\">\n",
       "  <thead>\n",
       "    <tr style=\"text-align: right;\">\n",
       "      <th></th>\n",
       "      <th>keyword</th>\n",
       "      <th>shows</th>\n",
       "      <th>lemmas</th>\n",
       "    </tr>\n",
       "  </thead>\n",
       "  <tbody>\n",
       "    <tr>\n",
       "      <th>0</th>\n",
       "      <td>курс гривны к рублю</td>\n",
       "      <td>125076</td>\n",
       "      <td>курс   гривна   к   рубль \\n</td>\n",
       "    </tr>\n",
       "    <tr>\n",
       "      <th>1</th>\n",
       "      <td>доллары в рубли</td>\n",
       "      <td>114173</td>\n",
       "      <td>доллар   в   рубль \\n</td>\n",
       "    </tr>\n",
       "    <tr>\n",
       "      <th>2</th>\n",
       "      <td>100 долларов в рублях</td>\n",
       "      <td>97534</td>\n",
       "      <td>100   доллар   в   рубль \\n</td>\n",
       "    </tr>\n",
       "    <tr>\n",
       "      <th>3</th>\n",
       "      <td>курс рубля</td>\n",
       "      <td>53546</td>\n",
       "      <td>курс   рубль \\n</td>\n",
       "    </tr>\n",
       "  </tbody>\n",
       "</table>\n",
       "</div>"
      ],
      "text/plain": [
       "                 keyword   shows                        lemmas\n",
       "0    курс гривны к рублю  125076  курс   гривна   к   рубль \\n\n",
       "1        доллары в рубли  114173         доллар   в   рубль \\n\n",
       "2  100 долларов в рублях   97534   100   доллар   в   рубль \\n\n",
       "3             курс рубля   53546               курс   рубль \\n"
      ]
     },
     "execution_count": 154,
     "metadata": {},
     "output_type": "execute_result"
    }
   ],
   "source": [
    "data"
   ]
  },
  {
   "cell_type": "code",
   "execution_count": null,
   "metadata": {},
   "outputs": [],
   "source": []
  }
 ],
 "metadata": {
  "kernelspec": {
   "display_name": "Python 3",
   "language": "python",
   "name": "python3"
  },
  "language_info": {
   "codemirror_mode": {
    "name": "ipython",
    "version": 3
   },
   "file_extension": ".py",
   "mimetype": "text/x-python",
   "name": "python",
   "nbconvert_exporter": "python",
   "pygments_lexer": "ipython3",
   "version": "3.7.6"
  }
 },
 "nbformat": 4,
 "nbformat_minor": 4
}
