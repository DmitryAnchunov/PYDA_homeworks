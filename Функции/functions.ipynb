{
 "cells": [
  {
   "cell_type": "markdown",
   "metadata": {},
   "source": [
    "Вы работаете секретарем и вам постоянно приходят различные документы. Вы должны быть очень внимательны, чтобы не потерять ни один документ. Каталог документов хранится в следующем виде:"
   ]
  },
  {
   "cell_type": "code",
   "execution_count": 163,
   "metadata": {},
   "outputs": [],
   "source": [
    "documents = [\n",
    "    {'type': 'passport', 'number': '2207 876234', 'name': 'Василий Гупкин'},\n",
    "    {'type': 'invoice', 'number': '11-2', 'name': 'Геннадий Покемонов'},\n",
    "    {'type': 'insurance', 'number': '10006', 'name': 'Аристарх Павлов'}\n",
    "]"
   ]
  },
  {
   "cell_type": "markdown",
   "metadata": {},
   "source": [
    "Перечень полок, на которых находятся документы хранится в следующем виде:"
   ]
  },
  {
   "cell_type": "code",
   "execution_count": 164,
   "metadata": {},
   "outputs": [],
   "source": [
    "directories = {\n",
    "    '1': ['2207 876234', '11-2'],\n",
    "    '2': ['10006'],\n",
    "    '3': []\n",
    "}"
   ]
  },
  {
   "cell_type": "code",
   "execution_count": 170,
   "metadata": {},
   "outputs": [
    {
     "name": "stdout",
     "output_type": "stream",
     "text": [
      "Введите команду (Найти: p - имя, s - полку, l - список документов; Добавить: as - новую полку, a - документ; Другое: m - переместить документ, d - удалить документ): a\n",
      "Для добавления документа, введите тип документа: pass\n",
      "Для добавления документа, введите номер документа: 1234\n",
      "Для добавления документа, введите имя владельца: Dm\n",
      "Для добавления документа, введите полку назначения: 4\n",
      "Полки с номером 4 не обнаружено выберите полку с номером от 1 до 3\n"
     ]
    }
   ],
   "source": [
    "# Запрос кода команды\n",
    "command = input('Введите команду (Найти: p - имя, s - полку, l - список документов; Добавить: as - новую полку, a - документ; \\\n",
    "Другое: m - переместить документ, d - удалить документ): ')\n",
    "if command == 'p':\n",
    "    search_name_by_doc()\n",
    "elif command == 's':\n",
    "    search_shelf_by_doc()\n",
    "elif command == 'as':\n",
    "    add_new_shelf()\n",
    "elif command == 'l': \n",
    "    output_list_all_doc()\n",
    "elif command == 'a':\n",
    "    adds_newdoc_ctlg_shlf()\n",
    "elif command == 'm':\n",
    "    move_doc_an_shelf()\n",
    "elif command == 'd':\n",
    "    del_doc_frm_ctlg_shlvs()\n",
    "else:\n",
    "    print('? Вы ввели неизвестную команду')"
   ]
  },
  {
   "cell_type": "code",
   "execution_count": 85,
   "metadata": {},
   "outputs": [],
   "source": [
    "#p – people по /номеру документа/ выводит /имя/\n",
    "def search_name_by_doc():\n",
    "    a = 0\n",
    "    number_doc = input('Для поиска имен, введите номер документа: ')\n",
    "    for name_number in documents:\n",
    "        a = a + 1\n",
    "        if name_number['number'] == number_doc:\n",
    "            print(name_number['name'])\n",
    "            break\n",
    "        if a == len(documents):\n",
    "            print('Документа с номером', number_doc, 'в каталоге не обнаружено')"
   ]
  },
  {
   "cell_type": "code",
   "execution_count": 88,
   "metadata": {},
   "outputs": [],
   "source": [
    "#s – shelf по /номеру документа/ выводит /номер полки/\n",
    "def search_shelf_by_doc():\n",
    "    a = 0\n",
    "    number_doc = input('Для поиска полки, введите номер документа: ')\n",
    "    for key, number in directories.items():\n",
    "        a = a + 1\n",
    "        if number_doc in number:\n",
    "            print('Полка номер #', key, 'содержит документ #', number_doc)\n",
    "            break\n",
    "        if a == len(directories):\n",
    "            print('Документа с номером', number_doc, 'не обнаружено')"
   ]
  },
  {
   "cell_type": "code",
   "execution_count": 120,
   "metadata": {},
   "outputs": [],
   "source": [
    "#l – list /список/ всех документов в формате\n",
    "def output_list_all_doc():\n",
    "    for list_doc in documents:\n",
    "        print(list_doc['type'], ' \"', list_doc['number'], '\"  \"', list_doc['name'], '\"', sep='')"
   ]
  },
  {
   "cell_type": "code",
   "execution_count": 92,
   "metadata": {},
   "outputs": [],
   "source": [
    "#as - add shelf добавляет номер новой полки\n",
    "def add_new_shelf():\n",
    "    number_shl = input('Для добавления введите номер новой полки: ')\n",
    "    if number_shl in directories:\n",
    "        print('Полка с номером #', 'существует, выберите другой номер')\n",
    "    else:\n",
    "        directories[str(number_shl)] = []\n",
    "        print('Добавлена новая полка #', number_shl)"
   ]
  },
  {
   "cell_type": "code",
   "execution_count": 141,
   "metadata": {},
   "outputs": [],
   "source": [
    "#d – delete по /номеру документа/ удаляет его из каталога и из перечня полок\n",
    "def del_doc_frm_ctlg_shlvs():\n",
    "    number_doc = input('Для удаления записей, введите номер документа: ')\n",
    "    for i in range(len(documents)):\n",
    "        if documents[i]['number'] == number_doc:\n",
    "            del documents[i]\n",
    "            print('Документ #', number_doc, 'удален')\n",
    "            break\n",
    "        if i == len(documents) - 1:\n",
    "            print('Документа с номером', number_doc, 'не обнаружено')\n",
    "    for x in directories.values():\n",
    "        if number_doc in x:\n",
    "            x.remove(number_doc)\n",
    "            break\n",
    "#    [print(q) for q in documents]\n",
    "#    [print(w) for w in directories.items()]"
   ]
  },
  {
   "cell_type": "code",
   "execution_count": 162,
   "metadata": {},
   "outputs": [],
   "source": [
    "#m – move по /номеру документа/ перемещает его на /целевую полку/\n",
    "def move_doc_an_shelf():\n",
    "    a = 0\n",
    "    number_doc = input('Для перемещения документа, введите номер документа: ')\n",
    "    number_shelf = input('Для перемещения документа, введите полку назначения: ')\n",
    "    if int(number_shelf) <= len(directories):\n",
    "        for shelf in directories.values():\n",
    "            a = a + 1\n",
    "            if number_doc in shelf:\n",
    "                shelf.remove(number_doc)\n",
    "                directories[number_shelf].append(number_doc)\n",
    "                print('Документ #', number_doc, 'перемещен на полку #', number_shelf)\n",
    "                break\n",
    "            if a == len(directories):\n",
    "                print('Документа с номером', number_doc, 'не обнаружено')\n",
    "    else:\n",
    "        print('Полки с номером', number_shelf, 'не обнаружено')\n",
    "        print(directories)"
   ]
  },
  {
   "cell_type": "code",
   "execution_count": 171,
   "metadata": {},
   "outputs": [],
   "source": [
    "#a – add – добавляет новый документ в каталог и в перечень полок (/номер, тип, имя владельца и номер полки/)\n",
    "def adds_newdoc_ctlg_shlf():\n",
    "    type_doc = input('Для добавления документа, введите тип документа: ')\n",
    "    number_doc = input('Для добавления документа, введите номер документа: ')\n",
    "    owner_name = input('Для добавления документа, введите имя владельца: ')\n",
    "    number_shelf = input('Для добавления документа, введите полку назначения: ')\n",
    "    if int(number_shelf) <= len(directories):\n",
    "        documents.append({'type': type_doc, 'number': number_doc, 'name': owner_name})\n",
    "        directories[number_shelf].append(number_doc)\n",
    "        print('Документ #', number_doc, 'зарегистрирован на полке #', number_shelf)\n",
    "    else:\n",
    "        print('Полки с номером', number_shelf, 'не обнаружено,', 'выберите полку с номером от 1 до', len(directories))    "
   ]
  },
  {
   "cell_type": "code",
   "execution_count": null,
   "metadata": {},
   "outputs": [],
   "source": []
  },
  {
   "cell_type": "markdown",
   "metadata": {},
   "source": [
    "Необходимо реализовать пользовательские команды (внимание! это не название функций, которые должны быть выразительными, а команды, которые вводит пользователь, чтобы получить необходимый результат):\n",
    "  \n",
    "- p – people – команда, которая спросит номер документа и выведет имя человека, которому он принадлежит;  \n",
    "- s – shelf – команда, которая спросит номер документа и выведет номер полки, на которой он находится  \n",
    "*Правильно обработайте ситуации, когда пользователь будет вводить несуществующий документ*.\n",
    "- l – list – команда, которая выведет список всех документов в формате   \n",
    "**passport \"2207 876234\" \"Василий Гупкин\"**  \n",
    "- as – add shelf – команда, которая спросит номер новой полки и добавит ее в перечень. *Предусмотрите случай, когда пользователь добавляет полку, которая уже существует*.\n",
    "- d – delete – команда, которая спросит номер документа и удалит его из каталога и из перечня полок. *Предусмотрите сценарий, когда пользователь вводит несуществующий документ*;  \n",
    "- m – move – команда, которая спросит номер документа и целевую полку и переместит его с текущей полки на целевую. *Корректно обработайте кейсы, когда пользователь пытается переместить несуществующий документ или переместить документ на несуществующую полку*;  \n",
    "- a – add – команда, которая добавит новый документ в каталог и в перечень полок, спросив его номер, тип, имя владельца и номер полки, на котором он будет храниться. *Корректно обработайте ситуацию, когда пользователь будет пытаться добавить документ на несуществующую полку*."
   ]
  }
 ],
 "metadata": {
  "kernelspec": {
   "display_name": "Python 3",
   "language": "python",
   "name": "python3"
  },
  "language_info": {
   "codemirror_mode": {
    "name": "ipython",
    "version": 3
   },
   "file_extension": ".py",
   "mimetype": "text/x-python",
   "name": "python",
   "nbconvert_exporter": "python",
   "pygments_lexer": "ipython3",
   "version": "3.7.6"
  }
 },
 "nbformat": 4,
 "nbformat_minor": 2
}
