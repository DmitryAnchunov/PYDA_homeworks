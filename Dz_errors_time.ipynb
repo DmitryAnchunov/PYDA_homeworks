{
 "cells": [
  {
   "cell_type": "code",
   "execution_count": null,
   "metadata": {},
   "outputs": [],
   "source": [
    "# Задание 1\n",
    "# Печатные газеты использовали свой формат дат для каждого выпуска. Для каждой газеты из списка напишите формат \n",
    "# указанной даты для перевода в объект datetime:\n",
    "\n",
    "# The Moscow Times - Wednesday, October 2, 2002\n",
    "# The Guardian - Friday, 11.10.13\n",
    "# Daily News - Thursday, 18 August 1977"
   ]
  },
  {
   "cell_type": "code",
   "execution_count": 1,
   "metadata": {},
   "outputs": [],
   "source": [
    "from datetime import datetime"
   ]
  },
  {
   "cell_type": "code",
   "execution_count": 14,
   "metadata": {},
   "outputs": [],
   "source": [
    "list_newsp = {'The Moscow Times':'Wednesday, October 2, 2002', \n",
    "              'The Guardian':'Friday, 11.10.13', \n",
    "              'Daily News':'Thursday, 18 August 1977'}"
   ]
  },
  {
   "cell_type": "code",
   "execution_count": 24,
   "metadata": {},
   "outputs": [
    {
     "data": {
      "text/plain": [
       "datetime.datetime(1977, 8, 18, 0, 0)"
      ]
     },
     "execution_count": 24,
     "metadata": {},
     "output_type": "execute_result"
    }
   ],
   "source": [
    "list_newsp_dt1 = datetime.strptime(list_newsp['The Moscow Times'], '%A, %B %d, %Y')\n",
    "list_newsp_dt2 = datetime.strptime(list_newsp['The Guardian'], '%A, %d.%m.%y')\n",
    "list_newsp_dt3 = datetime.strptime(list_newsp['Daily News'], '%A, %d %B %Y')\n",
    "list_newsp_dt3"
   ]
  },
  {
   "cell_type": "code",
   "execution_count": null,
   "metadata": {},
   "outputs": [],
   "source": [
    "# Задание 2\n",
    "# Дан поток дат в формате YYYY-MM-DD, в которых встречаются некорректные значения:\n",
    "# stream = [‘2018-04-02’, ‘2018-02-29’, ‘2018-19-02’]\n",
    "\n",
    "# Напишите функцию, которая проверяет эти даты на корректность. \n",
    "# т.е. для каждой даты возвращает True (дата корректна) или False (некорректная дата)."
   ]
  },
  {
   "cell_type": "code",
   "execution_count": 30,
   "metadata": {},
   "outputs": [],
   "source": [
    "stream = ['2018-04-02', '2018-02-29', '2018-19-02']"
   ]
  },
  {
   "cell_type": "code",
   "execution_count": 32,
   "metadata": {},
   "outputs": [
    {
     "name": "stdout",
     "output_type": "stream",
     "text": [
      "2018-04-02 True\n",
      "2018-02-29 False\n",
      "2018-19-02 False\n"
     ]
    }
   ],
   "source": [
    "for date in stream:\n",
    "    try:\n",
    "        datetime.strptime(date, '%Y-%m-%d')\n",
    "        print(date, True)\n",
    "\n",
    "    except:\n",
    "        print(date, False)"
   ]
  },
  {
   "cell_type": "code",
   "execution_count": null,
   "metadata": {},
   "outputs": [],
   "source": [
    "# Задание 3\n",
    "# Напишите функцию date_range, которая возвращает список дат за период от start_date до end_date. \n",
    "# Даты должны вводиться в формате YYYY-MM-DD. \n",
    "# В случае неверного формата или при start_date > end_date должен возвращаться пустой список."
   ]
  },
  {
   "cell_type": "code",
   "execution_count": 86,
   "metadata": {},
   "outputs": [],
   "source": [
    "def date_range(start_date, end_date):\n",
    "    from datetime import timedelta\n",
    "    date_list = []\n",
    "    try:\n",
    "        std = datetime.strptime(start_date, '%Y-%m-%d')\n",
    "        end = datetime.strptime(end_date, '%Y-%m-%d')\n",
    "        while start_date <= end_date:\n",
    "            date_list.append(std.strftime('%Y-%m-%d'))\n",
    "            std += timedelta(days=1)\n",
    "            start_date = datetime.strftime(std, '%Y-%m-%d')\n",
    "    except:\n",
    "        date_list = []\n",
    "        print('Дата введена неверно')\n",
    "    print(date_list)"
   ]
  },
  {
   "cell_type": "code",
   "execution_count": 88,
   "metadata": {},
   "outputs": [
    {
     "name": "stdout",
     "output_type": "stream",
     "text": [
      "Дата введена неверно\n",
      "[]\n"
     ]
    }
   ],
   "source": [
    "date_range('2020-07-01', '2020-17-04')"
   ]
  },
  {
   "cell_type": "code",
   "execution_count": null,
   "metadata": {},
   "outputs": [],
   "source": [
    "# Задание 4 (бонусное) Ваш коллега прислал код функции.\n",
    "# При однократном вызове все корректно: delete_and_return_last_user(1) - ‘A101’\n",
    "# При повторном - ошибка IndexError: list index out of range.\n",
    "\n",
    "# Что значит ошибка list index out of range?\n",
    "# Почему при первом запуске функция работает корректно, а при втором - нет?"
   ]
  },
  {
   "cell_type": "code",
   "execution_count": 101,
   "metadata": {},
   "outputs": [],
   "source": [
    "default_user_count = 3\n",
    "def delete_and_return_last_user(region, default_list=['A100', 'A101', 'A102']):\n",
    "# Удаляет из списка default_list последнего пользователя и возвращает ID нового последнего пользователя.\n",
    "    \n",
    "    element_to_delete = default_list[-1]\n",
    "    default_list.remove(element_to_delete)\n",
    "    \n",
    "    return default_list[len(default_list)-1]"
   ]
  },
  {
   "cell_type": "code",
   "execution_count": 103,
   "metadata": {},
   "outputs": [
    {
     "data": {
      "text/plain": [
       "'A100'"
      ]
     },
     "execution_count": 103,
     "metadata": {},
     "output_type": "execute_result"
    }
   ],
   "source": [
    "delete_and_return_last_user(1)"
   ]
  },
  {
   "cell_type": "code",
   "execution_count": null,
   "metadata": {},
   "outputs": [],
   "source": [
    "# Функция return возвращает опеределенный номер в списке default_list\n",
    "# Список при удалении посл. значения уменьшается, а значение вызываемого номера в списке остается неизменным: DEFAULT_USER_COUNT-2\n",
    "# Код падает и выдает ошибку 'list index out of range', потому что при повт запуске номер в списке больше длины списка"
   ]
  },
  {
   "cell_type": "code",
   "execution_count": null,
   "metadata": {},
   "outputs": [],
   "source": []
  }
 ],
 "metadata": {
  "kernelspec": {
   "display_name": "Python 3",
   "language": "python",
   "name": "python3"
  },
  "language_info": {
   "codemirror_mode": {
    "name": "ipython",
    "version": 3
   },
   "file_extension": ".py",
   "mimetype": "text/x-python",
   "name": "python",
   "nbconvert_exporter": "python",
   "pygments_lexer": "ipython3",
   "version": "3.7.6"
  }
 },
 "nbformat": 4,
 "nbformat_minor": 4
}
