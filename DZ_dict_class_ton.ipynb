{
 "cells": [
  {
   "cell_type": "markdown",
   "metadata": {},
   "source": [
    "## Домашнее задание по NLP # 2 [100 баллов]"
   ]
  },
  {
   "cell_type": "markdown",
   "metadata": {},
   "source": [
    "#### Составление словарей для классификации по тональности"
   ]
  },
  {
   "cell_type": "markdown",
   "metadata": {},
   "source": [
    "1) Разбейте всю коллекцию отзывов на предложения. \n",
    "\n",
    "2) Лемматизируйте все слова.\n",
    "\n",
    "3) Обучите по коллекции предложений word2vec\n",
    "\n",
    "4) Приведите несколько удачных и неудачных примеров решения стандартных текстов для word2vec:\n",
    "    * тест на определение ближайших слов\n",
    "    * тест на аналогии (мужчина – король : женщина – королева)\n",
    "    * тест на определение лишнего слова\n",
    "\n",
    "5) Постройте несколько визуализаций:\n",
    "    1. TSNE для топ-100 (или топ-500) слов и найдите осмысленные кластеры слов\n",
    "    2. задайте координаты для нового пространства следующим образом:\n",
    "\n",
    "- одна ось описывает отношение \"плохо – хорошо\", \n",
    "- вторая – \"медленно – быстро\" \n",
    "    \n",
    "    3. найдите координаты названий банков в этих координатах."
   ]
  },
  {
   "cell_type": "code",
   "execution_count": 1,
   "metadata": {},
   "outputs": [],
   "source": [
    "import json\n",
    "import bz2\n",
    "import regex\n",
    "from tqdm import tqdm\n",
    "import pandas as pd"
   ]
  },
  {
   "cell_type": "code",
   "execution_count": 2,
   "metadata": {},
   "outputs": [
    {
     "name": "stderr",
     "output_type": "stream",
     "text": [
      "201030it [00:28, 7094.36it/s]\n"
     ]
    }
   ],
   "source": [
    "responses = []\n",
    "with open('banki_responses.json', 'r') as thefile:\n",
    "    for row in tqdm(thefile):\n",
    "        resp = json.loads(row)\n",
    "        if not resp['rating_not_checked'] and (len(resp['text'].split()) > 0):\n",
    "            responses.append(resp)"
   ]
  },
  {
   "cell_type": "code",
   "execution_count": 3,
   "metadata": {},
   "outputs": [],
   "source": [
    "data = pd.DataFrame.from_dict(responses)\n",
    "data = data.dropna()"
   ]
  },
  {
   "cell_type": "code",
   "execution_count": 4,
   "metadata": {},
   "outputs": [
    {
     "data": {
      "text/html": [
       "<div>\n",
       "<style scoped>\n",
       "    .dataframe tbody tr th:only-of-type {\n",
       "        vertical-align: middle;\n",
       "    }\n",
       "\n",
       "    .dataframe tbody tr th {\n",
       "        vertical-align: top;\n",
       "    }\n",
       "\n",
       "    .dataframe thead th {\n",
       "        text-align: right;\n",
       "    }\n",
       "</style>\n",
       "<table border=\"1\" class=\"dataframe\">\n",
       "  <thead>\n",
       "    <tr style=\"text-align: right;\">\n",
       "      <th></th>\n",
       "      <th>city</th>\n",
       "      <th>rating_not_checked</th>\n",
       "      <th>title</th>\n",
       "      <th>num_comments</th>\n",
       "      <th>bank_license</th>\n",
       "      <th>author</th>\n",
       "      <th>bank_name</th>\n",
       "      <th>datetime</th>\n",
       "      <th>text</th>\n",
       "      <th>rating_grade</th>\n",
       "    </tr>\n",
       "  </thead>\n",
       "  <tbody>\n",
       "    <tr>\n",
       "      <th>14</th>\n",
       "      <td>г. Москва</td>\n",
       "      <td>False</td>\n",
       "      <td>В Шоке</td>\n",
       "      <td>0</td>\n",
       "      <td>лицензия № 2673</td>\n",
       "      <td>yura1189</td>\n",
       "      <td>Тинькофф Банк</td>\n",
       "      <td>2015-06-05 13:52:40</td>\n",
       "      <td>Также как и многие давний клиент банка, был до...</td>\n",
       "      <td>2.0</td>\n",
       "    </tr>\n",
       "    <tr>\n",
       "      <th>19</th>\n",
       "      <td>г. Москва</td>\n",
       "      <td>False</td>\n",
       "      <td>Некомпетентность сотрудников банка</td>\n",
       "      <td>2</td>\n",
       "      <td>лицензия № 1481</td>\n",
       "      <td>agelun</td>\n",
       "      <td>Сбербанк России</td>\n",
       "      <td>2015-06-05 15:00:54</td>\n",
       "      <td>Открыт вклад и счет в USD. Плюс к этому есть з...</td>\n",
       "      <td>1.0</td>\n",
       "    </tr>\n",
       "  </tbody>\n",
       "</table>\n",
       "</div>"
      ],
      "text/plain": [
       "         city  rating_not_checked                               title  \\\n",
       "14  г. Москва               False                              В Шоке   \n",
       "19  г. Москва               False  Некомпетентность сотрудников банка   \n",
       "\n",
       "    num_comments     bank_license    author        bank_name  \\\n",
       "14             0  лицензия № 2673  yura1189    Тинькофф Банк   \n",
       "19             2  лицензия № 1481    agelun  Сбербанк России   \n",
       "\n",
       "               datetime                                               text  \\\n",
       "14  2015-06-05 13:52:40  Также как и многие давний клиент банка, был до...   \n",
       "19  2015-06-05 15:00:54  Открыт вклад и счет в USD. Плюс к этому есть з...   \n",
       "\n",
       "    rating_grade  \n",
       "14           2.0  \n",
       "19           1.0  "
      ]
     },
     "execution_count": 4,
     "metadata": {},
     "output_type": "execute_result"
    }
   ],
   "source": [
    "data.head(2)"
   ]
  },
  {
   "cell_type": "code",
   "execution_count": 5,
   "metadata": {},
   "outputs": [],
   "source": [
    "positive = data[data.rating_grade == 5]\n",
    "negative = data[data.rating_grade == 1]"
   ]
  },
  {
   "cell_type": "code",
   "execution_count": 6,
   "metadata": {},
   "outputs": [],
   "source": [
    "comments_pos = list(positive.text)\n",
    "comments_neg = list(negative.text)"
   ]
  },
  {
   "cell_type": "code",
   "execution_count": 7,
   "metadata": {},
   "outputs": [
    {
     "data": {
      "text/plain": [
       "10511"
      ]
     },
     "execution_count": 7,
     "metadata": {},
     "output_type": "execute_result"
    }
   ],
   "source": [
    "len(comments_pos)"
   ]
  },
  {
   "cell_type": "code",
   "execution_count": 80,
   "metadata": {},
   "outputs": [],
   "source": [
    "import pymorphy2\n",
    "import re\n",
    "\n",
    "m = pymorphy2.MorphAnalyzer()\n",
    "\n",
    "regex = re.compile(\"[А-Яа-яA-z]+\")\n",
    "\n",
    "def words_only(text, regex=regex):\n",
    "    try:\n",
    "        text = re.sub(r'\\s+', ' ', text)\n",
    "        return regex.findall(text)\n",
    "    except:\n",
    "        return []\n",
    "\n",
    "def lemmatize(text, pymorphy=m):\n",
    "    try:\n",
    "        return [pymorphy.parse(w.lower())[0].normal_form for w in text]\n",
    "    except:\n",
    "        return \" \""
   ]
  },
  {
   "cell_type": "code",
   "execution_count": 82,
   "metadata": {},
   "outputs": [
    {
     "data": {
      "text/plain": [
       "['Жаль',\n",
       " 'что',\n",
       " 'прикрыли',\n",
       " 'прием',\n",
       " 'вкладов',\n",
       " 'в',\n",
       " 'офисе',\n",
       " 'Озерки',\n",
       " 'доступность',\n",
       " 'офиса',\n",
       " 'для',\n",
       " 'меня']"
      ]
     },
     "execution_count": 82,
     "metadata": {},
     "output_type": "execute_result"
    }
   ],
   "source": [
    "words_only(sent_tokenize(comments_pos[0])[5])"
   ]
  },
  {
   "cell_type": "code",
   "execution_count": 73,
   "metadata": {},
   "outputs": [
    {
     "data": {
      "text/plain": [
       "['Досрочно закрывали вклады перед отпуском.',\n",
       " 'Жена заказывала заранее, но забыла заказать на меня.',\n",
       " 'Сотрудник банка (СПБ Ленсовета 89) Наталья не отказала мне, хотя сумма значительная.',\n",
       " 'Работает быстро, профессионально.',\n",
       " 'Ничего лишнего.',\n",
       " 'Жаль, что прикрыли прием вкладов в офисе Озерки - доступность офиса для меня.',\n",
       " 'Заметил, что и несут деньги во вклады и берут кредиты.',\n",
       " 'Желаю успехов банку.']"
      ]
     },
     "execution_count": 73,
     "metadata": {},
     "output_type": "execute_result"
    }
   ],
   "source": [
    "sent_tokenize(comments_pos[0])"
   ]
  },
  {
   "cell_type": "code",
   "execution_count": 83,
   "metadata": {},
   "outputs": [],
   "source": [
    "from nltk.corpus import stopwords\n",
    "from nltk.tokenize import sent_tokenize\n",
    "\n",
    "def clean_text(comments, remove_stopwords=True):\n",
    "    \n",
    "    sentences = []\n",
    "\n",
    "    for i in tqdm(comments, total = len(comments)):\n",
    "\n",
    "        sents = sent_tokenize(i)\n",
    "\n",
    "        for ii in sents:\n",
    "\n",
    "            sents_w = words_only(ii)\n",
    "\n",
    "            if remove_stopwords:\n",
    "                stops = stopwords.words(\"russian\")\n",
    "                sents_w = [w for w in sents_w if not w in stops]\n",
    "            \n",
    "            sents_w_l = lemmatize(sents_w)\n",
    "            sentences.append(sents_w_l)\n",
    "\n",
    "    return sentences"
   ]
  },
  {
   "cell_type": "code",
   "execution_count": 260,
   "metadata": {},
   "outputs": [
    {
     "data": {
      "application/vnd.jupyter.widget-view+json": {
       "model_id": "164b9607a636446c88ba92278405055f",
       "version_major": 2,
       "version_minor": 0
      },
      "text/plain": [
       "HBox(children=(IntProgress(value=0, max=10511), HTML(value='')))"
      ]
     },
     "metadata": {},
     "output_type": "display_data"
    },
    {
     "name": "stdout",
     "output_type": "stream",
     "text": [
      "\n"
     ]
    }
   ],
   "source": [
    "pos = clean_text(comments_pos)"
   ]
  },
  {
   "cell_type": "code",
   "execution_count": 149,
   "metadata": {},
   "outputs": [
    {
     "name": "stderr",
     "output_type": "stream",
     "text": [
      "100%|██████████| 39855/39855 [22:48<00:00, 29.12it/s]\n"
     ]
    }
   ],
   "source": [
    "neg = clean_text(comments_neg)"
   ]
  },
  {
   "cell_type": "code",
   "execution_count": 150,
   "metadata": {},
   "outputs": [],
   "source": [
    "from gensim.models import Word2Vec\n",
    "w2v_model = Word2Vec(\n",
    "    min_count=10,\n",
    "    window=2,\n",
    "    size=300,\n",
    "    negative=10,\n",
    "    alpha=0.03,\n",
    "    min_alpha=0.0007,\n",
    "    sample=6e-5,\n",
    "    sg=0)\n",
    "\n",
    "w2v_model_neg = Word2Vec(\n",
    "    min_count=10,\n",
    "    window=2,\n",
    "    size=300,\n",
    "    negative=10,\n",
    "    alpha=0.03,\n",
    "    min_alpha=0.0007,\n",
    "    sample=6e-5,\n",
    "    sg=0)"
   ]
  },
  {
   "cell_type": "code",
   "execution_count": 160,
   "metadata": {},
   "outputs": [],
   "source": [
    "w2v_model.build_vocab(pos)"
   ]
  },
  {
   "cell_type": "code",
   "execution_count": 151,
   "metadata": {},
   "outputs": [],
   "source": [
    "w2v_model_neg.build_vocab(neg)"
   ]
  },
  {
   "cell_type": "code",
   "execution_count": 161,
   "metadata": {},
   "outputs": [
    {
     "data": {
      "text/plain": [
       "(22972243, 50137950)"
      ]
     },
     "execution_count": 161,
     "metadata": {},
     "output_type": "execute_result"
    }
   ],
   "source": [
    "w2v_model.train(pos, total_examples=w2v_model.corpus_count, epochs=30, report_delay=1)"
   ]
  },
  {
   "cell_type": "code",
   "execution_count": 153,
   "metadata": {},
   "outputs": [
    {
     "data": {
      "text/plain": [
       "(101549345, 219986100)"
      ]
     },
     "execution_count": 153,
     "metadata": {},
     "output_type": "execute_result"
    }
   ],
   "source": [
    "w2v_model_neg.train(neg, total_examples=w2v_model_neg.corpus_count, epochs=30, report_delay=1)"
   ]
  },
  {
   "cell_type": "code",
   "execution_count": 177,
   "metadata": {},
   "outputs": [
    {
     "data": {
      "text/plain": [
       "['досрочно',\n",
       " 'закрывать',\n",
       " 'вклад',\n",
       " 'отпуск',\n",
       " 'жена',\n",
       " 'заказывать',\n",
       " 'заранее',\n",
       " 'забыть',\n",
       " 'заказать',\n",
       " 'сотрудник']"
      ]
     },
     "execution_count": 177,
     "metadata": {},
     "output_type": "execute_result"
    }
   ],
   "source": [
    "vocabulary = w2v_model.wv.vocab\n",
    "list(vocabulary.keys())[:10]"
   ]
  },
  {
   "cell_type": "markdown",
   "metadata": {},
   "source": [
    "#### Тест на ближайшие слова"
   ]
  },
  {
   "cell_type": "code",
   "execution_count": 90,
   "metadata": {},
   "outputs": [
    {
     "data": {
      "text/plain": [
       "[('сбер', 0.5389305353164673),\n",
       " ('втб', 0.4748550057411194),\n",
       " ('мкб', 0.4336012601852417),\n",
       " ('впб', 0.4152097702026367),\n",
       " ('ситибанк', 0.4122902452945709),\n",
       " ('райффайзенбанк', 0.4120444059371948),\n",
       " ('росбанк', 0.40170425176620483),\n",
       " ('райфайзный', 0.3979722857475281),\n",
       " ('возрождение', 0.39185988903045654),\n",
       " ('уралсиб', 0.38991856575012207)]"
      ]
     },
     "execution_count": 90,
     "metadata": {},
     "output_type": "execute_result"
    }
   ],
   "source": [
    "w2v_model.wv.most_similar(positive=[\"сбербанк\"])"
   ]
  },
  {
   "cell_type": "code",
   "execution_count": 91,
   "metadata": {},
   "outputs": [
    {
     "data": {
      "text/plain": [
       "[('автокредит', 0.6853684186935425),\n",
       " ('ипотека', 0.6027327179908752),\n",
       " ('рассрочка', 0.5901181697845459),\n",
       " ('потреба', 0.5434262156486511),\n",
       " ('рефинансировать', 0.5136533975601196),\n",
       " ('потребительский', 0.5044800043106079),\n",
       " ('заём', 0.47963714599609375),\n",
       " ('переплата', 0.46628332138061523),\n",
       " ('перекредитование', 0.4644802510738373),\n",
       " ('кредитование', 0.45030754804611206)]"
      ]
     },
     "execution_count": 91,
     "metadata": {},
     "output_type": "execute_result"
    }
   ],
   "source": [
    "w2v_model.wv.most_similar(positive=[\"кредит\"])"
   ]
  },
  {
   "cell_type": "markdown",
   "metadata": {},
   "source": [
    "#### Тест на аналогии"
   ]
  },
  {
   "cell_type": "code",
   "execution_count": 111,
   "metadata": {},
   "outputs": [
    {
     "data": {
      "text/plain": [
       "'ru_analogy_tagged (2).txt'"
      ]
     },
     "execution_count": 111,
     "metadata": {},
     "output_type": "execute_result"
    }
   ],
   "source": [
    "import wget\n",
    "url = 'https://raw.githubusercontent.com/ancatmara/data-science-nlp/master/data/w2v/evaluation/ru_analogy_tagged.txt'\n",
    "wget.download(url)\n"
   ]
  },
  {
   "cell_type": "code",
   "execution_count": 117,
   "metadata": {},
   "outputs": [],
   "source": [
    "res = w2v_model.wv.evaluate_word_analogies('ru_analogy_tagged.txt')"
   ]
  },
  {
   "cell_type": "code",
   "execution_count": 115,
   "metadata": {},
   "outputs": [
    {
     "data": {
      "text/plain": [
       "(None,\n",
       " [{'section': 'capital-common-countries', 'correct': [], 'incorrect': []},\n",
       "  {'section': 'capital-world', 'correct': [], 'incorrect': []},\n",
       "  {'section': 'currency', 'correct': [], 'incorrect': []},\n",
       "  {'section': 'city-in-state', 'correct': [], 'incorrect': []},\n",
       "  {'section': 'family', 'correct': [], 'incorrect': []},\n",
       "  {'section': 'gram1-Aective-to-adverb', 'correct': [], 'incorrect': []},\n",
       "  {'section': 'gram2-opposite', 'correct': [], 'incorrect': []},\n",
       "  {'section': 'gram6-nationality-Aective', 'correct': [], 'incorrect': []},\n",
       "  {'section': 'Total accuracy', 'correct': [], 'incorrect': []}])"
      ]
     },
     "execution_count": 115,
     "metadata": {},
     "output_type": "execute_result"
    }
   ],
   "source": [
    "res"
   ]
  },
  {
   "cell_type": "code",
   "execution_count": 178,
   "metadata": {},
   "outputs": [
    {
     "data": {
      "text/plain": [
       "-0.064660884"
      ]
     },
     "execution_count": 178,
     "metadata": {},
     "output_type": "execute_result"
    }
   ],
   "source": [
    "w2v_model.wv.similarity('превосходно', 'ужасный')"
   ]
  },
  {
   "cell_type": "code",
   "execution_count": 183,
   "metadata": {},
   "outputs": [
    {
     "data": {
      "text/plain": [
       "0.024014438"
      ]
     },
     "execution_count": 183,
     "metadata": {},
     "output_type": "execute_result"
    }
   ],
   "source": [
    "w2v_model.wv.similarity('быстро', 'сонный')"
   ]
  },
  {
   "cell_type": "code",
   "execution_count": 284,
   "metadata": {},
   "outputs": [
    {
     "data": {
      "text/plain": [
       "[('твёрдый', 0.3437631130218506),\n",
       " ('ку', 0.3397331237792969),\n",
       " ('быстро', 0.32683467864990234),\n",
       " ('масло', 0.31971922516822815),\n",
       " ('известность', 0.3027058243751526),\n",
       " ('on', 0.30174827575683594),\n",
       " ('великолепно', 0.30017441511154175),\n",
       " ('успешно', 0.28761041164398193),\n",
       " ('блестяще', 0.284415066242218),\n",
       " ('ура', 0.2799515724182129)]"
      ]
     },
     "execution_count": 284,
     "metadata": {},
     "output_type": "execute_result"
    }
   ],
   "source": [
    "w2v_model.wv.most_similar(positive=['отлично', 'оперативно'], negative=['квалифицированно'])"
   ]
  },
  {
   "cell_type": "code",
   "execution_count": 206,
   "metadata": {},
   "outputs": [
    {
     "data": {
      "text/plain": [
       "[('отвратительный', 0.6336706876754761),\n",
       " ('отвратный', 0.47922956943511963),\n",
       " ('безалаберный', 0.47199440002441406),\n",
       " ('безобразный', 0.4716470539569855),\n",
       " ('плохой', 0.463365763425827),\n",
       " ('неклиентоориентировать', 0.452890545129776),\n",
       " ('ужасающий', 0.44730687141418457),\n",
       " ('скотский', 0.43871551752090454),\n",
       " ('омерзительный', 0.41910219192504883),\n",
       " ('свинский', 0.40692266821861267)]"
      ]
     },
     "execution_count": 206,
     "metadata": {},
     "output_type": "execute_result"
    }
   ],
   "source": [
    "w2v_model_neg.wv.most_similar(positive=['ужасный'])"
   ]
  },
  {
   "cell_type": "code",
   "execution_count": 207,
   "metadata": {},
   "outputs": [
    {
     "name": "stderr",
     "output_type": "stream",
     "text": [
      "/opt/anaconda3/lib/python3.7/site-packages/ipykernel_launcher.py:1: DeprecationWarning: Call to deprecated `__getitem__` (Method will be removed in 4.0.0, use self.wv.__getitem__() instead).\n",
      "  \"\"\"Entry point for launching an IPython kernel.\n"
     ]
    }
   ],
   "source": [
    "vec = (w2v_model[\"отлично\"] - w2v_model[\"ужасно\"]) * w2v_model[\"оперативно\"]"
   ]
  },
  {
   "cell_type": "code",
   "execution_count": 208,
   "metadata": {},
   "outputs": [
    {
     "data": {
      "text/plain": [
       "[('комитет', 0.21279466152191162),\n",
       " ('одобрение', 0.20015111565589905),\n",
       " ('одобрить', 0.19621658325195312),\n",
       " ('готовый', 0.19446590542793274),\n",
       " ('подъезжать', 0.19273491203784943),\n",
       " ('интервал', 0.1890474557876587),\n",
       " ('готовность', 0.18551817536354065),\n",
       " ('изготовить', 0.17940875887870789),\n",
       " ('привозить', 0.1768336296081543),\n",
       " ('й', 0.1738775223493576)]"
      ]
     },
     "execution_count": 208,
     "metadata": {},
     "output_type": "execute_result"
    }
   ],
   "source": [
    "w2v_model.wv.most_similar(positive=[vec])"
   ]
  },
  {
   "cell_type": "code",
   "execution_count": 145,
   "metadata": {},
   "outputs": [
    {
     "data": {
      "text/plain": [
       "array([ 0.09369595,  0.0079945 ,  0.06040062, -0.08668521,  0.05974599,\n",
       "       -0.03268576,  0.04211259,  0.00947612, -0.05109083, -0.23750074],\n",
       "      dtype=float32)"
      ]
     },
     "execution_count": 145,
     "metadata": {},
     "output_type": "execute_result"
    }
   ],
   "source": [
    "vec[:10]"
   ]
  },
  {
   "cell_type": "markdown",
   "metadata": {},
   "source": [
    "#### Тест на определение лишнего слова"
   ]
  },
  {
   "cell_type": "code",
   "execution_count": 197,
   "metadata": {},
   "outputs": [
    {
     "data": {
      "text/plain": [
       "'ужасно'"
      ]
     },
     "execution_count": 197,
     "metadata": {},
     "output_type": "execute_result"
    }
   ],
   "source": [
    "w2v_model.wv.doesnt_match('отлично великолепно ужасно'.split())"
   ]
  },
  {
   "cell_type": "code",
   "execution_count": 205,
   "metadata": {},
   "outputs": [
    {
     "data": {
      "text/plain": [
       "'круто'"
      ]
     },
     "execution_count": 205,
     "metadata": {},
     "output_type": "execute_result"
    }
   ],
   "source": [
    "w2v_model_neg.wv.doesnt_match('отвратительный круто ужасный'.split())"
   ]
  },
  {
   "cell_type": "markdown",
   "metadata": {},
   "source": [
    "#### Постройте несколько визуализаций:\n",
    "\n",
    "1. TSNE для топ-100 (или топ-500) слов и найдите осмысленные кластеры слов"
   ]
  },
  {
   "cell_type": "code",
   "execution_count": 223,
   "metadata": {},
   "outputs": [],
   "source": [
    "from nltk import FreqDist\n",
    "from tqdm import tqdm_notebook as tqdm\n",
    "from sklearn.manifold import TSNE\n",
    "\n",
    "def top_words(data, n_top=100):\n",
    "    top_words = []\n",
    "\n",
    "    fd = FreqDist()\n",
    "    for s in tqdm(data):\n",
    "        fd.update(s)\n",
    "\n",
    "    for w in fd.most_common(n_top):\n",
    "        top_words.append(w[0])\n",
    "\n",
    "    top_words_vec = w2v_model.wv[top_words]\n",
    "    \n",
    "    return top_words, top_words_vec"
   ]
  },
  {
   "cell_type": "code",
   "execution_count": 302,
   "metadata": {},
   "outputs": [
    {
     "data": {
      "text/html": [
       "\n",
       "    <div class=\"bk-root\">\n",
       "        <a href=\"https://bokeh.org\" target=\"_blank\" class=\"bk-logo bk-logo-small bk-logo-notebook\"></a>\n",
       "        <span id=\"2107\">Loading BokehJS ...</span>\n",
       "    </div>"
      ]
     },
     "metadata": {},
     "output_type": "display_data"
    },
    {
     "data": {
      "application/javascript": [
       "\n",
       "(function(root) {\n",
       "  function now() {\n",
       "    return new Date();\n",
       "  }\n",
       "\n",
       "  var force = true;\n",
       "\n",
       "  if (typeof root._bokeh_onload_callbacks === \"undefined\" || force === true) {\n",
       "    root._bokeh_onload_callbacks = [];\n",
       "    root._bokeh_is_loading = undefined;\n",
       "  }\n",
       "\n",
       "  var JS_MIME_TYPE = 'application/javascript';\n",
       "  var HTML_MIME_TYPE = 'text/html';\n",
       "  var EXEC_MIME_TYPE = 'application/vnd.bokehjs_exec.v0+json';\n",
       "  var CLASS_NAME = 'output_bokeh rendered_html';\n",
       "\n",
       "  /**\n",
       "   * Render data to the DOM node\n",
       "   */\n",
       "  function render(props, node) {\n",
       "    var script = document.createElement(\"script\");\n",
       "    node.appendChild(script);\n",
       "  }\n",
       "\n",
       "  /**\n",
       "   * Handle when an output is cleared or removed\n",
       "   */\n",
       "  function handleClearOutput(event, handle) {\n",
       "    var cell = handle.cell;\n",
       "\n",
       "    var id = cell.output_area._bokeh_element_id;\n",
       "    var server_id = cell.output_area._bokeh_server_id;\n",
       "    // Clean up Bokeh references\n",
       "    if (id != null && id in Bokeh.index) {\n",
       "      Bokeh.index[id].model.document.clear();\n",
       "      delete Bokeh.index[id];\n",
       "    }\n",
       "\n",
       "    if (server_id !== undefined) {\n",
       "      // Clean up Bokeh references\n",
       "      var cmd = \"from bokeh.io.state import curstate; print(curstate().uuid_to_server['\" + server_id + \"'].get_sessions()[0].document.roots[0]._id)\";\n",
       "      cell.notebook.kernel.execute(cmd, {\n",
       "        iopub: {\n",
       "          output: function(msg) {\n",
       "            var id = msg.content.text.trim();\n",
       "            if (id in Bokeh.index) {\n",
       "              Bokeh.index[id].model.document.clear();\n",
       "              delete Bokeh.index[id];\n",
       "            }\n",
       "          }\n",
       "        }\n",
       "      });\n",
       "      // Destroy server and session\n",
       "      var cmd = \"import bokeh.io.notebook as ion; ion.destroy_server('\" + server_id + \"')\";\n",
       "      cell.notebook.kernel.execute(cmd);\n",
       "    }\n",
       "  }\n",
       "\n",
       "  /**\n",
       "   * Handle when a new output is added\n",
       "   */\n",
       "  function handleAddOutput(event, handle) {\n",
       "    var output_area = handle.output_area;\n",
       "    var output = handle.output;\n",
       "\n",
       "    // limit handleAddOutput to display_data with EXEC_MIME_TYPE content only\n",
       "    if ((output.output_type != \"display_data\") || (!output.data.hasOwnProperty(EXEC_MIME_TYPE))) {\n",
       "      return\n",
       "    }\n",
       "\n",
       "    var toinsert = output_area.element.find(\".\" + CLASS_NAME.split(' ')[0]);\n",
       "\n",
       "    if (output.metadata[EXEC_MIME_TYPE][\"id\"] !== undefined) {\n",
       "      toinsert[toinsert.length - 1].firstChild.textContent = output.data[JS_MIME_TYPE];\n",
       "      // store reference to embed id on output_area\n",
       "      output_area._bokeh_element_id = output.metadata[EXEC_MIME_TYPE][\"id\"];\n",
       "    }\n",
       "    if (output.metadata[EXEC_MIME_TYPE][\"server_id\"] !== undefined) {\n",
       "      var bk_div = document.createElement(\"div\");\n",
       "      bk_div.innerHTML = output.data[HTML_MIME_TYPE];\n",
       "      var script_attrs = bk_div.children[0].attributes;\n",
       "      for (var i = 0; i < script_attrs.length; i++) {\n",
       "        toinsert[toinsert.length - 1].firstChild.setAttribute(script_attrs[i].name, script_attrs[i].value);\n",
       "      }\n",
       "      // store reference to server id on output_area\n",
       "      output_area._bokeh_server_id = output.metadata[EXEC_MIME_TYPE][\"server_id\"];\n",
       "    }\n",
       "  }\n",
       "\n",
       "  function register_renderer(events, OutputArea) {\n",
       "\n",
       "    function append_mime(data, metadata, element) {\n",
       "      // create a DOM node to render to\n",
       "      var toinsert = this.create_output_subarea(\n",
       "        metadata,\n",
       "        CLASS_NAME,\n",
       "        EXEC_MIME_TYPE\n",
       "      );\n",
       "      this.keyboard_manager.register_events(toinsert);\n",
       "      // Render to node\n",
       "      var props = {data: data, metadata: metadata[EXEC_MIME_TYPE]};\n",
       "      render(props, toinsert[toinsert.length - 1]);\n",
       "      element.append(toinsert);\n",
       "      return toinsert\n",
       "    }\n",
       "\n",
       "    /* Handle when an output is cleared or removed */\n",
       "    events.on('clear_output.CodeCell', handleClearOutput);\n",
       "    events.on('delete.Cell', handleClearOutput);\n",
       "\n",
       "    /* Handle when a new output is added */\n",
       "    events.on('output_added.OutputArea', handleAddOutput);\n",
       "\n",
       "    /**\n",
       "     * Register the mime type and append_mime function with output_area\n",
       "     */\n",
       "    OutputArea.prototype.register_mime_type(EXEC_MIME_TYPE, append_mime, {\n",
       "      /* Is output safe? */\n",
       "      safe: true,\n",
       "      /* Index of renderer in `output_area.display_order` */\n",
       "      index: 0\n",
       "    });\n",
       "  }\n",
       "\n",
       "  // register the mime type if in Jupyter Notebook environment and previously unregistered\n",
       "  if (root.Jupyter !== undefined) {\n",
       "    var events = require('base/js/events');\n",
       "    var OutputArea = require('notebook/js/outputarea').OutputArea;\n",
       "\n",
       "    if (OutputArea.prototype.mime_types().indexOf(EXEC_MIME_TYPE) == -1) {\n",
       "      register_renderer(events, OutputArea);\n",
       "    }\n",
       "  }\n",
       "\n",
       "  \n",
       "  if (typeof (root._bokeh_timeout) === \"undefined\" || force === true) {\n",
       "    root._bokeh_timeout = Date.now() + 5000;\n",
       "    root._bokeh_failed_load = false;\n",
       "  }\n",
       "\n",
       "  var NB_LOAD_WARNING = {'data': {'text/html':\n",
       "     \"<div style='background-color: #fdd'>\\n\"+\n",
       "     \"<p>\\n\"+\n",
       "     \"BokehJS does not appear to have successfully loaded. If loading BokehJS from CDN, this \\n\"+\n",
       "     \"may be due to a slow or bad network connection. Possible fixes:\\n\"+\n",
       "     \"</p>\\n\"+\n",
       "     \"<ul>\\n\"+\n",
       "     \"<li>re-rerun `output_notebook()` to attempt to load from CDN again, or</li>\\n\"+\n",
       "     \"<li>use INLINE resources instead, as so:</li>\\n\"+\n",
       "     \"</ul>\\n\"+\n",
       "     \"<code>\\n\"+\n",
       "     \"from bokeh.resources import INLINE\\n\"+\n",
       "     \"output_notebook(resources=INLINE)\\n\"+\n",
       "     \"</code>\\n\"+\n",
       "     \"</div>\"}};\n",
       "\n",
       "  function display_loaded() {\n",
       "    var el = document.getElementById(\"2107\");\n",
       "    if (el != null) {\n",
       "      el.textContent = \"BokehJS is loading...\";\n",
       "    }\n",
       "    if (root.Bokeh !== undefined) {\n",
       "      if (el != null) {\n",
       "        el.textContent = \"BokehJS \" + root.Bokeh.version + \" successfully loaded.\";\n",
       "      }\n",
       "    } else if (Date.now() < root._bokeh_timeout) {\n",
       "      setTimeout(display_loaded, 100)\n",
       "    }\n",
       "  }\n",
       "\n",
       "\n",
       "  function run_callbacks() {\n",
       "    try {\n",
       "      root._bokeh_onload_callbacks.forEach(function(callback) {\n",
       "        if (callback != null)\n",
       "          callback();\n",
       "      });\n",
       "    } finally {\n",
       "      delete root._bokeh_onload_callbacks\n",
       "    }\n",
       "    console.debug(\"Bokeh: all callbacks have finished\");\n",
       "  }\n",
       "\n",
       "  function load_libs(css_urls, js_urls, callback) {\n",
       "    if (css_urls == null) css_urls = [];\n",
       "    if (js_urls == null) js_urls = [];\n",
       "\n",
       "    root._bokeh_onload_callbacks.push(callback);\n",
       "    if (root._bokeh_is_loading > 0) {\n",
       "      console.debug(\"Bokeh: BokehJS is being loaded, scheduling callback at\", now());\n",
       "      return null;\n",
       "    }\n",
       "    if (js_urls == null || js_urls.length === 0) {\n",
       "      run_callbacks();\n",
       "      return null;\n",
       "    }\n",
       "    console.debug(\"Bokeh: BokehJS not loaded, scheduling load and callback at\", now());\n",
       "    root._bokeh_is_loading = css_urls.length + js_urls.length;\n",
       "\n",
       "    function on_load() {\n",
       "      root._bokeh_is_loading--;\n",
       "      if (root._bokeh_is_loading === 0) {\n",
       "        console.debug(\"Bokeh: all BokehJS libraries/stylesheets loaded\");\n",
       "        run_callbacks()\n",
       "      }\n",
       "    }\n",
       "\n",
       "    function on_error() {\n",
       "      console.error(\"failed to load \" + url);\n",
       "    }\n",
       "\n",
       "    for (var i = 0; i < css_urls.length; i++) {\n",
       "      var url = css_urls[i];\n",
       "      const element = document.createElement(\"link\");\n",
       "      element.onload = on_load;\n",
       "      element.onerror = on_error;\n",
       "      element.rel = \"stylesheet\";\n",
       "      element.type = \"text/css\";\n",
       "      element.href = url;\n",
       "      console.debug(\"Bokeh: injecting link tag for BokehJS stylesheet: \", url);\n",
       "      document.body.appendChild(element);\n",
       "    }\n",
       "\n",
       "    for (var i = 0; i < js_urls.length; i++) {\n",
       "      var url = js_urls[i];\n",
       "      var element = document.createElement('script');\n",
       "      element.onload = on_load;\n",
       "      element.onerror = on_error;\n",
       "      element.async = false;\n",
       "      element.src = url;\n",
       "      console.debug(\"Bokeh: injecting script tag for BokehJS library: \", url);\n",
       "      document.head.appendChild(element);\n",
       "    }\n",
       "  };var element = document.getElementById(\"2107\");\n",
       "  if (element == null) {\n",
       "    console.error(\"Bokeh: ERROR: autoload.js configured with elementid '2107' but no matching script tag was found. \")\n",
       "    return false;\n",
       "  }\n",
       "\n",
       "  function inject_raw_css(css) {\n",
       "    const element = document.createElement(\"style\");\n",
       "    element.appendChild(document.createTextNode(css));\n",
       "    document.body.appendChild(element);\n",
       "  }\n",
       "\n",
       "  \n",
       "  var js_urls = [\"https://cdn.pydata.org/bokeh/release/bokeh-1.4.0.min.js\", \"https://cdn.pydata.org/bokeh/release/bokeh-widgets-1.4.0.min.js\", \"https://cdn.pydata.org/bokeh/release/bokeh-tables-1.4.0.min.js\", \"https://cdn.pydata.org/bokeh/release/bokeh-gl-1.4.0.min.js\"];\n",
       "  var css_urls = [];\n",
       "  \n",
       "\n",
       "  var inline_js = [\n",
       "    function(Bokeh) {\n",
       "      Bokeh.set_log_level(\"info\");\n",
       "    },\n",
       "    function(Bokeh) {\n",
       "    \n",
       "    \n",
       "    }\n",
       "  ];\n",
       "\n",
       "  function run_inline_js() {\n",
       "    \n",
       "    if (root.Bokeh !== undefined || force === true) {\n",
       "      \n",
       "    for (var i = 0; i < inline_js.length; i++) {\n",
       "      inline_js[i].call(root, root.Bokeh);\n",
       "    }\n",
       "    if (force === true) {\n",
       "        display_loaded();\n",
       "      }} else if (Date.now() < root._bokeh_timeout) {\n",
       "      setTimeout(run_inline_js, 100);\n",
       "    } else if (!root._bokeh_failed_load) {\n",
       "      console.log(\"Bokeh: BokehJS failed to load within specified timeout.\");\n",
       "      root._bokeh_failed_load = true;\n",
       "    } else if (force !== true) {\n",
       "      var cell = $(document.getElementById(\"2107\")).parents('.cell').data().cell;\n",
       "      cell.output_area.append_execute_result(NB_LOAD_WARNING)\n",
       "    }\n",
       "\n",
       "  }\n",
       "\n",
       "  if (root._bokeh_is_loading === 0) {\n",
       "    console.debug(\"Bokeh: BokehJS loaded, going straight to plotting\");\n",
       "    run_inline_js();\n",
       "  } else {\n",
       "    load_libs(css_urls, js_urls, function() {\n",
       "      console.debug(\"Bokeh: BokehJS plotting callback run at\", now());\n",
       "      run_inline_js();\n",
       "    });\n",
       "  }\n",
       "}(window));"
      ],
      "application/vnd.bokehjs_load.v0+json": "\n(function(root) {\n  function now() {\n    return new Date();\n  }\n\n  var force = true;\n\n  if (typeof root._bokeh_onload_callbacks === \"undefined\" || force === true) {\n    root._bokeh_onload_callbacks = [];\n    root._bokeh_is_loading = undefined;\n  }\n\n  \n\n  \n  if (typeof (root._bokeh_timeout) === \"undefined\" || force === true) {\n    root._bokeh_timeout = Date.now() + 5000;\n    root._bokeh_failed_load = false;\n  }\n\n  var NB_LOAD_WARNING = {'data': {'text/html':\n     \"<div style='background-color: #fdd'>\\n\"+\n     \"<p>\\n\"+\n     \"BokehJS does not appear to have successfully loaded. If loading BokehJS from CDN, this \\n\"+\n     \"may be due to a slow or bad network connection. Possible fixes:\\n\"+\n     \"</p>\\n\"+\n     \"<ul>\\n\"+\n     \"<li>re-rerun `output_notebook()` to attempt to load from CDN again, or</li>\\n\"+\n     \"<li>use INLINE resources instead, as so:</li>\\n\"+\n     \"</ul>\\n\"+\n     \"<code>\\n\"+\n     \"from bokeh.resources import INLINE\\n\"+\n     \"output_notebook(resources=INLINE)\\n\"+\n     \"</code>\\n\"+\n     \"</div>\"}};\n\n  function display_loaded() {\n    var el = document.getElementById(\"2107\");\n    if (el != null) {\n      el.textContent = \"BokehJS is loading...\";\n    }\n    if (root.Bokeh !== undefined) {\n      if (el != null) {\n        el.textContent = \"BokehJS \" + root.Bokeh.version + \" successfully loaded.\";\n      }\n    } else if (Date.now() < root._bokeh_timeout) {\n      setTimeout(display_loaded, 100)\n    }\n  }\n\n\n  function run_callbacks() {\n    try {\n      root._bokeh_onload_callbacks.forEach(function(callback) {\n        if (callback != null)\n          callback();\n      });\n    } finally {\n      delete root._bokeh_onload_callbacks\n    }\n    console.debug(\"Bokeh: all callbacks have finished\");\n  }\n\n  function load_libs(css_urls, js_urls, callback) {\n    if (css_urls == null) css_urls = [];\n    if (js_urls == null) js_urls = [];\n\n    root._bokeh_onload_callbacks.push(callback);\n    if (root._bokeh_is_loading > 0) {\n      console.debug(\"Bokeh: BokehJS is being loaded, scheduling callback at\", now());\n      return null;\n    }\n    if (js_urls == null || js_urls.length === 0) {\n      run_callbacks();\n      return null;\n    }\n    console.debug(\"Bokeh: BokehJS not loaded, scheduling load and callback at\", now());\n    root._bokeh_is_loading = css_urls.length + js_urls.length;\n\n    function on_load() {\n      root._bokeh_is_loading--;\n      if (root._bokeh_is_loading === 0) {\n        console.debug(\"Bokeh: all BokehJS libraries/stylesheets loaded\");\n        run_callbacks()\n      }\n    }\n\n    function on_error() {\n      console.error(\"failed to load \" + url);\n    }\n\n    for (var i = 0; i < css_urls.length; i++) {\n      var url = css_urls[i];\n      const element = document.createElement(\"link\");\n      element.onload = on_load;\n      element.onerror = on_error;\n      element.rel = \"stylesheet\";\n      element.type = \"text/css\";\n      element.href = url;\n      console.debug(\"Bokeh: injecting link tag for BokehJS stylesheet: \", url);\n      document.body.appendChild(element);\n    }\n\n    for (var i = 0; i < js_urls.length; i++) {\n      var url = js_urls[i];\n      var element = document.createElement('script');\n      element.onload = on_load;\n      element.onerror = on_error;\n      element.async = false;\n      element.src = url;\n      console.debug(\"Bokeh: injecting script tag for BokehJS library: \", url);\n      document.head.appendChild(element);\n    }\n  };var element = document.getElementById(\"2107\");\n  if (element == null) {\n    console.error(\"Bokeh: ERROR: autoload.js configured with elementid '2107' but no matching script tag was found. \")\n    return false;\n  }\n\n  function inject_raw_css(css) {\n    const element = document.createElement(\"style\");\n    element.appendChild(document.createTextNode(css));\n    document.body.appendChild(element);\n  }\n\n  \n  var js_urls = [\"https://cdn.pydata.org/bokeh/release/bokeh-1.4.0.min.js\", \"https://cdn.pydata.org/bokeh/release/bokeh-widgets-1.4.0.min.js\", \"https://cdn.pydata.org/bokeh/release/bokeh-tables-1.4.0.min.js\", \"https://cdn.pydata.org/bokeh/release/bokeh-gl-1.4.0.min.js\"];\n  var css_urls = [];\n  \n\n  var inline_js = [\n    function(Bokeh) {\n      Bokeh.set_log_level(\"info\");\n    },\n    function(Bokeh) {\n    \n    \n    }\n  ];\n\n  function run_inline_js() {\n    \n    if (root.Bokeh !== undefined || force === true) {\n      \n    for (var i = 0; i < inline_js.length; i++) {\n      inline_js[i].call(root, root.Bokeh);\n    }\n    if (force === true) {\n        display_loaded();\n      }} else if (Date.now() < root._bokeh_timeout) {\n      setTimeout(run_inline_js, 100);\n    } else if (!root._bokeh_failed_load) {\n      console.log(\"Bokeh: BokehJS failed to load within specified timeout.\");\n      root._bokeh_failed_load = true;\n    } else if (force !== true) {\n      var cell = $(document.getElementById(\"2107\")).parents('.cell').data().cell;\n      cell.output_area.append_execute_result(NB_LOAD_WARNING)\n    }\n\n  }\n\n  if (root._bokeh_is_loading === 0) {\n    console.debug(\"Bokeh: BokehJS loaded, going straight to plotting\");\n    run_inline_js();\n  } else {\n    load_libs(css_urls, js_urls, function() {\n      console.debug(\"Bokeh: BokehJS plotting callback run at\", now());\n      run_inline_js();\n    });\n  }\n}(window));"
     },
     "metadata": {},
     "output_type": "display_data"
    }
   ],
   "source": [
    "from bokeh.models import ColumnDataSource, LabelSet\n",
    "from bokeh.plotting import figure, show, output_file\n",
    "from bokeh.io import output_notebook\n",
    "output_notebook()\n",
    "\n",
    "def tsne_plot(data=pos, n_top=100, transform = False):\n",
    "\n",
    "    if transform:\n",
    "        top_words_vec = top_words_trans()\n",
    "    else:\n",
    "        top_words_vec = top_words(data=data, n_top=n_top)\n",
    "    \n",
    "    tsne = TSNE(n_components=2, random_state=0, init=\"pca\")\n",
    "    top_words_tsne = tsne.fit_transform(top_words_vec[1])\n",
    "\n",
    "    p = figure(tools=\"pan,wheel_zoom,reset,save\",\n",
    "               toolbar_location=\"above\",\n",
    "               title=\"word2vec T-SNE (w2v_model, top100 words)\")\n",
    "\n",
    "    source = ColumnDataSource(data=dict(x1=top_words_tsne[:,0],\n",
    "                                        x2=top_words_tsne[:,1],\n",
    "                                        names=top_words_vec[0]))\n",
    "\n",
    "    p.scatter(x=\"x1\", y=\"x2\", size=8, source=source)\n",
    "\n",
    "    labels = LabelSet(x=\"x1\", y=\"x2\", text=\"names\", y_offset=6,\n",
    "                      text_font_size=\"8pt\", text_color=\"#555555\",\n",
    "                      source=source, text_align='center')\n",
    "    p.add_layout(labels)\n",
    "\n",
    "    show(p)"
   ]
  },
  {
   "cell_type": "code",
   "execution_count": 298,
   "metadata": {},
   "outputs": [
    {
     "data": {
      "application/vnd.jupyter.widget-view+json": {
       "model_id": "46a7e617716a4602890d75fedc49ccfa",
       "version_major": 2,
       "version_minor": 0
      },
      "text/plain": [
       "HBox(children=(IntProgress(value=0, max=186256), HTML(value='')))"
      ]
     },
     "metadata": {},
     "output_type": "display_data"
    },
    {
     "name": "stdout",
     "output_type": "stream",
     "text": [
      "\n"
     ]
    },
    {
     "data": {
      "text/html": [
       "\n",
       "\n",
       "\n",
       "\n",
       "\n",
       "\n",
       "  <div class=\"bk-root\" id=\"47822a63-8d93-46cb-8e38-88931f19deef\" data-root-id=\"1963\"></div>\n"
      ]
     },
     "metadata": {},
     "output_type": "display_data"
    },
    {
     "data": {
      "application/javascript": [
       "(function(root) {\n",
       "  function embed_document(root) {\n",
       "    \n",
       "  var docs_json = {\"fe6397f0-42a4-4f22-96d5-faf6f57bf9b2\":{\"roots\":{\"references\":[{\"attributes\":{\"below\":[{\"id\":\"1974\",\"type\":\"LinearAxis\"}],\"center\":[{\"id\":\"1978\",\"type\":\"Grid\"},{\"id\":\"1983\",\"type\":\"Grid\"},{\"id\":\"1999\",\"type\":\"LabelSet\"}],\"left\":[{\"id\":\"1979\",\"type\":\"LinearAxis\"}],\"renderers\":[{\"id\":\"1997\",\"type\":\"GlyphRenderer\"}],\"title\":{\"id\":\"1964\",\"type\":\"Title\"},\"toolbar\":{\"id\":\"1988\",\"type\":\"Toolbar\"},\"toolbar_location\":\"above\",\"x_range\":{\"id\":\"1966\",\"type\":\"DataRange1d\"},\"x_scale\":{\"id\":\"1970\",\"type\":\"LinearScale\"},\"y_range\":{\"id\":\"1968\",\"type\":\"DataRange1d\"},\"y_scale\":{\"id\":\"1972\",\"type\":\"LinearScale\"}},\"id\":\"1963\",\"subtype\":\"Figure\",\"type\":\"Plot\"},{\"attributes\":{\"source\":{\"id\":\"1993\",\"type\":\"ColumnDataSource\"}},\"id\":\"1998\",\"type\":\"CDSView\"},{\"attributes\":{\"active_drag\":\"auto\",\"active_inspect\":\"auto\",\"active_multi\":null,\"active_scroll\":\"auto\",\"active_tap\":\"auto\",\"tools\":[{\"id\":\"1984\",\"type\":\"PanTool\"},{\"id\":\"1985\",\"type\":\"WheelZoomTool\"},{\"id\":\"1986\",\"type\":\"ResetTool\"},{\"id\":\"1987\",\"type\":\"SaveTool\"}]},\"id\":\"1988\",\"type\":\"Toolbar\"},{\"attributes\":{\"text\":\"word2vec T-SNE (w2v_model, top100 words)\"},\"id\":\"1964\",\"type\":\"Title\"},{\"attributes\":{\"source\":{\"id\":\"1993\",\"type\":\"ColumnDataSource\"},\"text\":{\"field\":\"names\"},\"text_align\":\"center\",\"text_color\":{\"value\":\"#555555\"},\"text_font_size\":{\"value\":\"8pt\"},\"x\":{\"field\":\"x1\"},\"y\":{\"field\":\"x2\"},\"y_offset\":{\"value\":6}},\"id\":\"1999\",\"type\":\"LabelSet\"},{\"attributes\":{\"callback\":null,\"data\":{\"names\":[\"\\u0431\\u0430\\u043d\\u043a\\u0430\",\"\\u0431\\u0430\\u043d\\u043a\",\"\\u043a\\u0430\\u0440\\u0442\\u0430\",\"\\u044d\\u0442\\u043e\",\"\\u043e\\u0447\\u0435\\u043d\\u044c\",\"\\u0432\",\"\\u0433\\u043e\\u0434\",\"\\u044f\",\"\\u043a\\u043b\\u0438\\u0435\\u043d\\u0442\",\"\\u0434\\u0435\\u043d\\u044c\",\"\\u0441\\u043e\\u0442\\u0440\\u0443\\u0434\\u043d\\u0438\\u043a\",\"\\u043a\\u0440\\u0435\\u0434\\u0438\\u0442\",\"\\u043a\\u043e\\u0442\\u043e\\u0440\\u044b\\u0439\",\"\\u043e\\u0442\\u0434\\u0435\\u043b\\u0435\\u043d\\u0438\\u0435\",\"\\u0432\\u043a\\u043b\\u0430\\u0434\",\"\\u043c\\u043e\\u0439\",\"\\u0434\\u0435\\u043d\\u044c\\u0433\\u0430\",\"\\u0432\\u043e\\u043f\\u0440\\u043e\\u0441\",\"\\u043e\\u0444\\u0438\\u0441\",\"\\u0432\\u0440\\u0435\\u043c\\u044f\",\"\\u0441\\u0432\\u043e\\u0439\",\"\\u0440\\u0430\\u0431\\u043e\\u0442\\u0430\",\"\\u043e\\u0434\\u0438\\u043d\",\"\\u0441\\u0447\\u0451\\u0442\",\"\\u0432\\u0435\\u0441\\u044c\",\"\\u043e\\u0431\\u0441\\u043b\\u0443\\u0436\\u0438\\u0432\\u0430\\u043d\\u0438\\u0435\",\"\\u0441\\u043f\\u0430\\u0441\\u0438\\u0431\\u043e\",\"\\u0441\\u043a\\u0430\\u0437\\u0430\\u0442\\u044c\",\"\\u043f\\u0440\\u043e\\u0431\\u043b\\u0435\\u043c\\u0430\",\"\\u0442\\u0430\\u043a\\u043e\\u0439\",\"\\u0445\\u043e\\u0442\\u0435\\u0442\\u044c\",\"\\u0442\\u043e\\u043c\",\"\\u0434\\u043e\\u043a\\u0443\\u043c\\u0435\\u043d\\u0442\",\"\\u043f\\u043e\\u043b\\u0443\\u0447\\u0438\\u0442\\u044c\",\"\\u0438\",\"\\u043c\\u043e\\u0447\\u044c\",\"\\u043a\\u0440\\u0435\\u0434\\u0438\\u0442\\u043d\\u044b\\u0439\",\"\\u0440\\u0430\\u0431\\u043e\\u0442\\u0430\\u0442\\u044c\",\"\\u0438\\u043d\\u0442\\u0435\\u0440\\u043d\\u0435\\u0442\",\"\\u0441\\u0443\\u043c\\u043c\\u0430\",\"\\u0440\\u0435\\u0448\\u0438\\u0442\\u044c\",\"\\u0434\\u0440\\u0443\\u0433\\u043e\\u0439\",\"\\u043c\\u0438\\u043d\\u0443\\u0442\\u0430\",\"\\u0431\\u044b\\u0441\\u0442\\u0440\\u043e\",\"\\u043e\\u0447\\u0435\\u0440\\u0435\\u0434\\u044c\",\"\\u043a\\u0430\\u043a\\u043e\\u0439\",\"\\u0430\",\"\\u043e\\u0442\\u0437\\u044b\\u0432\",\"\\u0434\\u0430\\u0442\\u044c\",\"\\u043d\\u043e\",\"\\u0431\\u044b\\u0442\\u044c\",\"\\u043f\\u043e\\u043b\\u044c\\u0437\\u043e\\u0432\\u0430\\u0442\\u044c\\u0441\\u044f\",\"\\u0447\\u0435\\u043b\\u043e\\u0432\\u0435\\u043a\",\"\\u0445\\u043e\\u0440\\u043e\\u0448\\u0438\\u0439\",\"\\u043f\\u043e\\u0437\\u0432\\u043e\\u043d\\u0438\\u0442\\u044c\",\"\\u0441\\u0430\\u043c\\u044b\\u0439\",\"\\u043f\\u043b\\u0430\\u0442\\u0451\\u0436\",\"\\u0441\\u0434\\u0435\\u043b\\u0430\\u0442\\u044c\",\"\\u0443\\u0441\\u043b\\u0443\\u0433\\u0430\",\"\\u043f\\u0440\\u043e\\u0441\\u0442\\u043e\",\"\\u0431\\u0430\\u043d\\u043a\\u043e\\u043c\\u0430\\u0442\",\"\\u043d\\u0435\\u0441\\u043a\\u043e\\u043b\\u044c\\u043a\\u043e\",\"\\u043f\\u0440\\u043e\\u0446\\u0435\\u043d\\u0442\",\"\\u0432\\u044b\",\"\\u043d\\u0430\\u0448\",\"\\u043c\\u0435\\u0441\\u044f\\u0446\",\"\\u0431\\u043e\\u043b\\u044c\\u0448\\u043e\\u0439\",\"\\u0442\\u0435\\u043b\\u0435\\u0444\\u043e\\u043d\",\"\\u0441\\u0440\\u0430\\u0437\\u0443\",\"\\u043e\\u0444\\u043e\\u0440\\u043c\\u0438\\u0442\\u044c\",\"\\u043d\\u0430\",\"\\u0443\\u0441\\u043b\\u043e\\u0432\\u0438\\u0435\",\"\\u0440\\u0443\\u0431\\u043b\\u044c\",\"\\u0437\\u0430\\u044f\\u0432\\u043a\\u0430\",\"\\u0441\\u0438\\u0442\\u0443\\u0430\\u0446\\u0438\\u044f\",\"\\u0434\\u0435\\u0432\\u0443\\u0448\\u043a\\u0430\",\"\\u0432\\u0441\",\"\\u0434\\u043e\\u0433\\u043e\\u0432\\u043e\\u0440\",\"\\u0442\\u043e\\u0442\",\"\\u0441\",\"\\u0441\\u0440\\u043e\\u043a\",\"\\u0434\\u0432\\u0430\",\"\\u0437\\u0430\\u044f\\u0432\\u043b\\u0435\\u043d\\u0438\\u0435\",\"\\u0441\\u0442\\u0430\\u0442\\u044c\",\"\\u0440\\u0435\\u0448\\u0435\\u043d\\u0438\\u0435\",\"\\u043d\\u0430\\u043f\\u0438\\u0441\\u0430\\u0442\\u044c\",\"\\u043f\\u0440\\u0438\\u044f\\u0442\\u043d\\u043e\",\"\\u043e\\u043f\\u0435\\u0440\\u0430\\u0446\\u0438\\u044f\",\"\\u043e\\u0442\\u043a\\u0440\\u044b\\u0442\\u044c\",\"\\u043c\\u043e\\u043c\\u0435\\u043d\\u0442\",\"\\u0441\\u0430\\u0439\\u0442\",\"\\u0430\\u0434\\u043c\\u0438\\u043d\\u0438\\u0441\\u0442\\u0440\\u0430\\u0442\\u043e\\u0440\",\"\\u043d\\u043e\\u0432\\u044b\\u0439\",\"\\u0442\\u0430\\u043a\\u0436\\u0435\",\"\\u043f\\u0435\\u0440\\u0435\\u0432\\u043e\\u0434\",\"\\u043e\\u0431\\u0449\\u0438\\u0439\",\"\\u044f\\u0432\\u043b\\u044f\\u0442\\u044c\\u0441\\u044f\",\"\\u0445\\u043e\\u0442\\u0435\\u0442\\u044c\\u0441\\u044f\",\"\\u0437\\u043d\\u0430\\u0442\\u044c\",\"\\u0441\\u0440\\u0435\\u0434\\u0441\\u0442\\u0432\\u043e\"],\"x1\":{\"__ndarray__\":\"2zrYQCr3IEGK7QXBzpvXQKQhGEF1OQNCssGUwea86L9DmJFBXJHewZfVfEHnPfLBwqBBvS6MvEGxTl0/ZxFPQRa5isAeGULC/5PMQTE3qUEOtDhBjyfuQaLACcFBdwHBfbqUwQKD0EEh8SdC6noAwevCMMLe/0NBLAWVQfszZ0B+TyPC2CrjwfAIfz/M9QrBF3cYwVPY1kEE9qm/lzlhQJItZMFaFHPAQhYDws3wrcF1o/hB9C0pQq8KL0A7vVTCNPtvwZoeI8C/qIRB797dQV7otEEfDJdB2vPAwa1aR0AEMqnBUwC6wU9E/kGYmoxA8vNyv7MRhMELiLxA/23lPw8fmEEqr7DBnugUQoqXx8Eys3nBgUbYwYvlH0ItryTCJZJ/PmHYI8I12TbCTPw3QcQyZsHrLTbCdV/CwJyhLsFwjerB2IhRwVH8KcJTTb3AzuynQfvsFsKXozVB7WC6wXXkzcFe8RLAv3Uzwj4a2T5AEwlBdRxoQFFrlMEs2DlBOAdQvytVt0ECU9rAt6oKwQ==\",\"dtype\":\"float32\",\"shape\":[100]},\"x2\":{\"__ndarray__\":\"LFX1PiFyKsCNhffB3j8XQUOOnUFV/Z7Az1anwX6ze0HqGYpBUMKpwYGzy0HAU2tB+fCQv1f9AkIE1wLCYcx7wSHxPcKWSonBY3IRQsTB4MCk6BXBK4MRQfCWEMGe1hrCiQKTQa7uEEDdqcRB0PWOQZ5gpcE1LVVBKxBIQkBDWsEX59RB4M5yQPOVFkED1JRA43auwYxOaEHIhrnBiV89whzE6L84UnXBBOZ7wZXiJkGlUN1BwI8+QDKboEA1mIJA+7PIQbFWz0BaLcQ+FI3AwS6/t0EjJwxB0UoKQmYXrUGCcUXCwkorvnSlgMH+uGZBzHdmwu7JHsHNrBbCEpDrQYQWhMH9ssbBSRN5QXKi4kGEf7BA0C91wEzPIELEjzZB+54qwjR0A0Jqed3BHsjwQRboVEENkZRBEjIiwHzqGUIM1PTBnalUwRWWFELuuM9BItIKwhsbzz/wzx9Clqkkwh0aFMFq2grBvWqXwDA2D0Lw67/BAnGywK5PMMJ3T8dA9ONCQmLTR0LARjVBF31Iwg==\",\"dtype\":\"float32\",\"shape\":[100]}},\"selected\":{\"id\":\"2062\",\"type\":\"Selection\"},\"selection_policy\":{\"id\":\"2063\",\"type\":\"UnionRenderers\"}},\"id\":\"1993\",\"type\":\"ColumnDataSource\"},{\"attributes\":{},\"id\":\"1987\",\"type\":\"SaveTool\"},{\"attributes\":{\"formatter\":{\"id\":\"2059\",\"type\":\"BasicTickFormatter\"},\"ticker\":{\"id\":\"1975\",\"type\":\"BasicTicker\"}},\"id\":\"1974\",\"type\":\"LinearAxis\"},{\"attributes\":{},\"id\":\"1985\",\"type\":\"WheelZoomTool\"},{\"attributes\":{\"callback\":null},\"id\":\"1966\",\"type\":\"DataRange1d\"},{\"attributes\":{},\"id\":\"1984\",\"type\":\"PanTool\"},{\"attributes\":{},\"id\":\"1972\",\"type\":\"LinearScale\"},{\"attributes\":{},\"id\":\"1986\",\"type\":\"ResetTool\"},{\"attributes\":{\"fill_color\":{\"value\":\"#1f77b4\"},\"line_color\":{\"value\":\"#1f77b4\"},\"size\":{\"units\":\"screen\",\"value\":8},\"x\":{\"field\":\"x1\"},\"y\":{\"field\":\"x2\"}},\"id\":\"1995\",\"type\":\"Scatter\"},{\"attributes\":{},\"id\":\"1980\",\"type\":\"BasicTicker\"},{\"attributes\":{\"fill_alpha\":{\"value\":0.1},\"fill_color\":{\"value\":\"#1f77b4\"},\"line_alpha\":{\"value\":0.1},\"line_color\":{\"value\":\"#1f77b4\"},\"size\":{\"units\":\"screen\",\"value\":8},\"x\":{\"field\":\"x1\"},\"y\":{\"field\":\"x2\"}},\"id\":\"1996\",\"type\":\"Scatter\"},{\"attributes\":{\"callback\":null},\"id\":\"1968\",\"type\":\"DataRange1d\"},{\"attributes\":{},\"id\":\"2062\",\"type\":\"Selection\"},{\"attributes\":{},\"id\":\"2061\",\"type\":\"BasicTickFormatter\"},{\"attributes\":{},\"id\":\"1975\",\"type\":\"BasicTicker\"},{\"attributes\":{},\"id\":\"2059\",\"type\":\"BasicTickFormatter\"},{\"attributes\":{\"data_source\":{\"id\":\"1993\",\"type\":\"ColumnDataSource\"},\"glyph\":{\"id\":\"1995\",\"type\":\"Scatter\"},\"hover_glyph\":null,\"muted_glyph\":null,\"nonselection_glyph\":{\"id\":\"1996\",\"type\":\"Scatter\"},\"selection_glyph\":null,\"view\":{\"id\":\"1998\",\"type\":\"CDSView\"}},\"id\":\"1997\",\"type\":\"GlyphRenderer\"},{\"attributes\":{\"dimension\":1,\"ticker\":{\"id\":\"1980\",\"type\":\"BasicTicker\"}},\"id\":\"1983\",\"type\":\"Grid\"},{\"attributes\":{},\"id\":\"2063\",\"type\":\"UnionRenderers\"},{\"attributes\":{\"ticker\":{\"id\":\"1975\",\"type\":\"BasicTicker\"}},\"id\":\"1978\",\"type\":\"Grid\"},{\"attributes\":{\"formatter\":{\"id\":\"2061\",\"type\":\"BasicTickFormatter\"},\"ticker\":{\"id\":\"1980\",\"type\":\"BasicTicker\"}},\"id\":\"1979\",\"type\":\"LinearAxis\"},{\"attributes\":{},\"id\":\"1970\",\"type\":\"LinearScale\"}],\"root_ids\":[\"1963\"]},\"title\":\"Bokeh Application\",\"version\":\"1.4.0\"}};\n",
       "  var render_items = [{\"docid\":\"fe6397f0-42a4-4f22-96d5-faf6f57bf9b2\",\"roots\":{\"1963\":\"47822a63-8d93-46cb-8e38-88931f19deef\"}}];\n",
       "  root.Bokeh.embed.embed_items_notebook(docs_json, render_items);\n",
       "\n",
       "  }\n",
       "  if (root.Bokeh !== undefined) {\n",
       "    embed_document(root);\n",
       "  } else {\n",
       "    var attempts = 0;\n",
       "    var timer = setInterval(function(root) {\n",
       "      if (root.Bokeh !== undefined) {\n",
       "        clearInterval(timer);\n",
       "        embed_document(root);\n",
       "      } else {\n",
       "        attempts++;\n",
       "        if (attempts > 100) {\n",
       "          clearInterval(timer);\n",
       "          console.log(\"Bokeh: ERROR: Unable to run BokehJS code because BokehJS library is missing\");\n",
       "        }\n",
       "      }\n",
       "    }, 10, root)\n",
       "  }\n",
       "})(window);"
      ],
      "application/vnd.bokehjs_exec.v0+json": ""
     },
     "metadata": {
      "application/vnd.bokehjs_exec.v0+json": {
       "id": "1963"
      }
     },
     "output_type": "display_data"
    }
   ],
   "source": [
    "# 100 из положительных постов\n",
    "tsne_plot(pos, n_top=100)\n",
    "# осмысленные кластеры: вокруг \"сотрудник\", вокруг \"документ\""
   ]
  },
  {
   "cell_type": "code",
   "execution_count": 229,
   "metadata": {},
   "outputs": [
    {
     "data": {
      "application/vnd.jupyter.widget-view+json": {
       "model_id": "8847338ae04b4f079f2fa82480eaa311",
       "version_major": 2,
       "version_minor": 0
      },
      "text/plain": [
       "HBox(children=(IntProgress(value=0, max=807073), HTML(value='')))"
      ]
     },
     "metadata": {},
     "output_type": "display_data"
    },
    {
     "name": "stdout",
     "output_type": "stream",
     "text": [
      "\n"
     ]
    },
    {
     "data": {
      "text/html": [
       "\n",
       "\n",
       "\n",
       "\n",
       "\n",
       "\n",
       "  <div class=\"bk-root\" id=\"b11e045c-22d3-47d1-bdae-7e55f975999d\" data-root-id=\"1572\"></div>\n"
      ]
     },
     "metadata": {},
     "output_type": "display_data"
    },
    {
     "data": {
      "application/javascript": [
       "(function(root) {\n",
       "  function embed_document(root) {\n",
       "    \n",
       "  var docs_json = {\"3b24e8d6-bd01-4063-b928-021ece84927c\":{\"roots\":{\"references\":[{\"attributes\":{\"below\":[{\"id\":\"1583\",\"type\":\"LinearAxis\"}],\"center\":[{\"id\":\"1587\",\"type\":\"Grid\"},{\"id\":\"1592\",\"type\":\"Grid\"},{\"id\":\"1608\",\"type\":\"LabelSet\"}],\"left\":[{\"id\":\"1588\",\"type\":\"LinearAxis\"}],\"renderers\":[{\"id\":\"1606\",\"type\":\"GlyphRenderer\"}],\"title\":{\"id\":\"1573\",\"type\":\"Title\"},\"toolbar\":{\"id\":\"1597\",\"type\":\"Toolbar\"},\"toolbar_location\":\"above\",\"x_range\":{\"id\":\"1575\",\"type\":\"DataRange1d\"},\"x_scale\":{\"id\":\"1579\",\"type\":\"LinearScale\"},\"y_range\":{\"id\":\"1577\",\"type\":\"DataRange1d\"},\"y_scale\":{\"id\":\"1581\",\"type\":\"LinearScale\"}},\"id\":\"1572\",\"subtype\":\"Figure\",\"type\":\"Plot\"},{\"attributes\":{\"callback\":null},\"id\":\"1575\",\"type\":\"DataRange1d\"},{\"attributes\":{},\"id\":\"1589\",\"type\":\"BasicTicker\"},{\"attributes\":{},\"id\":\"1595\",\"type\":\"ResetTool\"},{\"attributes\":{\"callback\":null,\"data\":{\"names\":[\"\\u0431\\u0430\\u043d\\u043a\\u0430\",\"\\u043a\\u0430\\u0440\\u0442\\u0430\",\"\\u0431\\u0430\\u043d\\u043a\",\"\\u044f\",\"\\u044d\\u0442\\u043e\",\"\\u0434\\u0435\\u043d\\u044c\\u0433\\u0430\",\"\\u0434\\u0435\\u043d\\u044c\",\"\\u0433\\u043e\\u0434\",\"\\u043c\\u043e\\u0439\",\"\\u043e\\u0442\\u0434\\u0435\\u043b\\u0435\\u043d\\u0438\\u0435\",\"\\u0432\",\"\\u043a\\u043e\\u0442\\u043e\\u0440\\u044b\\u0439\",\"\\u0441\\u043e\\u0442\\u0440\\u0443\\u0434\\u043d\\u0438\\u043a\",\"\\u043a\\u0440\\u0435\\u0434\\u0438\\u0442\",\"\\u0441\\u0447\\u0451\\u0442\",\"\\u0441\\u043a\\u0430\\u0437\\u0430\\u0442\\u044c\",\"\\u043a\\u043b\\u0438\\u0435\\u043d\\u0442\",\"\\u0437\\u0430\\u044f\\u0432\\u043b\\u0435\\u043d\\u0438\\u0435\",\"\\u0441\\u0443\\u043c\\u043c\\u0430\",\"\\u0440\\u0443\\u0431\\u043b\\u044c\",\"\\u0441\\u0432\\u043e\\u0439\",\"\\u0432\\u043e\\u043f\\u0440\\u043e\\u0441\",\"\\u0434\\u0430\\u0442\\u044c\",\"\\u043c\\u043e\\u0447\\u044c\",\"\\u0442\\u043e\\u043c\",\"\\u0432\\u0440\\u0435\\u043c\\u044f\",\"\\u043e\\u0442\\u0432\\u0435\\u0442\",\"\\u043f\\u043e\\u043b\\u0443\\u0447\\u0438\\u0442\\u044c\",\"\\u043e\\u0434\\u0438\\u043d\",\"\\u0442\\u0430\\u043a\\u043e\\u0439\",\"\\u0441\\u0431\\u0435\\u0440\\u0431\\u0430\\u043d\\u043a\",\"\\u043e\\u0444\\u0438\\u0441\",\"\\u0437\\u0432\\u043e\\u043d\\u0438\\u0442\\u044c\",\"\\u0442\\u0435\\u043b\\u0435\\u0444\\u043e\\u043d\",\"\\u0438\",\"\\u043a\\u0440\\u0435\\u0434\\u0438\\u0442\\u043d\\u044b\\u0439\",\"\\u0434\\u043e\\u0433\\u043e\\u0432\\u043e\\u0440\",\"\\u043f\\u043b\\u0430\\u0442\\u0451\\u0436\",\"\\u043d\\u043e\\u043c\\u0435\\u0440\",\"\\u043d\\u0430\\u043f\\u0438\\u0441\\u0430\\u0442\\u044c\",\"\\u043f\\u043e\\u0437\\u0432\\u043e\\u043d\\u0438\\u0442\\u044c\",\"\\u0431\\u0430\\u043d\\u043a\\u043e\\u043c\\u0430\\u0442\",\"\\u043d\\u0430\",\"\\u0432\\u0430\\u0448\",\"\\u0432\\u044b\",\"\\u043c\\u0435\\u0441\\u044f\\u0446\",\"\\u0441\\u0440\\u0435\\u0434\\u0441\\u0442\\u0432\\u043e\",\"\\u043a\\u0430\\u043a\\u043e\\u0439\",\"\\u0430\",\"\\u0440\\u0430\\u0431\\u043e\\u0442\\u0430\\u0442\\u044c\",\"\\u0431\\u044b\\u0442\\u044c\",\"\\u043f\\u0440\\u043e\\u0431\\u043b\\u0435\\u043c\\u0430\",\"\\u0432\\u043a\\u043b\\u0430\\u0434\",\"\\u0437\\u0432\\u043e\\u043d\\u043e\\u043a\",\"\\u0441\\u0438\\u0442\\u0443\\u0430\\u0446\\u0438\\u044f\",\"\\u0434\\u043e\\u043b\\u0436\\u043d\\u044b\\u0439\",\"\\u043f\\u043e\\u0447\\u0435\\u043c\\u0443\",\"\\u0434\\u043e\\u043a\\u0443\\u043c\\u0435\\u043d\\u0442\",\"\\u0440\\u0435\\u0448\\u0438\\u0442\\u044c\",\"\\u043f\\u0440\\u0435\\u0442\\u0435\\u043d\\u0437\\u0438\\u044f\",\"\\u0438\\u043d\\u0444\\u043e\\u0440\\u043c\\u0430\\u0446\\u0438\\u044f\",\"\\u043d\\u043e\",\"\\u043e\\u0431\\u0440\\u0430\\u0442\\u0438\\u0442\\u044c\\u0441\\u044f\",\"\\u0440\\u0430\\u0431\\u043e\\u0442\\u0430\",\"\\u0441\\u0440\\u043e\\u043a\",\"\\u0432\\u0435\\u0441\\u044c\",\"\\u0441\\u0434\\u0435\\u043b\\u0430\\u0442\\u044c\",\"\\u0437\\u0430\\u044f\\u0432\\u043a\\u0430\",\"\\u0434\\u0440\\u0443\\u0433\\u043e\\u0439\",\"\\u0447\\u0435\\u043b\\u043e\\u0432\\u0435\\u043a\",\"\\u043e\\u043f\\u0435\\u0440\\u0430\\u0446\\u0438\\u044f\",\"\\u0441\\u043c\\u0441\",\"\\u0445\\u043e\\u0442\\u0435\\u0442\\u044c\",\"\\u0436\\u0434\\u0430\\u0442\\u044c\",\"\\u0441\\u0435\\u0433\\u043e\\u0434\\u043d\\u044f\",\"\\u043f\\u0440\\u043e\\u0441\\u0442\\u043e\",\"\\u0443\\u0441\\u043b\\u0443\\u0433\\u0430\",\"\\u0441\\u043e\\u043e\\u0431\\u0449\\u0438\\u0442\\u044c\",\"\\u0434\\u0432\\u0430\",\"\\u0434\\u0435\\u0432\\u0443\\u0448\\u043a\\u0430\",\"\\u0437\\u043d\\u0430\\u0442\\u044c\",\"\\u043e\\u043f\\u0435\\u0440\\u0430\\u0442\\u043e\\u0440\",\"\\u0442\\u043e\\u0442\",\"\\u043c\\u0438\\u043d\\u0443\\u0442\\u0430\",\"\\u043d\\u0435\\u0434\\u0435\\u043b\\u044f\",\"\\u043e\\u0442\\u0432\\u0435\\u0442\\u0438\\u0442\\u044c\",\"\\u0433\\u043e\\u0432\\u043e\\u0440\\u0438\\u0442\\u044c\",\"\\u043e\\u0447\\u0435\\u043d\\u044c\",\"\\u043e\\u0447\\u0435\\u0440\\u0435\\u0434\\u044c\",\"\\u043f\\u0440\\u043e\\u0441\\u0438\\u0442\\u044c\",\"\\u043d\\u0438\\u043a\\u0430\\u043a\\u043e\\u0439\",\"\\u043e\\u0431\\u0441\\u043b\\u0443\\u0436\\u0438\\u0432\\u0430\\u043d\\u0438\\u0435\",\"\\u0441\\u0430\\u0439\\u0442\",\"\\u0434\\u0430\\u043b\\u0435\\u0435\",\"\\u0434\\u0430\\u043d\\u043d\\u044b\\u0439\",\"\\u043f\\u0438\\u0441\\u0430\\u0442\\u044c\",\"\\u0446\\u0435\\u043d\\u0442\\u0440\",\"\\u043d\\u0443\\u0436\\u043d\\u043e\",\"\\u0437\\u0430\\u0434\\u043e\\u043b\\u0436\\u0435\\u043d\\u043d\\u043e\\u0441\\u0442\\u044c\",\"\\u0442\\u0435\\u0447\\u0435\\u043d\\u0438\\u0435\"],\"x1\":{\"__ndarray__\":\"aGASwCOBFEFb/trA121Lv+ZJMkEYkjlBLTDOwbemGsE4ZRNBpzewwXrxA8IyWJZAdOKBwcOFOkKznPxA0Nscweokk8BGsVHC57HjQO+kSEA0RVZBxUASwcCCFUKOkB7Ap9S3QZaYRMEdu4LBJ46Jwcrfbb/DlEFBL6R7weidycG/rl7CTEgswpyBHEGgEEVCf0nqQSPWBcGgIDbChzQIwigBUcKI/ZxBkjndwcodpEBsMLFA6W1dwYW2jUGpRQhCYE50Qbbj0EH7se1A314PwMkXMb/rH1zCIcxaQHcQhkEGV43ARo44wvPwrEH7PlDCriouQvHwqECQnibCfdPFQRzbvsHjtMtBaUNIweAQR8JLD6lAULZaQvxVXcFYIFFAvSawwSuXDEJl21FBFHCGQJNHD0KvYUHC15qSwMPEvcEKzZFBqeoBwqFldUH/1hZCk7miwVsmlcGTLmHBhIePQeR3lUEpqgRCGDMhQkWUuEFJQXxC2nr1QSl6y77hP9BB7e0Fwp3Nu0FJ3EJC+ErswQ==\",\"dtype\":\"float32\",\"shape\":[100]},\"x2\":{\"__ndarray__\":\"1fB6QUy5GsIj2DtB9N7gQKp950AP0F7CYrIOwkHPCcJQoBBCpJOlQeujT0KvWDRBanH1QTxalj0+CzvCaObeP6W4xEEcKZjBlsF6wn2pYsKQ7OdBiRc/Qshup0EYYXS/20eMwRfjmEGO41hCnueqwdHkh8Eb8m9B3iwNQTv9hEEM5aBBomsBQszFVD4zkzBBOhYrwvV5d8J2HhlCMlb0wMkcZUF+R4jCDcJLQKj81EErqJ9Bzekkwp6nWMISRo3A96RfPkb510FuoanBvkQ1QpThMsKWiNhBoKJOQvyE3MGDCA3BYWb4wU/EzsArHTPB0nLWQVX8VkD5pEBBb9MJQgi9QsK2DWtB3NJ4wWU8wcFoKT3BEe5Mwa4biMJBdgPC3pT3wOQNAUGl0v7AabJ+wL+LOEKCC2RAAdm4wWpbEkJxagtBJfAKQh96hMEq2GXCLkgUwvcnOELUGTDAlp6gQUbcaEIrEOnBJ049wRDLLUL5yKpAYQiHwVxzAkIZIDRA/i/JQWrJ7sGEKw3C49vgwQ==\",\"dtype\":\"float32\",\"shape\":[100]}},\"selected\":{\"id\":\"1650\",\"type\":\"Selection\"},\"selection_policy\":{\"id\":\"1651\",\"type\":\"UnionRenderers\"}},\"id\":\"1602\",\"type\":\"ColumnDataSource\"},{\"attributes\":{},\"id\":\"1650\",\"type\":\"Selection\"},{\"attributes\":{\"formatter\":{\"id\":\"1649\",\"type\":\"BasicTickFormatter\"},\"ticker\":{\"id\":\"1589\",\"type\":\"BasicTicker\"}},\"id\":\"1588\",\"type\":\"LinearAxis\"},{\"attributes\":{},\"id\":\"1594\",\"type\":\"WheelZoomTool\"},{\"attributes\":{},\"id\":\"1651\",\"type\":\"UnionRenderers\"},{\"attributes\":{\"active_drag\":\"auto\",\"active_inspect\":\"auto\",\"active_multi\":null,\"active_scroll\":\"auto\",\"active_tap\":\"auto\",\"tools\":[{\"id\":\"1593\",\"type\":\"PanTool\"},{\"id\":\"1594\",\"type\":\"WheelZoomTool\"},{\"id\":\"1595\",\"type\":\"ResetTool\"},{\"id\":\"1596\",\"type\":\"SaveTool\"}]},\"id\":\"1597\",\"type\":\"Toolbar\"},{\"attributes\":{\"formatter\":{\"id\":\"1647\",\"type\":\"BasicTickFormatter\"},\"ticker\":{\"id\":\"1584\",\"type\":\"BasicTicker\"}},\"id\":\"1583\",\"type\":\"LinearAxis\"},{\"attributes\":{},\"id\":\"1649\",\"type\":\"BasicTickFormatter\"},{\"attributes\":{\"source\":{\"id\":\"1602\",\"type\":\"ColumnDataSource\"}},\"id\":\"1607\",\"type\":\"CDSView\"},{\"attributes\":{},\"id\":\"1647\",\"type\":\"BasicTickFormatter\"},{\"attributes\":{\"dimension\":1,\"ticker\":{\"id\":\"1589\",\"type\":\"BasicTicker\"}},\"id\":\"1592\",\"type\":\"Grid\"},{\"attributes\":{\"ticker\":{\"id\":\"1584\",\"type\":\"BasicTicker\"}},\"id\":\"1587\",\"type\":\"Grid\"},{\"attributes\":{\"fill_color\":{\"value\":\"#1f77b4\"},\"line_color\":{\"value\":\"#1f77b4\"},\"size\":{\"units\":\"screen\",\"value\":8},\"x\":{\"field\":\"x1\"},\"y\":{\"field\":\"x2\"}},\"id\":\"1604\",\"type\":\"Scatter\"},{\"attributes\":{\"data_source\":{\"id\":\"1602\",\"type\":\"ColumnDataSource\"},\"glyph\":{\"id\":\"1604\",\"type\":\"Scatter\"},\"hover_glyph\":null,\"muted_glyph\":null,\"nonselection_glyph\":{\"id\":\"1605\",\"type\":\"Scatter\"},\"selection_glyph\":null,\"view\":{\"id\":\"1607\",\"type\":\"CDSView\"}},\"id\":\"1606\",\"type\":\"GlyphRenderer\"},{\"attributes\":{},\"id\":\"1593\",\"type\":\"PanTool\"},{\"attributes\":{\"source\":{\"id\":\"1602\",\"type\":\"ColumnDataSource\"},\"text\":{\"field\":\"names\"},\"text_align\":\"center\",\"text_color\":{\"value\":\"#555555\"},\"text_font_size\":{\"value\":\"8pt\"},\"x\":{\"field\":\"x1\"},\"y\":{\"field\":\"x2\"},\"y_offset\":{\"value\":6}},\"id\":\"1608\",\"type\":\"LabelSet\"},{\"attributes\":{},\"id\":\"1579\",\"type\":\"LinearScale\"},{\"attributes\":{},\"id\":\"1596\",\"type\":\"SaveTool\"},{\"attributes\":{\"text\":\"word2vec T-SNE (w2v_model, top100 words)\"},\"id\":\"1573\",\"type\":\"Title\"},{\"attributes\":{},\"id\":\"1584\",\"type\":\"BasicTicker\"},{\"attributes\":{\"callback\":null},\"id\":\"1577\",\"type\":\"DataRange1d\"},{\"attributes\":{\"fill_alpha\":{\"value\":0.1},\"fill_color\":{\"value\":\"#1f77b4\"},\"line_alpha\":{\"value\":0.1},\"line_color\":{\"value\":\"#1f77b4\"},\"size\":{\"units\":\"screen\",\"value\":8},\"x\":{\"field\":\"x1\"},\"y\":{\"field\":\"x2\"}},\"id\":\"1605\",\"type\":\"Scatter\"},{\"attributes\":{},\"id\":\"1581\",\"type\":\"LinearScale\"}],\"root_ids\":[\"1572\"]},\"title\":\"Bokeh Application\",\"version\":\"1.4.0\"}};\n",
       "  var render_items = [{\"docid\":\"3b24e8d6-bd01-4063-b928-021ece84927c\",\"roots\":{\"1572\":\"b11e045c-22d3-47d1-bdae-7e55f975999d\"}}];\n",
       "  root.Bokeh.embed.embed_items_notebook(docs_json, render_items);\n",
       "\n",
       "  }\n",
       "  if (root.Bokeh !== undefined) {\n",
       "    embed_document(root);\n",
       "  } else {\n",
       "    var attempts = 0;\n",
       "    var timer = setInterval(function(root) {\n",
       "      if (root.Bokeh !== undefined) {\n",
       "        clearInterval(timer);\n",
       "        embed_document(root);\n",
       "      } else {\n",
       "        attempts++;\n",
       "        if (attempts > 100) {\n",
       "          clearInterval(timer);\n",
       "          console.log(\"Bokeh: ERROR: Unable to run BokehJS code because BokehJS library is missing\");\n",
       "        }\n",
       "      }\n",
       "    }, 10, root)\n",
       "  }\n",
       "})(window);"
      ],
      "application/vnd.bokehjs_exec.v0+json": ""
     },
     "metadata": {
      "application/vnd.bokehjs_exec.v0+json": {
       "id": "1572"
      }
     },
     "output_type": "display_data"
    }
   ],
   "source": [
    "# 100 из негативных постов\n",
    "tsne_plot(neg, n_top=100)\n",
    "# осмысленные кластеры: вокруг \"вопрос\", вокруг \"обратиться\", вокруг \"счет\", вокруг \"неделя\""
   ]
  },
  {
   "cell_type": "markdown",
   "metadata": {},
   "source": [
    "#### Постройте несколько визуализаций:\n",
    "\n",
    "    2. задайте координаты для нового пространства следующим образом: одна ось - \"плохо – хорошо\", вторая – \"медленно – быстро\"\n",
    "    3. найдите координаты названий банков в этих координатах.\n",
    "      \n",
    "*Вектор слова \"хорошо\" - вектор слова \"плохо\" = разница между хорошими и плохими словами.*\n",
    "\n",
    "*Вектор слова \"сбербанк\" * новый вектор = координата по первой оси.* \n",
    "\n",
    "*Аналогично – для второй оси.*"
   ]
  },
  {
   "cell_type": "code",
   "execution_count": 261,
   "metadata": {},
   "outputs": [
    {
     "data": {
      "text/plain": [
       "(186256, 807073)"
      ]
     },
     "execution_count": 261,
     "metadata": {},
     "output_type": "execute_result"
    }
   ],
   "source": [
    "len(pos), len(neg)"
   ]
  },
  {
   "cell_type": "code",
   "execution_count": 262,
   "metadata": {},
   "outputs": [],
   "source": [
    "import random as rand\n",
    "rand.shuffle(neg)\n",
    "neg_short = neg[:186000]"
   ]
  },
  {
   "cell_type": "code",
   "execution_count": 263,
   "metadata": {},
   "outputs": [],
   "source": [
    "pos_neg = pos.copy()\n",
    "\n",
    "for i in neg_short:\n",
    "    pos_neg.append(i)"
   ]
  },
  {
   "cell_type": "code",
   "execution_count": 265,
   "metadata": {},
   "outputs": [
    {
     "data": {
      "text/plain": [
       "372256"
      ]
     },
     "execution_count": 265,
     "metadata": {},
     "output_type": "execute_result"
    }
   ],
   "source": [
    "len(pos_neg)"
   ]
  },
  {
   "cell_type": "code",
   "execution_count": 266,
   "metadata": {},
   "outputs": [
    {
     "data": {
      "text/plain": [
       "(47295844, 100787520)"
      ]
     },
     "execution_count": 266,
     "metadata": {},
     "output_type": "execute_result"
    }
   ],
   "source": [
    "w2v_model_pos_neg = Word2Vec(\n",
    "    min_count=10,\n",
    "    window=2,\n",
    "    size=300,\n",
    "    negative=10,\n",
    "    alpha=0.03,\n",
    "    min_alpha=0.0007,\n",
    "    sample=6e-5,\n",
    "    sg=0)\n",
    "\n",
    "w2v_model_pos_neg.build_vocab(pos_neg)\n",
    "w2v_model_pos_neg.train(pos_neg, total_examples=w2v_model_pos_neg.corpus_count, epochs=30, report_delay=1)"
   ]
  },
  {
   "cell_type": "code",
   "execution_count": 281,
   "metadata": {},
   "outputs": [
    {
     "data": {
      "text/plain": [
       "[('вяло', 0.5216045379638672),\n",
       " ('нервно', 0.4690588712692261),\n",
       " ('неспешно', 0.46819913387298584),\n",
       " ('садиться', 0.441694438457489),\n",
       " ('тормозить', 0.4303429424762726),\n",
       " ('шустро', 0.4228843152523041),\n",
       " ('закипать', 0.4202459156513214),\n",
       " ('рассосаться', 0.4122873544692993),\n",
       " ('позитивно', 0.4117111265659332),\n",
       " ('сладить', 0.4030282497406006)]"
      ]
     },
     "execution_count": 281,
     "metadata": {},
     "output_type": "execute_result"
    }
   ],
   "source": [
    "w2v_model_pos_neg.wv.most_similar(positive=['медленно'], topn=10)"
   ]
  },
  {
   "cell_type": "code",
   "execution_count": 274,
   "metadata": {},
   "outputs": [],
   "source": [
    "list_bank = ['сбербанк', 'сбер', 'sberbank', 'втб', 'vtb', \\\n",
    "             'райф', 'райфайзен', 'райффайзен', 'райффайзенбанк', 'raiffeisen', \\\n",
    "             'ситибанк', 'citibank', 'росбанк', 'промсвязь', 'промсвязьбанк', 'собинбанк', \\\n",
    "             'возрождение', 'авангард', 'бинбанк', 'уралсиб', 'альфа', 'alfabank', 'транскредитбанк']"
   ]
  },
  {
   "cell_type": "code",
   "execution_count": 323,
   "metadata": {},
   "outputs": [],
   "source": [
    "words_vec_x1 = w2v_model_pos_neg.wv['хорошо'] - w2v_model_pos_neg.wv['плохо']\n",
    "words_vec_x2 = w2v_model_pos_neg.wv['быстро'] - w2v_model_pos_neg.wv['медленно']"
   ]
  },
  {
   "cell_type": "code",
   "execution_count": 324,
   "metadata": {},
   "outputs": [],
   "source": [
    "proj = pd.DataFrame([words_vec_x1, words_vec_x2], index=[\"height\", \"second\"]).transpose()"
   ]
  },
  {
   "cell_type": "code",
   "execution_count": 356,
   "metadata": {},
   "outputs": [
    {
     "data": {
      "text/html": [
       "<div>\n",
       "<style scoped>\n",
       "    .dataframe tbody tr th:only-of-type {\n",
       "        vertical-align: middle;\n",
       "    }\n",
       "\n",
       "    .dataframe tbody tr th {\n",
       "        vertical-align: top;\n",
       "    }\n",
       "\n",
       "    .dataframe thead th {\n",
       "        text-align: right;\n",
       "    }\n",
       "</style>\n",
       "<table border=\"1\" class=\"dataframe\">\n",
       "  <thead>\n",
       "    <tr style=\"text-align: right;\">\n",
       "      <th></th>\n",
       "      <th>0</th>\n",
       "      <th>1</th>\n",
       "      <th>bank</th>\n",
       "    </tr>\n",
       "  </thead>\n",
       "  <tbody>\n",
       "    <tr>\n",
       "      <th>0</th>\n",
       "      <td>-7.993644</td>\n",
       "      <td>0.413735</td>\n",
       "      <td>сбербанк</td>\n",
       "    </tr>\n",
       "    <tr>\n",
       "      <th>1</th>\n",
       "      <td>-11.056973</td>\n",
       "      <td>-5.753331</td>\n",
       "      <td>сбер</td>\n",
       "    </tr>\n",
       "  </tbody>\n",
       "</table>\n",
       "</div>"
      ],
      "text/plain": [
       "           0         1      bank\n",
       "0  -7.993644  0.413735  сбербанк\n",
       "1 -11.056973 -5.753331      сбер"
      ]
     },
     "execution_count": 356,
     "metadata": {},
     "output_type": "execute_result"
    }
   ],
   "source": [
    "df_plot = w2v_model_pos_neg.wv[list_bank].dot(proj)\n",
    "df_plot = pd.DataFrame(df_plot)\n",
    "df_plot['bank'] = list_bank\n",
    "df_plot.head(2)"
   ]
  },
  {
   "cell_type": "code",
   "execution_count": 364,
   "metadata": {},
   "outputs": [
    {
     "data": {
      "text/plain": [
       "-5.75333"
      ]
     },
     "execution_count": 364,
     "metadata": {},
     "output_type": "execute_result"
    }
   ],
   "source": [
    "w2v_model_pos_neg.wv['сбер'].dot(words_vec_x2)"
   ]
  },
  {
   "cell_type": "code",
   "execution_count": 366,
   "metadata": {},
   "outputs": [
    {
     "data": {
      "text/html": [
       "\n",
       "\n",
       "\n",
       "\n",
       "\n",
       "\n",
       "  <div class=\"bk-root\" id=\"d40e68a2-9bfd-45c3-a123-8470d118d010\" data-root-id=\"3220\"></div>\n"
      ]
     },
     "metadata": {},
     "output_type": "display_data"
    },
    {
     "data": {
      "application/javascript": [
       "(function(root) {\n",
       "  function embed_document(root) {\n",
       "    \n",
       "  var docs_json = {\"178381b9-b355-4a7b-ad5b-8d82a5b8beae\":{\"roots\":{\"references\":[{\"attributes\":{\"below\":[{\"id\":\"3231\",\"type\":\"LinearAxis\"}],\"center\":[{\"id\":\"3235\",\"type\":\"Grid\"},{\"id\":\"3240\",\"type\":\"Grid\"},{\"id\":\"3256\",\"type\":\"LabelSet\"}],\"left\":[{\"id\":\"3236\",\"type\":\"LinearAxis\"}],\"renderers\":[{\"id\":\"3254\",\"type\":\"GlyphRenderer\"}],\"title\":{\"id\":\"3221\",\"type\":\"Title\"},\"toolbar\":{\"id\":\"3245\",\"type\":\"Toolbar\"},\"toolbar_location\":\"above\",\"x_range\":{\"id\":\"3223\",\"type\":\"DataRange1d\"},\"x_scale\":{\"id\":\"3227\",\"type\":\"LinearScale\"},\"y_range\":{\"id\":\"3225\",\"type\":\"DataRange1d\"},\"y_scale\":{\"id\":\"3229\",\"type\":\"LinearScale\"}},\"id\":\"3220\",\"subtype\":\"Figure\",\"type\":\"Plot\"},{\"attributes\":{},\"id\":\"3244\",\"type\":\"SaveTool\"},{\"attributes\":{\"fill_alpha\":{\"value\":0.1},\"fill_color\":{\"value\":\"#1f77b4\"},\"line_alpha\":{\"value\":0.1},\"line_color\":{\"value\":\"#1f77b4\"},\"size\":{\"units\":\"screen\",\"value\":8},\"x\":{\"field\":\"x1\"},\"y\":{\"field\":\"x2\"}},\"id\":\"3253\",\"type\":\"Scatter\"},{\"attributes\":{\"active_drag\":\"auto\",\"active_inspect\":\"auto\",\"active_multi\":null,\"active_scroll\":\"auto\",\"active_tap\":\"auto\",\"tools\":[{\"id\":\"3241\",\"type\":\"PanTool\"},{\"id\":\"3242\",\"type\":\"WheelZoomTool\"},{\"id\":\"3243\",\"type\":\"ResetTool\"},{\"id\":\"3244\",\"type\":\"SaveTool\"}]},\"id\":\"3245\",\"type\":\"Toolbar\"},{\"attributes\":{\"callback\":null,\"data\":{\"names\":[\"\\u0441\\u0431\\u0435\\u0440\\u0431\\u0430\\u043d\\u043a\",\"\\u0441\\u0431\\u0435\\u0440\",\"sberbank\",\"\\u0432\\u0442\\u0431\",\"vtb\",\"\\u0440\\u0430\\u0439\\u0444\",\"\\u0440\\u0430\\u0439\\u0444\\u0430\\u0439\\u0437\\u0435\\u043d\",\"\\u0440\\u0430\\u0439\\u0444\\u0444\\u0430\\u0439\\u0437\\u0435\\u043d\",\"\\u0440\\u0430\\u0439\\u0444\\u0444\\u0430\\u0439\\u0437\\u0435\\u043d\\u0431\\u0430\\u043d\\u043a\",\"raiffeisen\",\"\\u0441\\u0438\\u0442\\u0438\\u0431\\u0430\\u043d\\u043a\",\"citibank\",\"\\u0440\\u043e\\u0441\\u0431\\u0430\\u043d\\u043a\",\"\\u043f\\u0440\\u043e\\u043c\\u0441\\u0432\\u044f\\u0437\\u044c\",\"\\u043f\\u0440\\u043e\\u043c\\u0441\\u0432\\u044f\\u0437\\u044c\\u0431\\u0430\\u043d\\u043a\",\"\\u0441\\u043e\\u0431\\u0438\\u043d\\u0431\\u0430\\u043d\\u043a\",\"\\u0432\\u043e\\u0437\\u0440\\u043e\\u0436\\u0434\\u0435\\u043d\\u0438\\u0435\",\"\\u0430\\u0432\\u0430\\u043d\\u0433\\u0430\\u0440\\u0434\",\"\\u0431\\u0438\\u043d\\u0431\\u0430\\u043d\\u043a\",\"\\u0443\\u0440\\u0430\\u043b\\u0441\\u0438\\u0431\",\"\\u0430\\u043b\\u044c\\u0444\\u0430\",\"alfabank\",\"\\u0442\\u0440\\u0430\\u043d\\u0441\\u043a\\u0440\\u0435\\u0434\\u0438\\u0442\\u0431\\u0430\\u043d\\u043a\"],\"x1\":{\"__ndarray__\":\"9Z5ywH35H8DrEjSZKx0mwF6VJheeXvM/VnJJOGJdGMApr+7mzeQUQNpfMD64aw9AwXj6C0HT5z+om6cambMRwOP2rhax1hdAJKPMAs6sG0BNwFQ4ATsbwJsyEu1hKQnA+LnnMryCE8BMoobOv+kUwOiOpaDMuSHAIjMKoGJtBMBAZLAqPZwWwAM7Jo2syR/AwwWJjs+UBsAwtpZP9OYqwOqJ1DciIBLAkYIfeDzRFEAq0MAPPvMTwA==\",\"dtype\":\"float64\",\"shape\":[23]},\"x2\":{\"__ndarray__\":\"pMzujqJ62j+EQ1ZGaQMXwOr1e5Kmy/g/xoNHEjWe9j88p4xUX8gGQMKQH+dop/o/oPHAORWZDsADnT5dFjUiwFbGO5nZgg9ARzboKDksAMCHSNLphg78v2Ih7IsPNwJAQcvz9cykJkBIWIMEOKUZwOjLVsCkgRLAQntHpF8PA8D8s5yW+FwLwNdKs/AMMQVAjBrtWXVi379IDWUHNXAOwBpF8bncmxZAYCGaWM5i2T8cdi0PzsjqPw==\",\"dtype\":\"float64\",\"shape\":[23]}},\"selected\":{\"id\":\"3368\",\"type\":\"Selection\"},\"selection_policy\":{\"id\":\"3369\",\"type\":\"UnionRenderers\"}},\"id\":\"3250\",\"type\":\"ColumnDataSource\"},{\"attributes\":{},\"id\":\"3243\",\"type\":\"ResetTool\"},{\"attributes\":{},\"id\":\"3369\",\"type\":\"UnionRenderers\"},{\"attributes\":{},\"id\":\"3242\",\"type\":\"WheelZoomTool\"},{\"attributes\":{\"text\":\"\\u0431\\u0430\\u043d\\u043a\\u0438\"},\"id\":\"3221\",\"type\":\"Title\"},{\"attributes\":{},\"id\":\"3368\",\"type\":\"Selection\"},{\"attributes\":{\"callback\":null},\"id\":\"3223\",\"type\":\"DataRange1d\"},{\"attributes\":{\"callback\":null},\"id\":\"3225\",\"type\":\"DataRange1d\"},{\"attributes\":{},\"id\":\"3227\",\"type\":\"LinearScale\"},{\"attributes\":{},\"id\":\"3241\",\"type\":\"PanTool\"},{\"attributes\":{},\"id\":\"3367\",\"type\":\"BasicTickFormatter\"},{\"attributes\":{\"source\":{\"id\":\"3250\",\"type\":\"ColumnDataSource\"}},\"id\":\"3255\",\"type\":\"CDSView\"},{\"attributes\":{},\"id\":\"3365\",\"type\":\"BasicTickFormatter\"},{\"attributes\":{},\"id\":\"3229\",\"type\":\"LinearScale\"},{\"attributes\":{\"axis_label\":\"\\u041f\\u043b\\u043e\\u0445\\u043e --> \\u0425\\u043e\\u0440\\u043e\\u0448\\u043e\",\"formatter\":{\"id\":\"3365\",\"type\":\"BasicTickFormatter\"},\"ticker\":{\"id\":\"3232\",\"type\":\"BasicTicker\"}},\"id\":\"3231\",\"type\":\"LinearAxis\"},{\"attributes\":{\"source\":{\"id\":\"3250\",\"type\":\"ColumnDataSource\"},\"text\":{\"field\":\"names\"},\"text_align\":\"center\",\"text_color\":{\"value\":\"#555555\"},\"text_font_size\":{\"value\":\"8pt\"},\"x\":{\"field\":\"x1\"},\"y\":{\"field\":\"x2\"},\"y_offset\":{\"value\":6}},\"id\":\"3256\",\"type\":\"LabelSet\"},{\"attributes\":{},\"id\":\"3237\",\"type\":\"BasicTicker\"},{\"attributes\":{},\"id\":\"3232\",\"type\":\"BasicTicker\"},{\"attributes\":{\"ticker\":{\"id\":\"3232\",\"type\":\"BasicTicker\"}},\"id\":\"3235\",\"type\":\"Grid\"},{\"attributes\":{\"dimension\":1,\"ticker\":{\"id\":\"3237\",\"type\":\"BasicTicker\"}},\"id\":\"3240\",\"type\":\"Grid\"},{\"attributes\":{\"axis_label\":\"\\u041c\\u0435\\u0434\\u043b\\u0435\\u043d\\u043d\\u043e --> \\u0411\\u044b\\u0441\\u0442\\u0440\\u043e\",\"formatter\":{\"id\":\"3367\",\"type\":\"BasicTickFormatter\"},\"ticker\":{\"id\":\"3237\",\"type\":\"BasicTicker\"}},\"id\":\"3236\",\"type\":\"LinearAxis\"},{\"attributes\":{\"data_source\":{\"id\":\"3250\",\"type\":\"ColumnDataSource\"},\"glyph\":{\"id\":\"3252\",\"type\":\"Scatter\"},\"hover_glyph\":null,\"muted_glyph\":null,\"nonselection_glyph\":{\"id\":\"3253\",\"type\":\"Scatter\"},\"selection_glyph\":null,\"view\":{\"id\":\"3255\",\"type\":\"CDSView\"}},\"id\":\"3254\",\"type\":\"GlyphRenderer\"},{\"attributes\":{\"fill_color\":{\"value\":\"#1f77b4\"},\"line_color\":{\"value\":\"#1f77b4\"},\"size\":{\"units\":\"screen\",\"value\":8},\"x\":{\"field\":\"x1\"},\"y\":{\"field\":\"x2\"}},\"id\":\"3252\",\"type\":\"Scatter\"}],\"root_ids\":[\"3220\"]},\"title\":\"Bokeh Application\",\"version\":\"1.4.0\"}};\n",
       "  var render_items = [{\"docid\":\"178381b9-b355-4a7b-ad5b-8d82a5b8beae\",\"roots\":{\"3220\":\"d40e68a2-9bfd-45c3-a123-8470d118d010\"}}];\n",
       "  root.Bokeh.embed.embed_items_notebook(docs_json, render_items);\n",
       "\n",
       "  }\n",
       "  if (root.Bokeh !== undefined) {\n",
       "    embed_document(root);\n",
       "  } else {\n",
       "    var attempts = 0;\n",
       "    var timer = setInterval(function(root) {\n",
       "      if (root.Bokeh !== undefined) {\n",
       "        clearInterval(timer);\n",
       "        embed_document(root);\n",
       "      } else {\n",
       "        attempts++;\n",
       "        if (attempts > 100) {\n",
       "          clearInterval(timer);\n",
       "          console.log(\"Bokeh: ERROR: Unable to run BokehJS code because BokehJS library is missing\");\n",
       "        }\n",
       "      }\n",
       "    }, 10, root)\n",
       "  }\n",
       "})(window);"
      ],
      "application/vnd.bokehjs_exec.v0+json": ""
     },
     "metadata": {
      "application/vnd.bokehjs_exec.v0+json": {
       "id": "3220"
      }
     },
     "output_type": "display_data"
    }
   ],
   "source": [
    "p = figure(tools=\"pan,wheel_zoom,reset,save\",\n",
    "           toolbar_location=\"above\",\n",
    "           title=\"банки\")\n",
    "\n",
    "source = ColumnDataSource(data=dict(x1=df_plot[0],\n",
    "                                    x2=df_plot[1],\n",
    "                                    names=df_plot['bank']))\n",
    "\n",
    "p.scatter(x=\"x1\", y=\"x2\", size=8, source=source)\n",
    "\n",
    "labels = LabelSet(x=\"x1\", y=\"x2\", text=\"names\", y_offset=6,\n",
    "                  text_font_size=\"8pt\", text_color=\"#555555\",\n",
    "                  source=source, text_align='center')\n",
    "p.add_layout(labels)\n",
    "p.xaxis.axis_label = 'Плохо --> Хорошо'\n",
    "p.yaxis.axis_label = 'Медленно --> Быстро'\n",
    "\n",
    "show(p)"
   ]
  },
  {
   "cell_type": "code",
   "execution_count": null,
   "metadata": {},
   "outputs": [],
   "source": []
  },
  {
   "cell_type": "code",
   "execution_count": null,
   "metadata": {},
   "outputs": [],
   "source": []
  }
 ],
 "metadata": {
  "kernelspec": {
   "display_name": "Python 3",
   "language": "python",
   "name": "python3"
  },
  "language_info": {
   "codemirror_mode": {
    "name": "ipython",
    "version": 3
   },
   "file_extension": ".py",
   "mimetype": "text/x-python",
   "name": "python",
   "nbconvert_exporter": "python",
   "pygments_lexer": "ipython3",
   "version": "3.7.6"
  }
 },
 "nbformat": 4,
 "nbformat_minor": 4
}
