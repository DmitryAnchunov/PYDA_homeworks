{
 "cells": [
  {
   "cell_type": "markdown",
   "metadata": {},
   "source": [
    "### Задание 1. Обязательная часть\n",
    "\n",
    "Из страницу с новостями на habr.com/ru/all/ нужны статьи, в которых есть ключевые слова KEYWORDS. \n",
    "\n",
    "Поиск вести по всей доступной preview-информации (это информация, доступная непосредственно с текущей страницы).\n",
    "\n",
    "*В итоге должен формироваться датафрейм со столбцами: <дата> - <заголовок> - <ссылка>."
   ]
  },
  {
   "cell_type": "code",
   "execution_count": 1,
   "metadata": {},
   "outputs": [],
   "source": [
    "import requests\n",
    "import time\n",
    "import pandas as pd"
   ]
  },
  {
   "cell_type": "code",
   "execution_count": 2,
   "metadata": {},
   "outputs": [],
   "source": [
    "from bs4 import BeautifulSoup"
   ]
  },
  {
   "cell_type": "code",
   "execution_count": 65,
   "metadata": {},
   "outputs": [],
   "source": [
    "URL = 'https://habr.com/ru/all/'\n",
    "KEYWORDS = ['telegram', 'Go-вариант']"
   ]
  },
  {
   "cell_type": "code",
   "execution_count": 66,
   "metadata": {},
   "outputs": [],
   "source": [
    "news = requests.get(URL)\n",
    "soup = BeautifulSoup(news.text, 'html.parser')\n",
    "posts = soup.find_all('article', class_='post')"
   ]
  },
  {
   "cell_type": "code",
   "execution_count": 67,
   "metadata": {},
   "outputs": [
    {
     "name": "stdout",
     "output_type": "stream",
     "text": [
      "сегодня в 16:28 Telegram для маркетолога: зачем использовать чаты для продвижения бизнеса и как это делать https://habr.com/ru/post/515810/\n",
      "сегодня в 16:16 Разработка инструмента командной строки: сравнение Go и Rust https://habr.com/ru/company/ruvds/blog/515674/\n"
     ]
    }
   ],
   "source": [
    "for post in posts:\n",
    "    \n",
    "    post_lower = post.find('div', class_='post__body').text.lower()\n",
    "    title_element = post.find('a', class_='post__title_link').text\n",
    "    link = post.find('a', class_='post__title_link').attrs.get('href')\n",
    "    \n",
    "    for key in KEYWORDS:\n",
    "        \n",
    "        if key.lower() in post_lower or key.lower() in title_element:\n",
    "\n",
    "            date_element = post.find('span', class_='post__time').text\n",
    "            print(date_element, title_element, link)"
   ]
  },
  {
   "cell_type": "code",
   "execution_count": 68,
   "metadata": {},
   "outputs": [
    {
     "data": {
      "text/plain": [
       "['https://habr.com/ru/company/pt/blog/515842/',\n",
       " 'https://habr.com/ru/company/etmc_exponenta/blog/515850/',\n",
       " 'https://habr.com/ru/company/epam_systems/blog/515600/']"
      ]
     },
     "execution_count": 68,
     "metadata": {},
     "output_type": "execute_result"
    }
   ],
   "source": [
    "# дополнительное задание\n",
    "def get_all_links(url):\n",
    "    all_refs = []\n",
    "    \n",
    "    res = requests.get(URL)\n",
    "    time.sleep(0.3)\n",
    "    soup = BeautifulSoup(res.text, 'html.parser')\n",
    "\n",
    "    articles = soup.find_all('article', class_='post')\n",
    "    all_refs = list(map(lambda x: x.find('a', class_='post__title_link').get('href'), articles))\n",
    "\n",
    "    return all_refs\n",
    "\n",
    "all_links = get_all_links(URL)\n",
    "all_links[:3]"
   ]
  },
  {
   "cell_type": "code",
   "execution_count": 69,
   "metadata": {},
   "outputs": [
    {
     "data": {
      "text/html": [
       "<div>\n",
       "<style scoped>\n",
       "    .dataframe tbody tr th:only-of-type {\n",
       "        vertical-align: middle;\n",
       "    }\n",
       "\n",
       "    .dataframe tbody tr th {\n",
       "        vertical-align: top;\n",
       "    }\n",
       "\n",
       "    .dataframe thead th {\n",
       "        text-align: right;\n",
       "    }\n",
       "</style>\n",
       "<table border=\"1\" class=\"dataframe\">\n",
       "  <thead>\n",
       "    <tr style=\"text-align: right;\">\n",
       "      <th></th>\n",
       "      <th>date</th>\n",
       "      <th>title</th>\n",
       "      <th>link</th>\n",
       "    </tr>\n",
       "  </thead>\n",
       "  <tbody>\n",
       "    <tr>\n",
       "      <th>0</th>\n",
       "      <td>2020-08-19</td>\n",
       "      <td>Telegram для маркетолога: зачем использовать ч...</td>\n",
       "      <td>https://habr.com/ru/post/515810/</td>\n",
       "    </tr>\n",
       "    <tr>\n",
       "      <th>0</th>\n",
       "      <td>2020-08-19</td>\n",
       "      <td>Разработка инструмента командной строки: сравн...</td>\n",
       "      <td>https://habr.com/ru/company/ruvds/blog/515674/</td>\n",
       "    </tr>\n",
       "  </tbody>\n",
       "</table>\n",
       "</div>"
      ],
      "text/plain": [
       "         date                                              title  \\\n",
       "0  2020-08-19  Telegram для маркетолога: зачем использовать ч...   \n",
       "0  2020-08-19  Разработка инструмента командной строки: сравн...   \n",
       "\n",
       "                                             link  \n",
       "0                https://habr.com/ru/post/515810/  \n",
       "0  https://habr.com/ru/company/ruvds/blog/515674/  "
      ]
     },
     "execution_count": 69,
     "metadata": {},
     "output_type": "execute_result"
    }
   ],
   "source": [
    "kom_news = pd.DataFrame()\n",
    "for link in all_links:\n",
    "\n",
    "    soup_new = BeautifulSoup(requests.get(link).text, 'html.parser')\n",
    "    time.sleep(0.3)\n",
    "\n",
    "    soup_new_low = soup_new.find('div', class_='post__body').text.lower()\n",
    "    title = soup_new.find('title').text\n",
    "\n",
    "    for key in KEYWORDS:\n",
    "        \n",
    "        if key.lower() in soup_new_low or key.lower() in title:\n",
    "        \n",
    "            date = pd.to_datetime(soup_new.find('span', class_='post__time').get('data-time_published'), dayfirst=True).date()\n",
    "            row = {'date': date, 'title': title, 'link': link}\n",
    "            kom_news = pd.concat([kom_news, pd.DataFrame([row])]) \n",
    "kom_news"
   ]
  },
  {
   "cell_type": "code",
   "execution_count": null,
   "metadata": {},
   "outputs": [],
   "source": []
  },
  {
   "cell_type": "markdown",
   "metadata": {},
   "source": [
    "### Задание 2. Обязательная часть\n",
    "\n",
    "Написать скрипт, который будет проверять список e-mail адресов на утечку при помощи сервиса Avast Hack Ckeck. \n",
    "\n",
    "*Датафрейм должен иметь столбцы: <почта> - <дата утечки> - <источник утечки> - <описание утечки>."
   ]
  },
  {
   "cell_type": "code",
   "execution_count": 142,
   "metadata": {},
   "outputs": [],
   "source": [
    "import json"
   ]
  },
  {
   "cell_type": "code",
   "execution_count": 193,
   "metadata": {},
   "outputs": [],
   "source": [
    "EMAIL = ['ada@severtm.ru', 'zobr2005@mail.ru', 'd.anchunov@gmail.com']"
   ]
  },
  {
   "cell_type": "code",
   "execution_count": 210,
   "metadata": {},
   "outputs": [],
   "source": [
    "def checking_your_email(e_mail):\n",
    "    URL = 'https://digibody.avast.com/v1/web/leaks'\n",
    "    data = {\n",
    "        'email': e_mail\n",
    "    }\n",
    "    req = requests.post(URL, json=data)\n",
    "    your_passwords_have_leaked = pd.DataFrame()\n",
    "    \n",
    "    for q in req.json()['value']:\n",
    "        \n",
    "        date = time.ctime(q['leak_date']/1000)\n",
    "        title = q['leak_info']['title']\n",
    "        info = q['leak_info']['description']\n",
    "\n",
    "        row = {'email': e_mail, 'date': date, 'title': title, 'info':info}\n",
    "        your_passwords_have_leaked = your_passwords_have_leaked.append([row])\n",
    "\n",
    "    return your_passwords_have_leaked"
   ]
  },
  {
   "cell_type": "code",
   "execution_count": 209,
   "metadata": {},
   "outputs": [
    {
     "data": {
      "text/html": [
       "<div>\n",
       "<style scoped>\n",
       "    .dataframe tbody tr th:only-of-type {\n",
       "        vertical-align: middle;\n",
       "    }\n",
       "\n",
       "    .dataframe tbody tr th {\n",
       "        vertical-align: top;\n",
       "    }\n",
       "\n",
       "    .dataframe thead th {\n",
       "        text-align: right;\n",
       "    }\n",
       "</style>\n",
       "<table border=\"1\" class=\"dataframe\">\n",
       "  <thead>\n",
       "    <tr style=\"text-align: right;\">\n",
       "      <th></th>\n",
       "      <th>email</th>\n",
       "      <th>date</th>\n",
       "      <th>title</th>\n",
       "      <th>info</th>\n",
       "    </tr>\n",
       "  </thead>\n",
       "  <tbody>\n",
       "    <tr>\n",
       "      <th>0</th>\n",
       "      <td>zobr2005@mail.ru</td>\n",
       "      <td>Wed Feb  6 03:00:00 2019</td>\n",
       "      <td>Collection #4 Combo List</td>\n",
       "      <td>On January 7, 2019, an online user named Sanix...</td>\n",
       "    </tr>\n",
       "    <tr>\n",
       "      <th>0</th>\n",
       "      <td>zobr2005@mail.ru</td>\n",
       "      <td>Fri Oct 21 03:00:00 2016</td>\n",
       "      <td>Adobe Systems</td>\n",
       "      <td>In October of 2013, criminals penetrated Adobe...</td>\n",
       "    </tr>\n",
       "    <tr>\n",
       "      <th>0</th>\n",
       "      <td>zobr2005@mail.ru</td>\n",
       "      <td>Tue Jan 29 03:00:00 2019</td>\n",
       "      <td>Collection #2 Combo List</td>\n",
       "      <td>On January 7, 2019, an online user named Sanix...</td>\n",
       "    </tr>\n",
       "    <tr>\n",
       "      <th>0</th>\n",
       "      <td>zobr2005@mail.ru</td>\n",
       "      <td>Fri Dec 13 03:00:00 2019</td>\n",
       "      <td>Sensitive Source</td>\n",
       "      <td>This source has been marked as sensitive due t...</td>\n",
       "    </tr>\n",
       "    <tr>\n",
       "      <th>0</th>\n",
       "      <td>d.anchunov@gmail.com</td>\n",
       "      <td>Wed Mar 20 03:00:00 2019</td>\n",
       "      <td>Bookmate</td>\n",
       "      <td>In July 2018, Bookmate was allegedly breached....</td>\n",
       "    </tr>\n",
       "  </tbody>\n",
       "</table>\n",
       "</div>"
      ],
      "text/plain": [
       "                  email                      date                     title  \\\n",
       "0      zobr2005@mail.ru  Wed Feb  6 03:00:00 2019  Collection #4 Combo List   \n",
       "0      zobr2005@mail.ru  Fri Oct 21 03:00:00 2016             Adobe Systems   \n",
       "0      zobr2005@mail.ru  Tue Jan 29 03:00:00 2019  Collection #2 Combo List   \n",
       "0      zobr2005@mail.ru  Fri Dec 13 03:00:00 2019          Sensitive Source   \n",
       "0  d.anchunov@gmail.com  Wed Mar 20 03:00:00 2019                  Bookmate   \n",
       "\n",
       "                                                info  \n",
       "0  On January 7, 2019, an online user named Sanix...  \n",
       "0  In October of 2013, criminals penetrated Adobe...  \n",
       "0  On January 7, 2019, an online user named Sanix...  \n",
       "0  This source has been marked as sensitive due t...  \n",
       "0  In July 2018, Bookmate was allegedly breached....  "
      ]
     },
     "execution_count": 209,
     "metadata": {},
     "output_type": "execute_result"
    }
   ],
   "source": [
    "test_result = pd.DataFrame()\n",
    "for email in EMAIL:\n",
    "    test_result = test_result.append(checking_your_email(email))\n",
    "    \n",
    "test_result.head()"
   ]
  },
  {
   "cell_type": "code",
   "execution_count": null,
   "metadata": {},
   "outputs": [],
   "source": []
  }
 ],
 "metadata": {
  "kernelspec": {
   "display_name": "Python 3",
   "language": "python",
   "name": "python3"
  },
  "language_info": {
   "codemirror_mode": {
    "name": "ipython",
    "version": 3
   },
   "file_extension": ".py",
   "mimetype": "text/x-python",
   "name": "python",
   "nbconvert_exporter": "python",
   "pygments_lexer": "ipython3",
   "version": "3.7.6"
  }
 },
 "nbformat": 4,
 "nbformat_minor": 4
}
