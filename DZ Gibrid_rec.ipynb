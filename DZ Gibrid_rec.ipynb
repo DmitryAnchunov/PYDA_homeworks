{
 "cells": [
  {
   "cell_type": "markdown",
   "metadata": {},
   "source": [
    "#### Задание \n",
    "\n",
    "Датасет ml-latest\n",
    "\n",
    "1.Вспомнить подходы\n",
    "3.Выбрать подход к гибридным системам\n",
    "4.Написать свою рекомендательную систему"
   ]
  },
  {
   "cell_type": "code",
   "execution_count": 1,
   "metadata": {},
   "outputs": [],
   "source": [
    "from surprise import SVD, SVDpp\n",
    "from surprise import Dataset\n",
    "from surprise import accuracy\n",
    "from surprise import Reader\n",
    "from surprise.model_selection import train_test_split\n",
    "\n",
    "import matplotlib.pyplot as plt\n",
    "\n",
    "from tqdm import tqdm_notebook\n",
    "\n",
    "from sklearn.feature_extraction.text import TfidfTransformer, CountVectorizer\n",
    "from sklearn.neighbors import NearestNeighbors\n",
    "\n",
    "import pandas as pd\n",
    "import numpy as np"
   ]
  },
  {
   "cell_type": "code",
   "execution_count": 2,
   "metadata": {},
   "outputs": [],
   "source": [
    "links = pd.read_csv('ml-latest/links.csv')\n",
    "\n",
    "genome_scores = pd.read_csv('ml-latest/genome-scores.csv')\n",
    "genome_tags = pd.read_csv('ml-latest/genome-tags.csv')\n",
    "\n",
    "movies = pd.read_csv('ml-latest/movies.csv')\n",
    "ratings = pd.read_csv('ml-latest/ratings.csv')\n",
    "tags = pd.read_csv('ml-latest/tags.csv')"
   ]
  },
  {
   "cell_type": "markdown",
   "metadata": {},
   "source": [
    "### Info\n",
    "* ratings - в строке одна оценка (0.5-5) одного фильма одним пользователем\n",
    "* tags - в строке один тег, к одному фильму одним пользователем\n",
    "* movies - в строке один фильм, его название и жанр\n",
    "* links - id фильмов в разных рейтинговых системах\n",
    "* genome - данные о релевантности тегов обзорам фильма"
   ]
  },
  {
   "cell_type": "code",
   "execution_count": 3,
   "metadata": {},
   "outputs": [
    {
     "name": "stdout",
     "output_type": "stream",
     "text": [
      "<class 'pandas.core.frame.DataFrame'>\n",
      "RangeIndex: 58098 entries, 0 to 58097\n",
      "Data columns (total 3 columns):\n",
      " #   Column   Non-Null Count  Dtype \n",
      "---  ------   --------------  ----- \n",
      " 0   movieId  58098 non-null  int64 \n",
      " 1   title    58098 non-null  object\n",
      " 2   genres   58098 non-null  object\n",
      "dtypes: int64(1), object(2)\n",
      "memory usage: 1.3+ MB\n"
     ]
    }
   ],
   "source": [
    "movies.info()"
   ]
  },
  {
   "cell_type": "code",
   "execution_count": 4,
   "metadata": {},
   "outputs": [
    {
     "data": {
      "text/html": [
       "<div>\n",
       "<style scoped>\n",
       "    .dataframe tbody tr th:only-of-type {\n",
       "        vertical-align: middle;\n",
       "    }\n",
       "\n",
       "    .dataframe tbody tr th {\n",
       "        vertical-align: top;\n",
       "    }\n",
       "\n",
       "    .dataframe thead th {\n",
       "        text-align: right;\n",
       "    }\n",
       "</style>\n",
       "<table border=\"1\" class=\"dataframe\">\n",
       "  <thead>\n",
       "    <tr style=\"text-align: right;\">\n",
       "      <th></th>\n",
       "      <th>userId</th>\n",
       "      <th>movieId</th>\n",
       "      <th>rating</th>\n",
       "      <th>timestamp</th>\n",
       "    </tr>\n",
       "  </thead>\n",
       "  <tbody>\n",
       "    <tr>\n",
       "      <th>99456</th>\n",
       "      <td>1040</td>\n",
       "      <td>1</td>\n",
       "      <td>2.5</td>\n",
       "      <td>1514919511</td>\n",
       "    </tr>\n",
       "    <tr>\n",
       "      <th>99457</th>\n",
       "      <td>1040</td>\n",
       "      <td>6</td>\n",
       "      <td>2.5</td>\n",
       "      <td>1466111934</td>\n",
       "    </tr>\n",
       "    <tr>\n",
       "      <th>99458</th>\n",
       "      <td>1040</td>\n",
       "      <td>32</td>\n",
       "      <td>2.5</td>\n",
       "      <td>1436766901</td>\n",
       "    </tr>\n",
       "    <tr>\n",
       "      <th>99459</th>\n",
       "      <td>1040</td>\n",
       "      <td>47</td>\n",
       "      <td>4.0</td>\n",
       "      <td>1434426257</td>\n",
       "    </tr>\n",
       "    <tr>\n",
       "      <th>99460</th>\n",
       "      <td>1040</td>\n",
       "      <td>50</td>\n",
       "      <td>3.5</td>\n",
       "      <td>1436679843</td>\n",
       "    </tr>\n",
       "    <tr>\n",
       "      <th>...</th>\n",
       "      <td>...</td>\n",
       "      <td>...</td>\n",
       "      <td>...</td>\n",
       "      <td>...</td>\n",
       "    </tr>\n",
       "    <tr>\n",
       "      <th>99919</th>\n",
       "      <td>1040</td>\n",
       "      <td>176101</td>\n",
       "      <td>3.0</td>\n",
       "      <td>1533791872</td>\n",
       "    </tr>\n",
       "    <tr>\n",
       "      <th>99920</th>\n",
       "      <td>1040</td>\n",
       "      <td>176419</td>\n",
       "      <td>4.5</td>\n",
       "      <td>1515990017</td>\n",
       "    </tr>\n",
       "    <tr>\n",
       "      <th>99921</th>\n",
       "      <td>1040</td>\n",
       "      <td>176937</td>\n",
       "      <td>3.0</td>\n",
       "      <td>1533791479</td>\n",
       "    </tr>\n",
       "    <tr>\n",
       "      <th>99922</th>\n",
       "      <td>1040</td>\n",
       "      <td>177689</td>\n",
       "      <td>2.0</td>\n",
       "      <td>1532418217</td>\n",
       "    </tr>\n",
       "    <tr>\n",
       "      <th>99923</th>\n",
       "      <td>1040</td>\n",
       "      <td>182715</td>\n",
       "      <td>3.5</td>\n",
       "      <td>1528660367</td>\n",
       "    </tr>\n",
       "  </tbody>\n",
       "</table>\n",
       "<p>468 rows × 4 columns</p>\n",
       "</div>"
      ],
      "text/plain": [
       "       userId  movieId  rating   timestamp\n",
       "99456    1040        1     2.5  1514919511\n",
       "99457    1040        6     2.5  1466111934\n",
       "99458    1040       32     2.5  1436766901\n",
       "99459    1040       47     4.0  1434426257\n",
       "99460    1040       50     3.5  1436679843\n",
       "...       ...      ...     ...         ...\n",
       "99919    1040   176101     3.0  1533791872\n",
       "99920    1040   176419     4.5  1515990017\n",
       "99921    1040   176937     3.0  1533791479\n",
       "99922    1040   177689     2.0  1532418217\n",
       "99923    1040   182715     3.5  1528660367\n",
       "\n",
       "[468 rows x 4 columns]"
      ]
     },
     "execution_count": 4,
     "metadata": {},
     "output_type": "execute_result"
    }
   ],
   "source": [
    "ratings[ratings.userId == 1040]"
   ]
  },
  {
   "cell_type": "code",
   "execution_count": 5,
   "metadata": {},
   "outputs": [],
   "source": [
    "rat_with_movies = ratings.join(movies.set_index('movieId'), on='movieId')\n",
    "\n",
    "# добавим в полученных tags_with_movies информацию об рейтинге фильма\n",
    "#tags_with_movies_rat = pd.merge(tags_with_movies, ratings,  how='left', left_on=['userId','movieId'], right_on = ['userId','movieId'])\n",
    "#tags_with_movies_rat = tags_with_movies_rat.dropna()\n",
    "\n",
    "# удаляем ненужные столбцы\n",
    "del rat_with_movies['timestamp']"
   ]
  },
  {
   "cell_type": "code",
   "execution_count": 6,
   "metadata": {},
   "outputs": [
    {
     "data": {
      "text/html": [
       "<div>\n",
       "<style scoped>\n",
       "    .dataframe tbody tr th:only-of-type {\n",
       "        vertical-align: middle;\n",
       "    }\n",
       "\n",
       "    .dataframe tbody tr th {\n",
       "        vertical-align: top;\n",
       "    }\n",
       "\n",
       "    .dataframe thead th {\n",
       "        text-align: right;\n",
       "    }\n",
       "</style>\n",
       "<table border=\"1\" class=\"dataframe\">\n",
       "  <thead>\n",
       "    <tr style=\"text-align: right;\">\n",
       "      <th></th>\n",
       "      <th>userId</th>\n",
       "      <th>movieId</th>\n",
       "      <th>rating</th>\n",
       "      <th>title</th>\n",
       "      <th>genres</th>\n",
       "    </tr>\n",
       "  </thead>\n",
       "  <tbody>\n",
       "    <tr>\n",
       "      <th>0</th>\n",
       "      <td>1</td>\n",
       "      <td>307</td>\n",
       "      <td>3.5</td>\n",
       "      <td>Three Colors: Blue (Trois couleurs: Bleu) (1993)</td>\n",
       "      <td>Drama</td>\n",
       "    </tr>\n",
       "    <tr>\n",
       "      <th>1</th>\n",
       "      <td>1</td>\n",
       "      <td>481</td>\n",
       "      <td>3.5</td>\n",
       "      <td>Kalifornia (1993)</td>\n",
       "      <td>Drama|Thriller</td>\n",
       "    </tr>\n",
       "    <tr>\n",
       "      <th>2</th>\n",
       "      <td>1</td>\n",
       "      <td>1091</td>\n",
       "      <td>1.5</td>\n",
       "      <td>Weekend at Bernie's (1989)</td>\n",
       "      <td>Comedy</td>\n",
       "    </tr>\n",
       "    <tr>\n",
       "      <th>3</th>\n",
       "      <td>1</td>\n",
       "      <td>1257</td>\n",
       "      <td>4.5</td>\n",
       "      <td>Better Off Dead... (1985)</td>\n",
       "      <td>Comedy|Romance</td>\n",
       "    </tr>\n",
       "    <tr>\n",
       "      <th>4</th>\n",
       "      <td>1</td>\n",
       "      <td>1449</td>\n",
       "      <td>4.5</td>\n",
       "      <td>Waiting for Guffman (1996)</td>\n",
       "      <td>Comedy</td>\n",
       "    </tr>\n",
       "    <tr>\n",
       "      <th>...</th>\n",
       "      <td>...</td>\n",
       "      <td>...</td>\n",
       "      <td>...</td>\n",
       "      <td>...</td>\n",
       "      <td>...</td>\n",
       "    </tr>\n",
       "    <tr>\n",
       "      <th>27753439</th>\n",
       "      <td>283228</td>\n",
       "      <td>8542</td>\n",
       "      <td>4.5</td>\n",
       "      <td>Day at the Races, A (1937)</td>\n",
       "      <td>Comedy|Musical</td>\n",
       "    </tr>\n",
       "    <tr>\n",
       "      <th>27753440</th>\n",
       "      <td>283228</td>\n",
       "      <td>8712</td>\n",
       "      <td>4.5</td>\n",
       "      <td>My Favorite Wife (1940)</td>\n",
       "      <td>Comedy|Romance</td>\n",
       "    </tr>\n",
       "    <tr>\n",
       "      <th>27753441</th>\n",
       "      <td>283228</td>\n",
       "      <td>34405</td>\n",
       "      <td>4.5</td>\n",
       "      <td>Serenity (2005)</td>\n",
       "      <td>Action|Adventure|Sci-Fi</td>\n",
       "    </tr>\n",
       "    <tr>\n",
       "      <th>27753442</th>\n",
       "      <td>283228</td>\n",
       "      <td>44761</td>\n",
       "      <td>4.5</td>\n",
       "      <td>Brick (2005)</td>\n",
       "      <td>Crime|Drama|Film-Noir|Mystery</td>\n",
       "    </tr>\n",
       "    <tr>\n",
       "      <th>27753443</th>\n",
       "      <td>283228</td>\n",
       "      <td>54286</td>\n",
       "      <td>4.5</td>\n",
       "      <td>Bourne Ultimatum, The (2007)</td>\n",
       "      <td>Action|Crime|Thriller</td>\n",
       "    </tr>\n",
       "  </tbody>\n",
       "</table>\n",
       "<p>27753444 rows × 5 columns</p>\n",
       "</div>"
      ],
      "text/plain": [
       "          userId  movieId  rating  \\\n",
       "0              1      307     3.5   \n",
       "1              1      481     3.5   \n",
       "2              1     1091     1.5   \n",
       "3              1     1257     4.5   \n",
       "4              1     1449     4.5   \n",
       "...          ...      ...     ...   \n",
       "27753439  283228     8542     4.5   \n",
       "27753440  283228     8712     4.5   \n",
       "27753441  283228    34405     4.5   \n",
       "27753442  283228    44761     4.5   \n",
       "27753443  283228    54286     4.5   \n",
       "\n",
       "                                                     title  \\\n",
       "0         Three Colors: Blue (Trois couleurs: Bleu) (1993)   \n",
       "1                                        Kalifornia (1993)   \n",
       "2                               Weekend at Bernie's (1989)   \n",
       "3                                Better Off Dead... (1985)   \n",
       "4                               Waiting for Guffman (1996)   \n",
       "...                                                    ...   \n",
       "27753439                        Day at the Races, A (1937)   \n",
       "27753440                           My Favorite Wife (1940)   \n",
       "27753441                                   Serenity (2005)   \n",
       "27753442                                      Brick (2005)   \n",
       "27753443                      Bourne Ultimatum, The (2007)   \n",
       "\n",
       "                                 genres  \n",
       "0                                 Drama  \n",
       "1                        Drama|Thriller  \n",
       "2                                Comedy  \n",
       "3                        Comedy|Romance  \n",
       "4                                Comedy  \n",
       "...                                 ...  \n",
       "27753439                 Comedy|Musical  \n",
       "27753440                 Comedy|Romance  \n",
       "27753441        Action|Adventure|Sci-Fi  \n",
       "27753442  Crime|Drama|Film-Noir|Mystery  \n",
       "27753443          Action|Crime|Thriller  \n",
       "\n",
       "[27753444 rows x 5 columns]"
      ]
     },
     "execution_count": 6,
     "metadata": {},
     "output_type": "execute_result"
    }
   ],
   "source": [
    "rat_with_movies"
   ]
  },
  {
   "cell_type": "markdown",
   "metadata": {},
   "source": [
    "### Соберем датасет"
   ]
  },
  {
   "cell_type": "code",
   "execution_count": 7,
   "metadata": {},
   "outputs": [
    {
     "name": "stderr",
     "output_type": "stream",
     "text": [
      "/opt/anaconda3/lib/python3.7/site-packages/ipykernel_launcher.py:9: TqdmDeprecationWarning: This function will be removed in tqdm==5.0.0\n",
      "Please use `tqdm.notebook.tqdm` instead of `tqdm.tqdm_notebook`\n",
      "  if __name__ == '__main__':\n"
     ]
    },
    {
     "data": {
      "application/vnd.jupyter.widget-view+json": {
       "model_id": "0e0321fae9b949f5a7701ecac3cc929b",
       "version_major": 2,
       "version_minor": 0
      },
      "text/plain": [
       "HBox(children=(FloatProgress(value=0.0, max=12654.0), HTML(value='')))"
      ]
     },
     "metadata": {},
     "output_type": "display_data"
    },
    {
     "name": "stdout",
     "output_type": "stream",
     "text": [
      "\n"
     ]
    },
    {
     "name": "stderr",
     "output_type": "stream",
     "text": [
      "/opt/anaconda3/lib/python3.7/site-packages/ipykernel_launcher.py:22: TqdmDeprecationWarning: This function will be removed in tqdm==5.0.0\n",
      "Please use `tqdm.notebook.tqdm` instead of `tqdm.tqdm_notebook`\n"
     ]
    },
    {
     "data": {
      "application/vnd.jupyter.widget-view+json": {
       "model_id": "2436be7421b64c30abcd2929957fc67f",
       "version_major": 2,
       "version_minor": 0
      },
      "text/plain": [
       "HBox(children=(FloatProgress(value=0.0, max=45981.0), HTML(value='')))"
      ]
     },
     "metadata": {},
     "output_type": "display_data"
    },
    {
     "name": "stdout",
     "output_type": "stream",
     "text": [
      "\n"
     ]
    },
    {
     "data": {
      "text/html": [
       "<div>\n",
       "<style scoped>\n",
       "    .dataframe tbody tr th:only-of-type {\n",
       "        vertical-align: middle;\n",
       "    }\n",
       "\n",
       "    .dataframe tbody tr th {\n",
       "        vertical-align: top;\n",
       "    }\n",
       "\n",
       "    .dataframe thead th {\n",
       "        text-align: right;\n",
       "    }\n",
       "</style>\n",
       "<table border=\"1\" class=\"dataframe\">\n",
       "  <thead>\n",
       "    <tr style=\"text-align: right;\">\n",
       "      <th></th>\n",
       "      <th>movieId</th>\n",
       "      <th>title</th>\n",
       "      <th>best_tags</th>\n",
       "      <th>tags</th>\n",
       "      <th>genres_new</th>\n",
       "      <th>all_tags</th>\n",
       "    </tr>\n",
       "  </thead>\n",
       "  <tbody>\n",
       "    <tr>\n",
       "      <th>0</th>\n",
       "      <td>1</td>\n",
       "      <td>Toy Story (1995)</td>\n",
       "      <td>adventure animated animation cartoon childhood...</td>\n",
       "      <td>animated buddymovie Cartoon cgi comedy compute...</td>\n",
       "      <td>Adventure Animation Children Comedy Fantasy</td>\n",
       "      <td>adventure animated animation cartoon childhood...</td>\n",
       "    </tr>\n",
       "    <tr>\n",
       "      <th>1</th>\n",
       "      <td>2</td>\n",
       "      <td>Jumanji (1995)</td>\n",
       "      <td>adventure animals children family fantasy fant...</td>\n",
       "      <td>fantasy adaptedfrombook animals badcgi basedon...</td>\n",
       "      <td>Adventure Children Fantasy</td>\n",
       "      <td>adventure animals children family fantasy fant...</td>\n",
       "    </tr>\n",
       "    <tr>\n",
       "      <th>2</th>\n",
       "      <td>3</td>\n",
       "      <td>Grumpier Old Men (1995)</td>\n",
       "      <td>comedy goodsequel sequel sequels</td>\n",
       "      <td>moldy old AnnMargaret BurgessMeredith DarylHan...</td>\n",
       "      <td>Comedy Romance</td>\n",
       "      <td>comedy goodsequel sequel sequels</td>\n",
       "    </tr>\n",
       "    <tr>\n",
       "      <th>3</th>\n",
       "      <td>4</td>\n",
       "      <td>Waiting to Exhale (1995)</td>\n",
       "      <td>chickflick women</td>\n",
       "      <td>characters girlmovie characters chickflick bas...</td>\n",
       "      <td>Comedy Drama Romance</td>\n",
       "      <td>chickflick women</td>\n",
       "    </tr>\n",
       "    <tr>\n",
       "      <th>4</th>\n",
       "      <td>5</td>\n",
       "      <td>Father of the Bride Part II (1995)</td>\n",
       "      <td>family fatherdaughterrelationship goodsequel p...</td>\n",
       "      <td>stevemartin stevemartin pregnancy remake aging...</td>\n",
       "      <td>Comedy</td>\n",
       "      <td>family fatherdaughterrelationship goodsequel p...</td>\n",
       "    </tr>\n",
       "    <tr>\n",
       "      <th>...</th>\n",
       "      <td>...</td>\n",
       "      <td>...</td>\n",
       "      <td>...</td>\n",
       "      <td>...</td>\n",
       "      <td>...</td>\n",
       "      <td>...</td>\n",
       "    </tr>\n",
       "    <tr>\n",
       "      <th>58038</th>\n",
       "      <td>193761</td>\n",
       "      <td>Bel Canto (2018)</td>\n",
       "      <td>NaN</td>\n",
       "      <td>concert hostage kidnapping operasinger rebel r...</td>\n",
       "      <td>Drama Thriller</td>\n",
       "      <td>concert hostage kidnapping operasinger rebel r...</td>\n",
       "    </tr>\n",
       "    <tr>\n",
       "      <th>58062</th>\n",
       "      <td>193811</td>\n",
       "      <td>Burning Shadow (2018)</td>\n",
       "      <td>NaN</td>\n",
       "      <td>doppelganger JulieDelpy</td>\n",
       "      <td>Thriller</td>\n",
       "      <td>doppelganger JulieDelpy</td>\n",
       "    </tr>\n",
       "    <tr>\n",
       "      <th>58074</th>\n",
       "      <td>193837</td>\n",
       "      <td>Lily C.A.T. (1987)</td>\n",
       "      <td>NaN</td>\n",
       "      <td>aliens anime cat spacemarines virus</td>\n",
       "      <td>Animation Horror SciFi</td>\n",
       "      <td>aliens anime cat spacemarines virus</td>\n",
       "    </tr>\n",
       "    <tr>\n",
       "      <th>58087</th>\n",
       "      <td>193864</td>\n",
       "      <td>No somos de piedra (1968)</td>\n",
       "      <td>NaN</td>\n",
       "      <td>AlfredoLanda anticonception comic family house...</td>\n",
       "      <td>Comedy</td>\n",
       "      <td>AlfredoLanda anticonception comic family house...</td>\n",
       "    </tr>\n",
       "    <tr>\n",
       "      <th>58089</th>\n",
       "      <td>193868</td>\n",
       "      <td>Dos tipos de cuidado (1953)</td>\n",
       "      <td>NaN</td>\n",
       "      <td>blackandwhite comedy friendship fun marriage M...</td>\n",
       "      <td>Comedy Drama Romance Western</td>\n",
       "      <td>blackandwhite comedy friendship fun marriage M...</td>\n",
       "    </tr>\n",
       "  </tbody>\n",
       "</table>\n",
       "<p>46107 rows × 6 columns</p>\n",
       "</div>"
      ],
      "text/plain": [
       "       movieId                               title  \\\n",
       "0            1                    Toy Story (1995)   \n",
       "1            2                      Jumanji (1995)   \n",
       "2            3             Grumpier Old Men (1995)   \n",
       "3            4            Waiting to Exhale (1995)   \n",
       "4            5  Father of the Bride Part II (1995)   \n",
       "...        ...                                 ...   \n",
       "58038   193761                    Bel Canto (2018)   \n",
       "58062   193811               Burning Shadow (2018)   \n",
       "58074   193837                  Lily C.A.T. (1987)   \n",
       "58087   193864           No somos de piedra (1968)   \n",
       "58089   193868         Dos tipos de cuidado (1953)   \n",
       "\n",
       "                                               best_tags  \\\n",
       "0      adventure animated animation cartoon childhood...   \n",
       "1      adventure animals children family fantasy fant...   \n",
       "2                       comedy goodsequel sequel sequels   \n",
       "3                                       chickflick women   \n",
       "4      family fatherdaughterrelationship goodsequel p...   \n",
       "...                                                  ...   \n",
       "58038                                                NaN   \n",
       "58062                                                NaN   \n",
       "58074                                                NaN   \n",
       "58087                                                NaN   \n",
       "58089                                                NaN   \n",
       "\n",
       "                                                    tags  \\\n",
       "0      animated buddymovie Cartoon cgi comedy compute...   \n",
       "1      fantasy adaptedfrombook animals badcgi basedon...   \n",
       "2      moldy old AnnMargaret BurgessMeredith DarylHan...   \n",
       "3      characters girlmovie characters chickflick bas...   \n",
       "4      stevemartin stevemartin pregnancy remake aging...   \n",
       "...                                                  ...   \n",
       "58038  concert hostage kidnapping operasinger rebel r...   \n",
       "58062                            doppelganger JulieDelpy   \n",
       "58074                aliens anime cat spacemarines virus   \n",
       "58087  AlfredoLanda anticonception comic family house...   \n",
       "58089  blackandwhite comedy friendship fun marriage M...   \n",
       "\n",
       "                                        genres_new  \\\n",
       "0      Adventure Animation Children Comedy Fantasy   \n",
       "1                       Adventure Children Fantasy   \n",
       "2                                   Comedy Romance   \n",
       "3                             Comedy Drama Romance   \n",
       "4                                           Comedy   \n",
       "...                                            ...   \n",
       "58038                               Drama Thriller   \n",
       "58062                                     Thriller   \n",
       "58074                       Animation Horror SciFi   \n",
       "58087                                       Comedy   \n",
       "58089                 Comedy Drama Romance Western   \n",
       "\n",
       "                                                all_tags  \n",
       "0      adventure animated animation cartoon childhood...  \n",
       "1      adventure animals children family fantasy fant...  \n",
       "2                       comedy goodsequel sequel sequels  \n",
       "3                                       chickflick women  \n",
       "4      family fatherdaughterrelationship goodsequel p...  \n",
       "...                                                  ...  \n",
       "58038  concert hostage kidnapping operasinger rebel r...  \n",
       "58062                            doppelganger JulieDelpy  \n",
       "58074                aliens anime cat spacemarines virus  \n",
       "58087  AlfredoLanda anticonception comic family house...  \n",
       "58089  blackandwhite comedy friendship fun marriage M...  \n",
       "\n",
       "[46107 rows x 6 columns]"
      ]
     },
     "execution_count": 7,
     "metadata": {},
     "output_type": "execute_result"
    }
   ],
   "source": [
    "#tags_with_movies = tags.join(movies.set_index('movieId'), on='movieId')\n",
    "best_scores = genome_scores[genome_scores.relevance > 0.85] # релевантные теги\n",
    "best_tags = best_scores.join(genome_tags.set_index('tagId'), on='tagId') # добавим содержание тегов\n",
    "\n",
    "# соберем теги по фильмам\n",
    "tag_strings = []\n",
    "movies_ = []\n",
    "\n",
    "for movie, group in tqdm_notebook(best_tags.groupby('movieId')):\n",
    "    tag_strings.append(' '.join([str(s).replace(' ', '').replace(':', '').replace('-', '') for s in group.tag.values]))\n",
    "    movies_.append(movie)\n",
    "\n",
    "best_tags = zip(movies_, tag_strings)\n",
    "best_tags = pd.DataFrame(best_tags, columns = ['movieId', 'best_tags']) \n",
    "\n",
    "movies_with_best_tags = movies.join(best_tags.set_index('movieId'), on='movieId') # добавим список релевантных тегов к фильмам\n",
    "\n",
    "# соберем теги к одному фильму по каждому пользователю\n",
    "tag_strings = []\n",
    "user_movies = []\n",
    "\n",
    "for user_movie, group in tqdm_notebook(tags.groupby('movieId')):\n",
    "    tag_strings.append(' '.join([str(s).replace(' ', '').replace(':', '').replace('-', '') for s in group.tag.values]))\n",
    "    user_movies.append(user_movie)\n",
    "\n",
    "list_tags = zip(user_movies, tag_strings)\n",
    "list_tags = pd.DataFrame(list_tags, columns = ['movieId', 'tags']) \n",
    "\n",
    "# объединим польз теги с данными по фильмам и жанрам\n",
    "movies_usertags_besttags = movies_with_best_tags.join(list_tags.set_index('movieId'), on='movieId')\n",
    "\n",
    "# очищаем данные по жанрам\n",
    "def change_string(s):\n",
    "    return ' '.join(s.replace(' ', '').replace(':', '').replace('-', '').split('|'))\n",
    "\n",
    "movies_usertags_besttags['genres_new'] = movies_usertags_besttags.genres.apply(change_string)\n",
    "\n",
    "# удаляем ненужные столбцы\n",
    "del movies_usertags_besttags['genres']\n",
    "\n",
    "# объединяем лучшие и пользовательские теги, там где нет лучших \n",
    "movies_usertags_besttags['all_tags'] = np.where(pd.isna(movies_usertags_besttags['best_tags']), \n",
    "                                                movies_usertags_besttags['tags'], movies_usertags_besttags['best_tags'])\n",
    "# удаляем строки с Nan\n",
    "movies_usertags_besttags = movies_usertags_besttags.dropna(thresh=5)\n",
    "\n",
    "movies_usertags_besttags"
   ]
  },
  {
   "cell_type": "markdown",
   "metadata": {},
   "source": [
    "### Обучим алгоритм скрытых факторов"
   ]
  },
  {
   "cell_type": "code",
   "execution_count": 8,
   "metadata": {},
   "outputs": [],
   "source": [
    "dataset = pd.DataFrame({\n",
    "    'uid': rat_with_movies.userId,\n",
    "    'iid': rat_with_movies.title,\n",
    "    'rating': rat_with_movies.rating\n",
    "})"
   ]
  },
  {
   "cell_type": "code",
   "execution_count": 9,
   "metadata": {},
   "outputs": [
    {
     "data": {
      "text/plain": [
       "array([3.5, 1.5, 4.5, 2.5, 4. , 3. , 2. , 5. , 1. , 0.5])"
      ]
     },
     "execution_count": 9,
     "metadata": {},
     "output_type": "execute_result"
    }
   ],
   "source": [
    "dataset.rating.unique()"
   ]
  },
  {
   "cell_type": "code",
   "execution_count": 10,
   "metadata": {},
   "outputs": [],
   "source": [
    "reader = Reader(rating_scale=(0.5, 5.0))\n",
    "data = Dataset.load_from_df(dataset, reader)"
   ]
  },
  {
   "cell_type": "code",
   "execution_count": 11,
   "metadata": {},
   "outputs": [],
   "source": [
    "trainset, testset = train_test_split(data, test_size=.15, random_state=42)"
   ]
  },
  {
   "cell_type": "code",
   "execution_count": 12,
   "metadata": {},
   "outputs": [
    {
     "data": {
      "text/plain": [
       "<surprise.prediction_algorithms.matrix_factorization.SVD at 0x7f992d92f650>"
      ]
     },
     "execution_count": 12,
     "metadata": {},
     "output_type": "execute_result"
    }
   ],
   "source": [
    "algo = SVD(n_factors=20, n_epochs=20)\n",
    "algo.fit(trainset)"
   ]
  },
  {
   "cell_type": "code",
   "execution_count": 13,
   "metadata": {},
   "outputs": [
    {
     "name": "stdout",
     "output_type": "stream",
     "text": [
      "RMSE: 0.7977\n"
     ]
    },
    {
     "data": {
      "text/plain": [
       "0.7977315486645882"
      ]
     },
     "execution_count": 13,
     "metadata": {},
     "output_type": "execute_result"
    }
   ],
   "source": [
    "test_pred = algo.test(testset)\n",
    "accuracy.rmse(test_pred, verbose=True)"
   ]
  },
  {
   "cell_type": "markdown",
   "metadata": {},
   "source": [
    "### Создадим словари жанров и тегов по фильмам"
   ]
  },
  {
   "cell_type": "code",
   "execution_count": 14,
   "metadata": {},
   "outputs": [
    {
     "name": "stderr",
     "output_type": "stream",
     "text": [
      "/opt/anaconda3/lib/python3.7/site-packages/ipykernel_launcher.py:4: TqdmDeprecationWarning: This function will be removed in tqdm==5.0.0\n",
      "Please use `tqdm.notebook.tqdm` instead of `tqdm.tqdm_notebook`\n",
      "  after removing the cwd from sys.path.\n"
     ]
    },
    {
     "data": {
      "application/vnd.jupyter.widget-view+json": {
       "model_id": "a07d7d7c176546479ac12682d132101b",
       "version_major": 2,
       "version_minor": 0
      },
      "text/plain": [
       "HBox(children=(FloatProgress(value=1.0, bar_style='info', max=1.0), HTML(value='')))"
      ]
     },
     "metadata": {},
     "output_type": "display_data"
    },
    {
     "name": "stdout",
     "output_type": "stream",
     "text": [
      "\n"
     ]
    }
   ],
   "source": [
    "title_genres = {}\n",
    "title_tags = {}\n",
    "\n",
    "for index, row in tqdm_notebook(movies_usertags_besttags.iterrows()):\n",
    "    title_genres[row.title] = row.genres_new\n",
    "    title_tags[row.title] = row.all_tags"
   ]
  },
  {
   "cell_type": "code",
   "execution_count": null,
   "metadata": {},
   "outputs": [],
   "source": [
    "def change_string(s):\n",
    "    return ' '.join(s.replace(' ', '').replace('-', '').split('|'))\n",
    "movie_genres = [change_string(g) for g in movies.genres.values]"
   ]
  },
  {
   "cell_type": "markdown",
   "metadata": {},
   "source": [
    "### Подготовим модель отбора фильмов по жанрам"
   ]
  },
  {
   "cell_type": "code",
   "execution_count": 289,
   "metadata": {},
   "outputs": [],
   "source": [
    "movie_genres = movies_usertags_besttags.genres_new.values"
   ]
  },
  {
   "cell_type": "code",
   "execution_count": 304,
   "metadata": {},
   "outputs": [],
   "source": [
    "count_vect = CountVectorizer()\n",
    "X_train_counts = count_vect.fit_transform(movie_genres)\n",
    "\n",
    "tfidf_transformer = TfidfTransformer()\n",
    "X_train_tfidf = tfidf_transformer.fit_transform(X_train_counts)\n",
    "\n",
    "neigh = NearestNeighbors(n_neighbors=1000, n_jobs=-1, metric='euclidean') \n",
    "neigh_genres = neigh.fit(X_train_tfidf)"
   ]
  },
  {
   "cell_type": "markdown",
   "metadata": {},
   "source": [
    "### Подготовим модель отбора фильмов по тегам"
   ]
  },
  {
   "cell_type": "code",
   "execution_count": 15,
   "metadata": {},
   "outputs": [],
   "source": [
    "movie_tags = movies_usertags_besttags.all_tags.values"
   ]
  },
  {
   "cell_type": "code",
   "execution_count": 17,
   "metadata": {},
   "outputs": [],
   "source": [
    "count_vect = CountVectorizer()\n",
    "X_train_counts2 = count_vect.fit_transform(movie_tags)\n",
    "\n",
    "tfidf_transformer = TfidfTransformer()\n",
    "X_train_tfidf2 = tfidf_transformer.fit_transform(X_train_counts2)\n",
    "\n",
    "neigh2 = NearestNeighbors(n_neighbors=30, n_jobs=-1, metric='euclidean') \n",
    "neigh_tags = neigh2.fit(X_train_tfidf2)"
   ]
  },
  {
   "cell_type": "code",
   "execution_count": 18,
   "metadata": {},
   "outputs": [],
   "source": [
    "def recommend_for_user(user_id):\n",
    "    current_user_id = user_id\n",
    "    user_movies = rat_with_movies[rat_with_movies.userId == current_user_id].title.unique()\n",
    "    \n",
    "    # данные о последнем фильме пользователя\n",
    "    last_user_movie = user_movies[-1]\n",
    "    movie_genres_user = title_genres[last_user_movie]\n",
    "    movie_tags_user = title_tags[last_user_movie]\n",
    "    \n",
    "    # преобразуем эти данные в tfidf\n",
    "#    predict = count_vect.transform([movie_genres_user])\n",
    "    predict2 = count_vect.transform([movie_tags_user])\n",
    "#    X_tfidf = tfidf_transformer.transform(predict)\n",
    "    X_tfidf2 = tfidf_transformer.transform(predict2)\n",
    "\n",
    "#    res = neigh_genres.kneighbors(X_tfidf, return_distance=True)\n",
    "    res2 = neigh_tags.kneighbors(X_tfidf2, return_distance=True)\n",
    "    \n",
    "#    movies_to_score = movies_usertags_besttags.iloc[res[1][0]].title.values\n",
    "    movies_to_score2 = movies_usertags_besttags.iloc[res2[1][0]].title.values\n",
    "\n",
    "    scores = []\n",
    "    titles = []\n",
    "\n",
    "    for movie in movies_to_score2:\n",
    "        if movie in user_movies:\n",
    "            continue\n",
    "        \n",
    "#        if movie in movies_to_score:\n",
    "        scores.append(algo.predict(uid=current_user_id, iid=movie).est)\n",
    "        titles.append(movie)\n",
    "\n",
    "    best_indexes = np.argsort(scores)[-10:]\n",
    "    for i in reversed(best_indexes):\n",
    "        print(titles[i], scores[i])"
   ]
  },
  {
   "cell_type": "code",
   "execution_count": 19,
   "metadata": {},
   "outputs": [
    {
     "name": "stdout",
     "output_type": "stream",
     "text": [
      "The Bremen Town Musicians (1969) 4.213564895710822\n",
      "The Possibilities Are Endless (2014) 4.188456202163505\n",
      "Dirty Computer (2018) 4.108202875255567\n",
      "The Ecstasy of Wilko Johnson (2015) 4.072976657282569\n",
      "Best Worst Thing That Ever Could Have Happened... (2016) 4.0401968693901695\n",
      "Fish Heads (1980) 3.9605509336595115\n",
      "Bao (2018) 3.9270224181524256\n",
      "Junun (2015) 3.9265427566980877\n",
      "Ánimas Trujano (1962) 3.8738802838525435\n",
      "Elektro Moskva (2013) 3.8077721467613537\n"
     ]
    }
   ],
   "source": [
    "recommend_for_user(14.0)"
   ]
  },
  {
   "cell_type": "code",
   "execution_count": null,
   "metadata": {},
   "outputs": [],
   "source": []
  }
 ],
 "metadata": {
  "kernelspec": {
   "display_name": "Python 3",
   "language": "python",
   "name": "python3"
  },
  "language_info": {
   "codemirror_mode": {
    "name": "ipython",
    "version": 3
   },
   "file_extension": ".py",
   "mimetype": "text/x-python",
   "name": "python",
   "nbconvert_exporter": "python",
   "pygments_lexer": "ipython3",
   "version": "3.7.6"
  }
 },
 "nbformat": 4,
 "nbformat_minor": 4
}
