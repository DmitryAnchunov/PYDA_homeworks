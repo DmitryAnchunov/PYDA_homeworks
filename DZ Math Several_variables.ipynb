{
 "cells": [
  {
   "cell_type": "code",
   "execution_count": 2,
   "metadata": {},
   "outputs": [],
   "source": [
    "import matplotlib.pyplot as plt\n",
    "import numpy as np\n",
    "from sympy import diff, symbols, cos, sin\n",
    "from mpl_toolkits.mplot3d import Axes3D\n",
    "from matplotlib import cm\n",
    "from matplotlib.ticker import LinearLocator, FormatStrFormatter\n",
    "from scipy.optimize import minimize\n",
    "from scipy.optimize import approx_fprime\n",
    "\n",
    "%matplotlib inline"
   ]
  },
  {
   "cell_type": "markdown",
   "metadata": {},
   "source": [
    "#### Задание 1:\n",
    "\n",
    "Посчитайте частные производные функций (как обычно, необходимо решение на бумажке или в LaTeX и на scipy):\n",
    "\n",
    "1) $f(x,y)=2x^2y^3 + 1/x + y^2x + 7$, а для этой функции также градиент в точке $(1,2)$\n",
    "\n",
    "2) $f(x,y)=x^2y - sin(xy) + cos(x^2) + 6y$"
   ]
  },
  {
   "cell_type": "markdown",
   "metadata": {},
   "source": [
    "Решение на \"бумажке\":\n",
    "\n",
    "1) $f'x = 4x*y^3 - 1/x^2 + y^2$,\n",
    "\n",
    "   $f'y = 2*x*y(3*x*y + 1)$\n",
    "\n",
    "2) $f'x = 2x*(y - sin(x^2)) - y*cos(x*y)$\n",
    "   \n",
    "   $f'y = x^2 - x*cos(x*y) + 6$"
   ]
  },
  {
   "cell_type": "code",
   "execution_count": 106,
   "metadata": {},
   "outputs": [
    {
     "data": {
      "text/latex": [
       "$\\displaystyle 2 x y - 2 x \\sin{\\left(x^{2} \\right)} - y \\cos{\\left(x y \\right)}$"
      ],
      "text/plain": [
       "2*x*y - 2*x*sin(x**2) - y*cos(x*y)"
      ]
     },
     "execution_count": 106,
     "metadata": {},
     "output_type": "execute_result"
    }
   ],
   "source": [
    "# метод diff для проверки корректности производных функций:\n",
    "x, y = symbols('x y')\n",
    "diff((x**2)*y - sin(x*y) + cos(x**2) + 6*y, x) # частная производная функция по x 2-ой функции"
   ]
  },
  {
   "cell_type": "code",
   "execution_count": 32,
   "metadata": {},
   "outputs": [],
   "source": [
    "def func(x):\n",
    "    \n",
    "    return 2*(x[0]**2)*(x[1]**3) + 1/x[0] + (x[1]**2)*x[0] + 7"
   ]
  },
  {
   "cell_type": "code",
   "execution_count": 35,
   "metadata": {},
   "outputs": [
    {
     "data": {
      "text/plain": [
       "array([35.00000024, 28.00000024])"
      ]
     },
     "execution_count": 35,
     "metadata": {},
     "output_type": "execute_result"
    }
   ],
   "source": [
    "x0 = np.array([1, 2])\n",
    "\n",
    "eps = np.sqrt(np.finfo(float).eps)\n",
    "approx_fprime(x0, func, [eps, eps]) # градиент функии №1 в точке (1,2)"
   ]
  },
  {
   "cell_type": "markdown",
   "metadata": {},
   "source": [
    "#### Задание 2: Градиентный спуск своими руками:\n",
    "    f(x): (x[0]**2) + (x[1]**2)\n",
    "\n",
    "    x = np.array([100, 200])\n",
    "    learning_rate = 0.1"
   ]
  },
  {
   "cell_type": "code",
   "execution_count": 89,
   "metadata": {},
   "outputs": [],
   "source": [
    "def f(x):\n",
    "    return (x[0]**2) + (x[1]**2)"
   ]
  },
  {
   "cell_type": "code",
   "execution_count": 101,
   "metadata": {},
   "outputs": [],
   "source": [
    "x = np.array([100, 200])\n",
    "learning_rate = 0.1"
   ]
  },
  {
   "cell_type": "code",
   "execution_count": 102,
   "metadata": {},
   "outputs": [],
   "source": [
    "z = np.array([f(x)])\n",
    "\n",
    "for i in range(100):\n",
    "    \n",
    "    # Calculate gradient\n",
    "    eps = np.sqrt(np.finfo(float).eps)\n",
    "    grad = approx_fprime(x, f, [eps, eps])# функция для вычисления градиента\n",
    "    \n",
    "    # Update x with gradient\n",
    "    x = x - learning_rate * grad # градиентный спуск в направлении антиградиента\n",
    "    z = np.append(z, f(x))"
   ]
  },
  {
   "cell_type": "code",
   "execution_count": 103,
   "metadata": {},
   "outputs": [
    {
     "name": "stdout",
     "output_type": "stream",
     "text": [
      "Минимум достигается в:  [1.29197811e-08 3.32901401e-08]\n",
      "Значение функции в минимуме:  1.2751541739575636e-15\n"
     ]
    }
   ],
   "source": [
    "print(\"Минимум достигается в: \", x)\n",
    "print(\"Значение функции в минимуме: \", f(x))"
   ]
  },
  {
   "cell_type": "code",
   "execution_count": 105,
   "metadata": {},
   "outputs": [
    {
     "data": {
      "text/plain": [
       "array([-1.80000000e+05, -1.47600000e+05, -9.44640000e+04, -6.04569550e+04,\n",
       "       -3.86924576e+04, -2.47631782e+04, -1.58484270e+04, -1.01429928e+04,\n",
       "       -6.49151580e+03, -4.15457023e+03, -2.65892502e+03, -1.70171212e+03,\n",
       "       -1.08909588e+03, -6.97021337e+02, -4.46093662e+02, -2.85499948e+02,\n",
       "       -1.82719966e+02, -1.16940781e+02, -7.48420993e+01, -4.78989426e+01,\n",
       "       -3.06553228e+01, -1.96194067e+01, -1.25564204e+01, -8.03610903e+00,\n",
       "       -5.14310977e+00, -3.29159024e+00, -2.10661774e+00, -1.34823535e+00,\n",
       "       -8.62870618e-01, -5.52237193e-01, -3.53431802e-01, -2.26196351e-01,\n",
       "       -1.44765663e-01, -9.26500231e-02, -5.92960137e-02, -3.79494480e-02,\n",
       "       -2.42876461e-02, -1.55440930e-02, -9.94821908e-03, -6.36685988e-03,\n",
       "       -4.07479005e-03, -2.60786542e-03, -1.66903370e-03, -1.06818143e-03,\n",
       "       -6.83636006e-04, -4.37526956e-04, -2.80017182e-04, -1.79210940e-04,\n",
       "       -1.14694957e-04, -7.34047365e-05, -4.69790027e-05, -3.00665387e-05,\n",
       "       -1.92425664e-05, -1.23152278e-05, -7.88173403e-06, -5.04430037e-06,\n",
       "       -3.22834471e-06, -2.06613459e-06, -1.32232132e-06, -8.46281794e-07,\n",
       "       -5.41617265e-07, -3.46632583e-07, -2.21842880e-07, -1.41977865e-07,\n",
       "       -9.08645709e-08, -5.81523152e-08, -3.72166735e-08, -2.38180245e-08,\n",
       "       -1.52430185e-08, -9.75511806e-09, -6.24294454e-09, -3.99521969e-09,\n",
       "       -2.55672875e-09, -1.63613692e-09, -1.04699204e-09, -6.69966439e-10,\n",
       "       -4.28691746e-10, -2.74293298e-10, -1.75492175e-10, -1.12270563e-10,\n",
       "       -7.18176176e-11, -4.59348409e-11, -2.93755507e-11, -1.87821545e-11,\n",
       "       -1.20060205e-11, -7.67220643e-12, -4.90089476e-12, -3.12911876e-12,\n",
       "       -1.99667290e-12, -1.27310017e-12, -8.10967717e-13, -5.15966227e-13,\n",
       "       -3.27775896e-13, -2.07822582e-13, -1.31443259e-13, -8.28731311e-14,\n",
       "       -5.20383602e-14, -3.25041956e-14, -2.01624012e-14, -1.23917096e-14,\n",
       "       -9.39394831e-15])"
      ]
     },
     "execution_count": 105,
     "metadata": {},
     "output_type": "execute_result"
    }
   ],
   "source": [
    "# Проверка с помощью встроенной функции numpy (последнее значение показывает минимальное значение градиента):\n",
    "j = np.gradient(z, learning_rate)\n",
    "j"
   ]
  },
  {
   "cell_type": "code",
   "execution_count": null,
   "metadata": {},
   "outputs": [],
   "source": []
  }
 ],
 "metadata": {
  "kernelspec": {
   "display_name": "Python 3",
   "language": "python",
   "name": "python3"
  },
  "language_info": {
   "codemirror_mode": {
    "name": "ipython",
    "version": 3
   },
   "file_extension": ".py",
   "mimetype": "text/x-python",
   "name": "python",
   "nbconvert_exporter": "python",
   "pygments_lexer": "ipython3",
   "version": "3.7.6"
  }
 },
 "nbformat": 4,
 "nbformat_minor": 4
}
