{
 "cells": [
  {
   "cell_type": "markdown",
   "metadata": {},
   "source": [
    "**Задание 1**. Даны 2 строки: *long_phrase* и *short_phrase*. \n",
    "Напишите код, который проверяет действительно ли длинная фраза *long_phrase* длиннее короткой *short_phrase*. И выводит *True* или *False* в зависимости от результата сравнения."
   ]
  },
  {
   "cell_type": "code",
   "execution_count": 1,
   "metadata": {},
   "outputs": [],
   "source": [
    "long_phrase = 'Насколько проще было бы писать программы, если бы не заказчики'\n",
    "short_phrase = '640Кб должно хватить для любых задач. Билл Гейтс (по легенде)'"
   ]
  },
  {
   "cell_type": "code",
   "execution_count": 2,
   "metadata": {},
   "outputs": [
    {
     "data": {
      "text/plain": [
       "True"
      ]
     },
     "execution_count": 2,
     "metadata": {},
     "output_type": "execute_result"
    }
   ],
   "source": [
    "len(long_phrase) > len (short_phrase)"
   ]
  },
  {
   "cell_type": "markdown",
   "metadata": {},
   "source": [
    "**Задание 2**. Дано значение объема файла в байтах (*в мегабайте 2^20 байт*). Напишите перевод этого значения в мегабайты в формате: \"*Объем файла равен 213.68Mb*\"."
   ]
  },
  {
   "cell_type": "code",
   "execution_count": 30,
   "metadata": {},
   "outputs": [
    {
     "name": "stdout",
     "output_type": "stream",
     "text": [
      "Введите объем файла в байтах = 224059719.68\n",
      "Объем файла равен = 213.68 Mb\n"
     ]
    }
   ],
   "source": [
    "file_size = input('Введите объем файла в байтах = ')\n",
    "size_bite = float(file_size) / 2**20\n",
    "print('Объем файла равен =',size_bite, 'Mb')"
   ]
  },
  {
   "cell_type": "markdown",
   "metadata": {},
   "source": [
    "**Задание 3**. Разработать приложение для определения знака зодиака по дате рождения. Пример:\n",
    "\n",
    "Введите месяц: март\n",
    "\n",
    "Введите число: 6\n",
    "\n",
    "Вывод:\n",
    "Рыбы"
   ]
  },
  {
   "cell_type": "code",
   "execution_count": 63,
   "metadata": {},
   "outputs": [
    {
     "name": "stdout",
     "output_type": "stream",
     "text": [
      "Введите месяц рождения 1\n",
      "Введите дату рождения 4\n",
      "Козерог\n"
     ]
    }
   ],
   "source": [
    "month_birth = int(input('Введите месяц рождения '))\n",
    "date_birth = int(input('Введите дату рождения '))\n",
    "if (month_birth == 3  and date_birth >= 21) or (month_birth == 4 and date_birth <= 19):\n",
    "    print('Овен')\n",
    "elif (month_birth == 4  and date_birth >= 20) or (month_birth == 5 and date_birth <= 20):\n",
    "    print('Телец')\n",
    "elif (month_birth == 5  and date_birth >= 21) or (month_birth == 6 and date_birth <= 21):\n",
    "    print('Близнецы')\n",
    "elif (month_birth == 6  and date_birth >= 22) or (month_birth == 7 and date_birth <= 22):\n",
    "    print('Рак')\n",
    "elif (month_birth == 7  and date_birth >= 23) or (month_birth == 8 and date_birth <= 22):\n",
    "    print('Лев')\n",
    "elif (month_birth == 8  and date_birth >= 23) or (month_birth == 9 and date_birth <= 22):\n",
    "    print('Дева')\n",
    "elif (month_birth == 9  and date_birth >= 23) or (month_birth == 10 and date_birth <= 23):\n",
    "    print('Весы')\n",
    "elif (month_birth == 10  and date_birth >= 24) or (month_birth == 11 and date_birth <= 22):\n",
    "    print('Скорпион')\n",
    "elif (month_birth == 11  and date_birth >= 23) or (month_birth == 12 and date_birth <= 21):\n",
    "    print('Стрелец')\n",
    "elif (month_birth == 12  and date_birth >= 22) or (month_birth == 1 and date_birth <= 20):\n",
    "    print('Козерог')\n",
    "elif (month_birth == 1  and date_birth >= 21) or (month_birth == 2 and date_birth <= 18):\n",
    "    print('Водолей')\n",
    "else:\n",
    "    print('Рыба')"
   ]
  },
  {
   "cell_type": "markdown",
   "metadata": {},
   "source": [
    "**Задание 4**. Нужно разработать приложение для финансового планирования.\n",
    "Приложение учитывает сколько уходит на ипотеку, \"на жизнь\" и сколько нужно отложить на пенсию.\n",
    "Пользователь вводит:\n",
    "- заработанную плату в месяц.\n",
    "- сколько процентов от ЗП уходит на ипотеку.\n",
    "- сколько процентов от ЗП уходит \"на жизнь\".\n",
    "- сколько раз приходит премия в год.\n",
    "\n",
    "Остальная часть заработанной платы откладывается на пенсию.\n",
    "\n",
    "Также пользователю приходит премия в размере зарплаты, от которой половина уходит на отпуск, а вторая половина откладывается.\n",
    "\n",
    "Программа должна учитывать сколько премий было в год.\n",
    "\n",
    "Нужно вывести сколько денег тратит пользователь на ипотеку и сколько он накопит за год.\n",
    "\n",
    "Пример:\n",
    "\n",
    "Введите заработанную плату в месяц: 100000\n",
    "\n",
    "Введите сколько процентов уходит на ипотеку: 30\n",
    "\n",
    "Введите сколько процентов уходит на жизнь: 50\n",
    "\n",
    "Введите количество премий за год: 2\n",
    "\n",
    "Вывод:\n",
    "На ипотеку было потрачено: 360000 рублей\n",
    "Было накоплено: 340000 рублей"
   ]
  },
  {
   "cell_type": "code",
   "execution_count": 66,
   "metadata": {},
   "outputs": [
    {
     "name": "stdout",
     "output_type": "stream",
     "text": [
      "Введите заработанную плату в месяц: 100000\n",
      "Введите сколько процентов уходит на ипотеку: 30\n",
      "Введите сколько процентов уходит на жизнь: 50\n",
      "Введите количество премий за год: 2\n",
      "На ипотеку было потрачено:  360000  рублей\n",
      "Было накоплено:  340000  рублей\n"
     ]
    }
   ],
   "source": [
    "wages = int(input('Введите заработанную плату в месяц: '))\n",
    "mortgage = int(input('Введите сколько процентов уходит на ипотеку: '))\n",
    "for_life = int(input('Введите сколько процентов уходит на жизнь: '))\n",
    "number_awards = int(input('Введите количество премий за год: '))\n",
    "\n",
    "total_revenue = wages * 12 + wages * number_awards // 2\n",
    "sum_mortgage =  wages * 12 * mortgage//100\n",
    "savings_per_year = total_revenue - wages * 12 * (mortgage + for_life)//100\n",
    "print ('На ипотеку было потрачено: ', sum_mortgage, ' рублей')\n",
    "print ('Было накоплено: ', savings_per_year, ' рублей')"
   ]
  },
  {
   "cell_type": "code",
   "execution_count": null,
   "metadata": {},
   "outputs": [],
   "source": []
  }
 ],
 "metadata": {
  "kernelspec": {
   "display_name": "Python 3",
   "language": "python",
   "name": "python3"
  },
  "language_info": {
   "codemirror_mode": {
    "name": "ipython",
    "version": 3
   },
   "file_extension": ".py",
   "mimetype": "text/x-python",
   "name": "python",
   "nbconvert_exporter": "python",
   "pygments_lexer": "ipython3",
   "version": "3.7.6"
  }
 },
 "nbformat": 4,
 "nbformat_minor": 2
}
