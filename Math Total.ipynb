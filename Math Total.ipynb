{
 "cells": [
  {
   "cell_type": "markdown",
   "metadata": {},
   "source": [
    "### Задание 1\n",
    "\n",
    "Дана матрица рейтингов фильмов (строки - пользователи (10 человек), столбцы - фильмы (15 фильмов))\n",
    "\n",
    "a) Найти наиболее похожего пользователя по косинусной метрике для каждого \n",
    "\n",
    "*Ответ: 10 пар вида (x, y), где y - наиболее похожий пользователь на пользователя x).*"
   ]
  },
  {
   "cell_type": "code",
   "execution_count": 7,
   "metadata": {},
   "outputs": [],
   "source": [
    "import matplotlib.pyplot as plt\n",
    "import numpy as np\n",
    "import math\n",
    "\n",
    "from scipy.optimize import minimize\n",
    "import nltk\n",
    "%matplotlib inline"
   ]
  },
  {
   "cell_type": "code",
   "execution_count": 2,
   "metadata": {},
   "outputs": [],
   "source": [
    "raitings = np.array([[ 4,  4,  9,  4,  1,  6, 10,  7,  9,  6,  9,  2,  8,  6,  6],\n",
    "                     [ 9,  2,  5, 10,  7,  8, 10,  5,  6,  2,  1,  6,  8,  9,  7],\n",
    "                     [ 1,  6,  8,  8,  4,  9,  3,  8, 10,  5,  2,  6,  8,  1,  6],\n",
    "                     [ 6,  1,  9,  7,  7,  9,  2,  3,  5,  1,  6,  6,  3,  2,  7],\n",
    "                     [ 3,  7,  3,  5,  7,  9,  9,  6,  2,  9,  1,  2,  8, 10,  6],\n",
    "                     [ 8,  3,  7,  3,  8,  6,  1,  8,  8,  6,  1,  9,  4, 10,  1],\n",
    "                     [ 9,  8,  4,  8,  8, 10,  6,  1,  1,  2,  9,  5,  2,  7,  2],\n",
    "                     [ 4,  1,  6,  4,  3, 10,  4,  4,  2,  8,  7,  9,  3,  8,  3],\n",
    "                     [ 2,  7,  7,  6, 10,  6,  8,  9,  8,  6, 10,  1,  7, 10,  4],\n",
    "                     [ 5, 10,  8,  8,  9,  7,  2,  9,  9, 10,  8,  8,  8,  6, 10]])"
   ]
  },
  {
   "cell_type": "code",
   "execution_count": 10,
   "metadata": {},
   "outputs": [],
   "source": [
    "def cosine (user1, user2): # расчет косинуса между векторами\n",
    "    \n",
    "    return np.dot(user1, user2) / math.sqrt(np.dot(user1, user1)) / math.sqrt(np.dot(user2, user2))"
   ]
  },
  {
   "cell_type": "code",
   "execution_count": 32,
   "metadata": {},
   "outputs": [],
   "source": [
    "user_cos = {} # словарь пар юзеров с оценкой косинусной меры между их оценками\n",
    "a = 0\n",
    "\n",
    "for i in raitings:\n",
    "    a += 1\n",
    "    b = 0\n",
    "    for user_comp in raitings:\n",
    "        b += 1\n",
    "        user_cos[a, b] = cosine(i, user_comp)"
   ]
  },
  {
   "cell_type": "code",
   "execution_count": 31,
   "metadata": {},
   "outputs": [
    {
     "data": {
      "text/plain": [
       "{1: 9, 2: 5, 3: 10, 4: 10, 5: 9, 6: 10, 7: 4, 8: 6, 9: 1, 10: 3}"
      ]
     },
     "execution_count": 31,
     "metadata": {},
     "output_type": "execute_result"
    }
   ],
   "source": [
    "count = 1\n",
    "max_ = 0\n",
    "user_best = {}\n",
    "\n",
    "for x, y in user_cos.items(): # поиск пары с максимальным косинусом\n",
    "    if x[0] != count:\n",
    "        count = x[0]\n",
    "        max_ = 0\n",
    "    if y > max_ and x[0] != x[1]:\n",
    "            max_ = y\n",
    "            user_best[x[0]] = x[1]\n",
    "user_best"
   ]
  },
  {
   "cell_type": "markdown",
   "metadata": {},
   "source": [
    "#### b) Предположим, вы захотели сжать признаковые описания пользователя с 15 фильмов, до, скажем, 5-ти признаков, как вы это сделаете?"
   ]
  },
  {
   "cell_type": "code",
   "execution_count": 52,
   "metadata": {},
   "outputs": [
    {
     "data": {
      "text/plain": [
       "array([ 7.29,  8.89,  3.84,  4.61,  7.24,  2.4 , 11.25,  6.6 , 10.  ,\n",
       "        8.45, 12.64,  7.64,  5.89,  9.49,  6.56])"
      ]
     },
     "execution_count": 52,
     "metadata": {},
     "output_type": "execute_result"
    }
   ],
   "source": [
    "disp = np.var(raitings, axis=0) # определяем дисперсию оценок для каждого фильма\n",
    "disp # чем больше дисперсия, тем больше оценки этого фильма нам подходят для описания пользователей"
   ]
  },
  {
   "cell_type": "code",
   "execution_count": 84,
   "metadata": {},
   "outputs": [
    {
     "data": {
      "text/plain": [
       "array([ 5, 14,  2,  3, 12,  7,  0,  4, 11,  9])"
      ]
     },
     "execution_count": 84,
     "metadata": {},
     "output_type": "execute_result"
    }
   ],
   "source": [
    "i_max_disp = np.argpartition(disp, 10)[0:10] # ищем индексы с наименьшей дисперсией \n",
    "i_max_disp"
   ]
  },
  {
   "cell_type": "code",
   "execution_count": 85,
   "metadata": {},
   "outputs": [
    {
     "data": {
      "text/plain": [
       "array([[ 4, 10,  9,  9,  6],\n",
       "       [ 2, 10,  6,  1,  9],\n",
       "       [ 6,  3, 10,  2,  1],\n",
       "       [ 1,  2,  5,  6,  2],\n",
       "       [ 7,  9,  2,  1, 10],\n",
       "       [ 3,  1,  8,  1, 10],\n",
       "       [ 8,  6,  1,  9,  7],\n",
       "       [ 1,  4,  2,  7,  8],\n",
       "       [ 7,  8,  8, 10, 10],\n",
       "       [10,  2,  9,  8,  6]])"
      ]
     },
     "execution_count": 85,
     "metadata": {},
     "output_type": "execute_result"
    }
   ],
   "source": [
    "q = np.delete(raitings, [i_max_disp], axis=1) # удаляем из 15 признаков 10 с наименьшей дисперсией\n",
    "q"
   ]
  },
  {
   "cell_type": "markdown",
   "metadata": {},
   "source": [
    "### Задание 2\n",
    "\n",
    "Вычислите производную $tg^2(sin(x) + cos(2x+3))$ в точке $x_0=1$ на python и на бумаге \n",
    "\n",
    "*просто подставить точку в производную и ничего не упрощать*"
   ]
  },
  {
   "cell_type": "code",
   "execution_count": 135,
   "metadata": {},
   "outputs": [],
   "source": [
    "from sympy import diff, symbols, cos, sin, tan\n",
    "from scipy.misc import derivative"
   ]
  },
  {
   "cell_type": "markdown",
   "metadata": {},
   "source": [
    "1. u = tan(sin(x) + cos(2x + 3))\n",
    "\n",
    "2. d/dx u^2 = 2u\n",
    "\n",
    "3. d/dx tan (sin(x) + cos(2x + 3))...\n",
    "\n",
    "    3.1 tan (sin(x) + cos(2x + 3)) = sin(sin(x) + cos(2x + 3))/cos(sin(x) + cos(2x + 3))\n",
    "\n",
    "    3.2 f(x) = sin(sin(x) + cos(2x + 3)), g(x) = cos(sin(x) + cos(2x + 3))\n",
    "\n",
    "        3.2.1 u = sin(x) + cos(2x + 3)\n",
    "        \n",
    "        3.2.2 d/du sin(u) = cos(u), d/du cos(u) = -sin(u)\n",
    "        \n",
    "        3.2.3 d/dx(2x + 3) = 2*1 + 0 = 2\n",
    "        \n",
    "        3.2.4 d/dx (sin(x) + cos(2x + 3)) = -2sin(2x + 3) + cos(x)\n",
    "     \n",
    "     3.3 d/dx f(x) = (-2sin(2x + 3) + cos(x)) * cos(sin(x) + cos(2x + 3))\n",
    "        d/dx g(x) = -(-2sin(2x + 3) + cos(x)) * sin(sin(x) + cos(2x + 3))\n",
    "        \n",
    "4. Правило: \n",
    "d/dx f(x)/g(x) = (-f(x) * d/dx g(x) + g(x) * d/dx f(x)) / g(x)**2\n",
    "\n",
    "z = (\n",
    "(-2sin(2x + 3) + cos(x)) * sin^2(sin(x) + cos(2x + 3)) + \n",
    "    \n",
    "(-2sin(2x + 3) + cos(x)) * cos^2(sin(x) + cos(2x + 3))) /\n",
    "    \n",
    "cos^2(sin(x) + cos(2x + 3)\n",
    ")\n",
    "\n",
    "5. 2 * z * tan(sin(x) + cos(2x + 3))"
   ]
  },
  {
   "cell_type": "code",
   "execution_count": 142,
   "metadata": {},
   "outputs": [
    {
     "data": {
      "text/plain": [
       "55.38591763533796"
      ]
     },
     "execution_count": 142,
     "metadata": {},
     "output_type": "execute_result"
    }
   ],
   "source": [
    "# подставляем в формулу производной значение x\n",
    "x = 1\n",
    "z = (((-2*np.sin(2*x + 3) + np.cos(x)) * (np.sin(np.sin(x) + np.cos(2*x + 3)))**2 + \n",
    "\n",
    "      (-2*np.sin(2*x + 3) + np.cos(x)) * (np.cos(np.sin(x) + np.cos(2*x + 3)))**2) / \n",
    "      \n",
    "      (np.cos(np.sin(x) + np.cos(2*x + 3))**2))\n",
    "\n",
    "2 * z * np.tan(np.sin(x) + np.cos(2*x + 3))\n",
    "\n"
   ]
  },
  {
   "cell_type": "code",
   "execution_count": 114,
   "metadata": {},
   "outputs": [
    {
     "data": {
      "text/latex": [
       "$\\displaystyle 2 \\left(- 2 \\sin{\\left(2 x + 3 \\right)} + \\cos{\\left(x \\right)}\\right) \\left(\\tan^{2}{\\left(\\sin{\\left(x \\right)} + \\cos{\\left(2 x + 3 \\right)} \\right)} + 1\\right) \\tan{\\left(\\sin{\\left(x \\right)} + \\cos{\\left(2 x + 3 \\right)} \\right)}$"
      ],
      "text/plain": [
       "2*(-2*sin(2*x + 3) + cos(x))*(tan(sin(x) + cos(2*x + 3))**2 + 1)*tan(sin(x) + cos(2*x + 3))"
      ]
     },
     "execution_count": 114,
     "metadata": {},
     "output_type": "execute_result"
    }
   ],
   "source": [
    "# проверка формулы\n",
    "x = symbols('x')\n",
    "\n",
    "diff(tan(sin(x) + cos(2*x + 3))**2) # производная функция"
   ]
  },
  {
   "cell_type": "code",
   "execution_count": 111,
   "metadata": {},
   "outputs": [
    {
     "data": {
      "text/latex": [
       "$\\displaystyle 55.3859176433136$"
      ],
      "text/plain": [
       "55.3859176433136"
      ]
     },
     "execution_count": 111,
     "metadata": {},
     "output_type": "execute_result"
    }
   ],
   "source": [
    "# проверка расчета производной в точке x=1\n",
    "def f(x):\n",
    "    return (tan(sin(x) + cos(2*x + 3)))**2\n",
    "\n",
    "derivative(f, 1.0, dx=1e-6)"
   ]
  },
  {
   "cell_type": "markdown",
   "metadata": {},
   "source": [
    "### Задание 3\n",
    "\n",
    "Дана функция с неизвестными параметрами a и b, вам также известны значения функции fx в точках x. \n",
    "\n",
    "Найдите оптимальные параметры a, b, минимизирующие абсолютную ошибку error"
   ]
  },
  {
   "cell_type": "code",
   "execution_count": 178,
   "metadata": {},
   "outputs": [],
   "source": [
    "def f(x, a, b):\n",
    "    \n",
    "    return np.e**a * np.sin(b*x) + x"
   ]
  },
  {
   "cell_type": "code",
   "execution_count": 268,
   "metadata": {},
   "outputs": [],
   "source": [
    "x = np.array([0.        , 0.26315789, 0.52631579, 0.78947368, 1.05263158,\n",
    "              1.31578947, 1.57894737, 1.84210526, 2.10526316, 2.36842105,\n",
    "              2.63157895, 2.89473684, 3.15789474, 3.42105263, 3.68421053,\n",
    "              3.94736842, 4.21052632, 4.47368421, 4.73684211, 5.        ])"
   ]
  },
  {
   "cell_type": "code",
   "execution_count": 269,
   "metadata": {},
   "outputs": [],
   "source": [
    "fx = np.array([  0.        , -12.01819092, -18.90968634, -17.68786571,\n",
    "                -8.7529108 ,   4.27524517,  16.06801336,  21.81250213,\n",
    "                19.22059845,   9.48411207,  -3.22273056, -13.48576488,\n",
    "               -16.91096359, -11.95866834,  -0.58630088,  12.56873816,\n",
    "                22.12489421,  24.20292139,  18.04522521,   6.33211092])"
   ]
  },
  {
   "cell_type": "code",
   "execution_count": 181,
   "metadata": {},
   "outputs": [
    {
     "data": {
      "image/png": "[encoded data removed]",
      "text/plain": [
       "<Figure size 432x288 with 1 Axes>"
      ]
     },
     "metadata": {
      "needs_background": "light"
     },
     "output_type": "display_data"
    }
   ],
   "source": [
    "plt.plot(x, fx)\n",
    "plt.show()"
   ]
  },
  {
   "cell_type": "code",
   "execution_count": 471,
   "metadata": {},
   "outputs": [
    {
     "data": {
      "image/png": "[encoded data removed]",
      "text/plain": [
       "<Figure size 432x288 with 1 Axes>"
      ]
     },
     "metadata": {
      "needs_background": "light"
     },
     "output_type": "display_data"
    }
   ],
   "source": [
    "a = np.linspace(-3, 3.5, 100)\n",
    "\n",
    "fa = np.e**a\n",
    "fb = (fx[1]-x[1]) / np.sin(a*x[1])\n",
    "fb3 = (fx[3]-x[3]) / np.sin(a*x[3])\n",
    "fb2 = (fx[2]-x[2]) / np.sin(a*x[2])\n",
    "\n",
    "plt.plot(a, fa, label='fa')\n",
    "plt.hlines(20, -3, 3.5)\n",
    "plt.plot(a, fb, label='fb')\n",
    "plt.plot(a, fb2, label='fb2')\n",
    "plt.plot(a, fb3, label='fb3')\n",
    "plt.text(-1, 21,'Линия пересечения графиков fb с разными x и fa')\n",
    "plt.plot([-2.5, 3],[20, 20],'ro')\n",
    "\n",
    "plt.ylim(-30, 30)\n",
    "plt.grid()\n",
    "plt.legend()\n",
    "plt.show()"
   ]
  },
  {
   "cell_type": "code",
   "execution_count": 182,
   "metadata": {},
   "outputs": [],
   "source": [
    "def error(params):\n",
    "    \n",
    "    return np.sum(np.abs(fx - f(x, params[0], params[1])))"
   ]
  },
  {
   "cell_type": "code",
   "execution_count": 254,
   "metadata": {},
   "outputs": [],
   "source": [
    "a = np.arange(-4, 4, 0.1)"
   ]
  },
  {
   "cell_type": "code",
   "execution_count": 264,
   "metadata": {},
   "outputs": [
    {
     "name": "stdout",
     "output_type": "stream",
     "text": [
      "Значение абсолютной ошибки минимально: 1.516327977846288e-06 , при значениях a и b: [3.000000000000006, -2.4999999999999987]\n"
     ]
    }
   ],
   "source": [
    "q0 = 1000\n",
    "z = []\n",
    "for i in a:\n",
    "    for ii in a:\n",
    "        q = error([i, ii])\n",
    "        if q < q0:\n",
    "            q0 = q\n",
    "            z = [i, ii]\n",
    "print('Значение абсолютной ошибки минимально:', error(z), ', при значениях a и b:', z)"
   ]
  },
  {
   "cell_type": "markdown",
   "metadata": {},
   "source": [
    "### Задание 4\n",
    "\n",
    "1. Создайте собственную дискретную случайную величину с 20 значениями. \n",
    "2. Сгенерируйте 1000 выборок размера 50. \n",
    "3. Посчитайте среднее для каждой выборки. \n",
    "4. Постройте гистограмму распределения средних."
   ]
  },
  {
   "cell_type": "code",
   "execution_count": 515,
   "metadata": {},
   "outputs": [],
   "source": [
    "import random\n",
    "\n",
    "# Создайте собственную дискретную случайную величину с 20 значениями: \n",
    "random_var = [random.randint(0, 20) for x in range(500)]\n",
    " \n",
    "means = []\n",
    "\n",
    "for x in range(1000):\n",
    "    \n",
    "    # Сгенерируйте 1000 выборок размера 50\n",
    "    sample = random.sample(random_var, 50)\n",
    "    \n",
    "    # Посчитайте среднее для каждой выборки \n",
    "    mean = sum(sample)/50\n",
    "    \n",
    "    # Накопление данных\n",
    "    means.append(mean)"
   ]
  },
  {
   "cell_type": "code",
   "execution_count": 520,
   "metadata": {},
   "outputs": [
    {
     "data": {
      "image/png": "[encoded data removed]",
      "text/plain": [
       "<Figure size 720x576 with 1 Axes>"
      ]
     },
     "metadata": {
      "needs_background": "light"
     },
     "output_type": "display_data"
    }
   ],
   "source": [
    "import seaborn as sns\n",
    "\n",
    "fig = plt.gcf()\n",
    "fig.set_size_inches(10, 8)\n",
    "\n",
    "sns_plot = sns.distplot(means, 500)\n",
    "#fig = sns_plot.get_figure()"
   ]
  },
  {
   "cell_type": "markdown",
   "metadata": {},
   "source": [
    "### Задание 5\n",
    "\n",
    "Найдите собственные значения и собственные вектора матрицы (на python и на бумаге)\n"
   ]
  },
  {
   "cell_type": "code",
   "execution_count": 478,
   "metadata": {},
   "outputs": [],
   "source": [
    "matrix = np.array([[1, 4], [1, 1]])"
   ]
  },
  {
   "cell_type": "markdown",
   "metadata": {},
   "source": [
    "A = (1 4)\n",
    "    (1 1)\n",
    "1. Умножим на неизвестный вектор [x y]\n",
    "x + 4y = Lx\n",
    "\n",
    "x + y = Ly\n",
    "\n",
    "2. Перенесем налево\n",
    "x - Lx + 4y = 0\n",
    "\n",
    "x + y - Ly = 0\n",
    "\n",
    "3. x и y за скобки\n",
    "(1 - L)x + 4y = 0\n",
    "\n",
    "x + (1 - L)y = 0\n",
    "\n",
    "4. Раскроем определитель и решим уравнение\n",
    "(1-L)(1-L) - 1 * 4 = 0\n",
    "\n",
    "L^2 - 2L - 3 = 0\n",
    "\n",
    "5. Считаем дискриминант\n",
    "D = (-2)^2 - 4*1*(-3) = 4 + 12 = 16\n",
    "\n",
    "6. Найдём собственные значения\n",
    "y1 = (корень из D - b) / 2a\n",
    "\n",
    "y2 = (-корень из D - b) / 2a\n",
    "\n",
    "y1 = (4 - (-2)) / (2*1) = 6 / 2 = 3\n",
    "\n",
    "y2 = (-4 - (-2)) / (2*1) = -2 / 2 = -1\n",
    "\n",
    "7. Подставляем y1 в формулы п.3 и считаем собственный вектор1\n",
    "-2x + 4y = 0 -2x = -4y\n",
    "\n",
    "x - 2y = 0 \n",
    "\n",
    "В обоих уравнениях: x = 2y\n",
    "\n",
    "x = 2, y = 1 - первый собственный вектор\n",
    "\n",
    "8. Подставляем y2 в формулы п.3 и считаем собственный вектор2\n",
    "2x + 4y = 0 2x = -4y\n",
    "\n",
    "x + 2y = 0 \n",
    "\n",
    "В обоих уравнениях: x = -2y\n",
    "\n",
    "x = -2, y = 1 - второй собственный вектор\n"
   ]
  },
  {
   "cell_type": "code",
   "execution_count": 481,
   "metadata": {},
   "outputs": [
    {
     "data": {
      "text/plain": [
       "array([[ 0.89442719, -0.89442719],\n",
       "       [ 0.4472136 ,  0.4472136 ]])"
      ]
     },
     "execution_count": 481,
     "metadata": {},
     "output_type": "execute_result"
    }
   ],
   "source": [
    "w, v = np.linalg.eig(matrix)\n",
    "v"
   ]
  },
  {
   "cell_type": "code",
   "execution_count": 485,
   "metadata": {},
   "outputs": [
    {
     "name": "stdout",
     "output_type": "stream",
     "text": [
      "Собственное значение 3.0\n",
      "Соответствующий ему собственный вектор [0.89442719 0.4472136 ]\n",
      "Собственное значение -1.0\n",
      "Соответствующий ему собственный вектор [-0.89442719  0.4472136 ]\n"
     ]
    }
   ],
   "source": [
    "for i in range(len(w)):\n",
    "    \n",
    "    print(\"Собственное значение \" + str(round(w[i], 1)))\n",
    "    print(\"Соответствующий ему собственный вектор \" + str(v[:,i]))"
   ]
  },
  {
   "cell_type": "code",
   "execution_count": null,
   "metadata": {},
   "outputs": [],
   "source": []
  }
 ],
 "metadata": {
  "kernelspec": {
   "display_name": "Python 3",
   "language": "python",
   "name": "python3"
  },
  "language_info": {
   "codemirror_mode": {
    "name": "ipython",
    "version": 3
   },
   "file_extension": ".py",
   "mimetype": "text/x-python",
   "name": "python",
   "nbconvert_exporter": "python",
   "pygments_lexer": "ipython3",
   "version": "3.7.6"
  }
 },
 "nbformat": 4,
 "nbformat_minor": 4
}
