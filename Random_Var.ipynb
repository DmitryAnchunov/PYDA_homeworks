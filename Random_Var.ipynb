{
 "cells": [
  {
   "cell_type": "markdown",
   "metadata": {},
   "source": [
    "#### Смоделировать игру против лотерейного автомата типа “777”. \n",
    "\n",
    "Игроку за 1 руб выпадет случайное целое число (равномерно распределенное от 0 до 999). \n",
    "\n",
    "При значениях в списке dict_winnings игрок получает выигрыш.\n",
    "\n",
    "Сколько в среднем приобретает или теряет игрок за одну игру?"
   ]
  },
  {
   "cell_type": "code",
   "execution_count": 121,
   "metadata": {},
   "outputs": [],
   "source": [
    "import numpy as np\n"
   ]
  },
  {
   "cell_type": "code",
   "execution_count": 59,
   "metadata": {},
   "outputs": [],
   "source": [
    "dict_winnings = {777: 200, 999: 100, 555: 50, 333: 15, 111: 10} \n",
    "dict_winningsX = {'77': 5, '00': 2}\n",
    "dict_winningsXX = {'7': 3, '0': 1}"
   ]
  },
  {
   "cell_type": "code",
   "execution_count": 123,
   "metadata": {},
   "outputs": [
    {
     "name": "stdout",
     "output_type": "stream",
     "text": [
      "При 10000000 - попыток выиграть, средний выигрыш составит: -0.2017181\n",
      "При 10000000 - попыток выиграть, игрок будет в плюсе после такой попытки и на такую сумму:\n"
     ]
    },
    {
     "data": {
      "text/plain": [
       "{70: 151.0,\n",
       " 74: 152.0,\n",
       " 77: 152.0,\n",
       " 81: 151.0,\n",
       " 90: 148.0,\n",
       " 95: 147.0,\n",
       " 114: 133.0,\n",
       " 121: 130.0,\n",
       " 138: 119.0,\n",
       " 140: 119.0,\n",
       " 144: 118.0,\n",
       " 148: 120.0,\n",
       " 185: 96.0,\n",
       " 187: 97.0,\n",
       " 198: 90.0,\n",
       " 202: 89.0,\n",
       " 219: 76.0,\n",
       " 227: 72.0,\n",
       " 235: 69.0,\n",
       " 263: 48.0,\n",
       " 265: 48.0,\n",
       " 273: 44.0,\n",
       " 277: 43.0,\n",
       " 279: 46.0,\n",
       " 287: 41.0,\n",
       " 645: 29.0,\n",
       " 651: 26.0,\n",
       " 677: 7.0,\n",
       " 679: 8.0,\n",
       " 686: 6.0,\n",
       " 691: 5.0,\n",
       " 699: 1.0,\n",
       " 742: 67.0,\n",
       " 744: 67.0,\n",
       " 745: 71.0,\n",
       " 749: 71.0,\n",
       " 765: 157.0,\n",
       " 766: 159.0,\n",
       " 767: 161.0,\n",
       " 792: 138.0,\n",
       " 800: 133.0,\n",
       " 804: 132.0,\n",
       " 808: 131.0,\n",
       " 822: 120.0,\n",
       " 839: 108.0,\n",
       " 848: 102.0,\n",
       " 850: 104.0,\n",
       " 851: 106.0,\n",
       " 862: 98.0,\n",
       " 864: 99.0,\n",
       " 869: 97.0,\n",
       " 873: 96.0,\n",
       " 876: 96.0,\n",
       " 894: 81.0,\n",
       " 897: 81.0,\n",
       " 901: 81.0,\n",
       " 914: 72.0,\n",
       " 919: 72.0,\n",
       " 920: 74.0,\n",
       " 928: 70.0,\n",
       " 941: 61.0,\n",
       " 944: 61.0,\n",
       " 949: 60.0,\n",
       " 961: 51.0,\n",
       " 994: 24.0,\n",
       " 1018: 4.0}"
      ]
     },
     "execution_count": 123,
     "metadata": {},
     "output_type": "execute_result"
    }
   ],
   "source": [
    "n = 10000000 # испытаний\n",
    "bank = n/10\n",
    "win = []\n",
    "in_plus = {}\n",
    "\n",
    "\n",
    "for i in range(n):\n",
    "    \n",
    "    bank = bank - 1\n",
    "    x = np.random.randint(0, 1000)\n",
    "    qx = str(x)\n",
    "    \n",
    "    if len(qx) == 2:\n",
    "        \n",
    "        if qx in dict_winningsX.keys():\n",
    "            bonus = dict_winningsX[qx]\n",
    "        else:\n",
    "            if qx[1] in dict_winningsXX.keys():\n",
    "                bonus = dict_winningsXX[qx[1]]\n",
    "            else:\n",
    "                bonus = 0 \n",
    "            \n",
    "    elif len(qx) == 1:\n",
    "            \n",
    "        if qx in dict_winningsXX.keys():\n",
    "            bonus = dict_winningsXX[qx]\n",
    "        else:\n",
    "            bonus = 0  \n",
    "    else:\n",
    "        if x in dict_winnings.keys():\n",
    "            bonus = dict_winnings[x]\n",
    "        else:\n",
    "            if qx[1] + qx[2] in dict_winningsX.keys():\n",
    "                bonus = dict_winningsX[qx[1] + qx[2]]\n",
    "            elif qx[2] in dict_winningsXX.keys():\n",
    "                bonus = dict_winningsXX[qx[2]]\n",
    "            else:\n",
    "                bonus = 0\n",
    "    \n",
    "    bank = bank + bonus\n",
    "    win.append(bonus - 1)\n",
    "    if bank > n/10 and bonus > 1:\n",
    "        in_plus[i] = bank - n/10\n",
    "\n",
    "print('При', n, '- попыток выиграть, средний выигрыш составит:', np.mean(win)) \n",
    "print('При', n,'- попыток выиграть, игрок будет в плюсе после такой попытки и на такую сумму:')\n",
    "in_plus"
   ]
  },
  {
   "cell_type": "markdown",
   "metadata": {},
   "source": [
    "### Успешные исходы\n",
    "* 199 - 1/1000\n",
    "* 99 - 1/1000\n",
    "* 49 - 1/1000\n",
    "* 14 - 1/1000\n",
    "* 9 - 1/1000\n",
    "* 4 - 9/1000\n",
    "* 1 - 10/1000\n",
    "* 2 - 89/1000\n",
    "* 0 - 90/1000\n",
    "* -1 - 797/1000"
   ]
  },
  {
   "cell_type": "code",
   "execution_count": 119,
   "metadata": {},
   "outputs": [
    {
     "data": {
      "text/plain": [
       "-0.20299999999999996"
      ]
     },
     "execution_count": 119,
     "metadata": {},
     "output_type": "execute_result"
    }
   ],
   "source": [
    "# сумма произведения вероятностей на выигрыш\n",
    "(199 * 0.001 \n",
    " + 99 * 0.001 \n",
    " + 49 * 0.001 \n",
    " + 14 * 0.001 \n",
    " + 9 * 0.001 \n",
    " + 4 * 0.009 \n",
    " + 1 * 0.01 \n",
    " + 2 * 0.089 \n",
    " + 0 * 0.09 \n",
    " - 797/1000)"
   ]
  },
  {
   "cell_type": "code",
   "execution_count": null,
   "metadata": {},
   "outputs": [],
   "source": []
  },
  {
   "cell_type": "code",
   "execution_count": null,
   "metadata": {},
   "outputs": [],
   "source": []
  }
 ],
 "metadata": {
  "kernelspec": {
   "display_name": "Python 3",
   "language": "python",
   "name": "python3"
  },
  "language_info": {
   "codemirror_mode": {
    "name": "ipython",
    "version": 3
   },
   "file_extension": ".py",
   "mimetype": "text/x-python",
   "name": "python",
   "nbconvert_exporter": "python",
   "pygments_lexer": "ipython3",
   "version": "3.7.6"
  }
 },
 "nbformat": 4,
 "nbformat_minor": 4
}
