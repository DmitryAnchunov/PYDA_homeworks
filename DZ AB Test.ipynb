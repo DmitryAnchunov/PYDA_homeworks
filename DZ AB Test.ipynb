{
 "cells": [
  {
   "cell_type": "markdown",
   "metadata": {},
   "source": [
    "#### Задание 1\n",
    "\n",
    "Вам даны результаты проверки двух препаратов. Требуется оценить, есть ли различие в эффекте у этих пациентов:\n",
    "\n",
    "A - результаты для выборки людей получающих препарат А.\n",
    "\n",
    "B - результаты для другой выборки людей, получающих препарат B."
   ]
  },
  {
   "cell_type": "code",
   "execution_count": 17,
   "metadata": {},
   "outputs": [],
   "source": [
    "import pandas as pd\n",
    "import researchpy as rp\n",
    "import scipy.stats as stats\n",
    "import numpy as np\n",
    "from IPython.display import Image\n",
    "from scipy.stats import f_oneway\n",
    "from numpy.random import seed\n",
    "from numpy.random import randn\n",
    "from scipy.stats import mannwhitneyu\n"
   ]
  },
  {
   "cell_type": "code",
   "execution_count": 10,
   "metadata": {},
   "outputs": [],
   "source": [
    "np.random.seed(11)\n",
    "A = stats.norm.rvs(scale=30,loc=11,size=100)\n",
    "B = A + stats.norm.rvs(scale=54,loc=11,size=100)\n"
   ]
  },
  {
   "cell_type": "code",
   "execution_count": 12,
   "metadata": {},
   "outputs": [
    {
     "name": "stdout",
     "output_type": "stream",
     "text": [
      "3.0060646842692673 0.08451003973499746\n",
      "Same distribution (fail to reject H0)\n"
     ]
    }
   ],
   "source": [
    "# H0 - результаты выборок имеют одинаковое распределение, H1 - результаты выборок отличны\n",
    "\n",
    "alpha = 0.05   # Уровень значимости\n",
    "F, p = f_oneway(A, B)\n",
    "\n",
    "print(F, p)\n",
    "\n",
    "if p > alpha:\n",
    "    print('Same distribution (fail to reject H0)')\n",
    "else:\n",
    "    print('Different distribution (reject H0)')"
   ]
  },
  {
   "cell_type": "markdown",
   "metadata": {},
   "source": [
    "### Задание 2\n",
    "\n",
    "Вам даны результаты проверки двух препаратов. Требуется оценить, есть ли различие в эффекте у этих пациентов.\n",
    "\n",
    "А - те же люди, но без препарата\n",
    "\n",
    "B - выборка, получающая препарат B"
   ]
  },
  {
   "cell_type": "code",
   "execution_count": 15,
   "metadata": {},
   "outputs": [],
   "source": [
    "np.random.seed(11)\n",
    "A_ = stats.norm.rvs(scale=30,loc=11,size=100)\n",
    "B_ = A_ + stats.norm.rvs(scale=54,loc=11,size=100)"
   ]
  },
  {
   "cell_type": "code",
   "execution_count": 19,
   "metadata": {},
   "outputs": [
    {
     "name": "stdout",
     "output_type": "stream",
     "text": [
      "4343.0 0.054347680446611354\n",
      "Fail to reject H0\n"
     ]
    }
   ],
   "source": [
    "# H0 - эффекта от применения препарата нет, H1 - эффект есть\n",
    "\n",
    "alpha = 0.05   # Уровень значимости\n",
    "stat, p = mannwhitneyu(A_, B_)\n",
    "\n",
    "print(stat, p)\n",
    "\n",
    "if p > alpha:\n",
    "    print('Fail to reject H0')\n",
    "else:\n",
    "    print('Reject H0')"
   ]
  },
  {
   "cell_type": "markdown",
   "metadata": {},
   "source": [
    "### Задание 3\n",
    "\n",
    "Допустим вы решили устроить дачный эксперимент:\n",
    "* поливаем одни огурцы водой, \n",
    "* другие огурцы водой с удобрением, \n",
    "* третью группу огурцов будем поливать минералкой. \n",
    "\n",
    "Используя дисперсионный анализ, сделайте выводы о распределениях результатов. Если ли эффект от удобрения по сравнению с минералкой?¶\n"
   ]
  },
  {
   "cell_type": "code",
   "execution_count": 22,
   "metadata": {},
   "outputs": [],
   "source": [
    "water = [1,2,3,4,2,4,2,4,5,2,3,4,2,1,3,4,3,2,5,1]\n",
    "\n",
    "nutri = [1,2,4,6,5,6,7,5,4,5,6,7,4,3,5,5,6,5,4,3,5]\n",
    "\n",
    "mineral =[2,1,1,3,2,4,2,4,5,4,3,2,3,2,3,1,3,4,5,1,4]"
   ]
  },
  {
   "cell_type": "code",
   "execution_count": 28,
   "metadata": {},
   "outputs": [
    {
     "name": "stdout",
     "output_type": "stream",
     "text": [
      "0.9198340218471527 0.0001840453200503372\n",
      "Fail to reject H0 in cases of mineral. Effect of nutri application 0.0001840453200503372\n"
     ]
    }
   ],
   "source": [
    "# H0 - значимых различий нет, H1 - удобрения влияют на результат\n",
    "\n",
    "alpha = 0.05   # Уровень значимости\n",
    "Fm, pm = f_oneway(water, mineral)\n",
    "Fn, pn = f_oneway(water, nutri)\n",
    "\n",
    "print(pm, pn)\n",
    "\n",
    "if pm > alpha and pn > alpha:\n",
    "    print('Fail to reject H0 in cases of mineral and nutri')\n",
    "elif pn > alpha:\n",
    "    print('Fail to reject H0 in cases of nutri')\n",
    "elif pm > alpha:\n",
    "    print('Fail to reject H0 in cases of mineral.', 'Effect of nutri application', pn)\n",
    "else:\n",
    "    print('Different distribution (reject H0)', 'эффект от удобрений больше минералки в', pn/pm)"
   ]
  },
  {
   "cell_type": "markdown",
   "metadata": {},
   "source": [
    "### Задание Cookie Cats\n",
    "\n",
    "Проанализировать AB-тест, в котором создатели переместили первые ворота в Cookie Cats с 30 уровня на уровень 40. \n",
    "\n",
    "Рассмотрите влияние A/B теста на удержание игроков."
   ]
  },
  {
   "cell_type": "code",
   "execution_count": 45,
   "metadata": {},
   "outputs": [
    {
     "data": {
      "text/html": [
       "<div>\n",
       "<style scoped>\n",
       "    .dataframe tbody tr th:only-of-type {\n",
       "        vertical-align: middle;\n",
       "    }\n",
       "\n",
       "    .dataframe tbody tr th {\n",
       "        vertical-align: top;\n",
       "    }\n",
       "\n",
       "    .dataframe thead th {\n",
       "        text-align: right;\n",
       "    }\n",
       "</style>\n",
       "<table border=\"1\" class=\"dataframe\">\n",
       "  <thead>\n",
       "    <tr style=\"text-align: right;\">\n",
       "      <th></th>\n",
       "      <th>userid</th>\n",
       "      <th>version</th>\n",
       "      <th>sum_gamerounds</th>\n",
       "      <th>retention_1</th>\n",
       "      <th>retention_7</th>\n",
       "    </tr>\n",
       "  </thead>\n",
       "  <tbody>\n",
       "    <tr>\n",
       "      <th>0</th>\n",
       "      <td>116</td>\n",
       "      <td>gate_30</td>\n",
       "      <td>3</td>\n",
       "      <td>False</td>\n",
       "      <td>False</td>\n",
       "    </tr>\n",
       "    <tr>\n",
       "      <th>1</th>\n",
       "      <td>337</td>\n",
       "      <td>gate_30</td>\n",
       "      <td>38</td>\n",
       "      <td>True</td>\n",
       "      <td>False</td>\n",
       "    </tr>\n",
       "    <tr>\n",
       "      <th>2</th>\n",
       "      <td>377</td>\n",
       "      <td>gate_40</td>\n",
       "      <td>165</td>\n",
       "      <td>True</td>\n",
       "      <td>False</td>\n",
       "    </tr>\n",
       "    <tr>\n",
       "      <th>3</th>\n",
       "      <td>483</td>\n",
       "      <td>gate_40</td>\n",
       "      <td>1</td>\n",
       "      <td>False</td>\n",
       "      <td>False</td>\n",
       "    </tr>\n",
       "    <tr>\n",
       "      <th>4</th>\n",
       "      <td>488</td>\n",
       "      <td>gate_40</td>\n",
       "      <td>179</td>\n",
       "      <td>True</td>\n",
       "      <td>True</td>\n",
       "    </tr>\n",
       "  </tbody>\n",
       "</table>\n",
       "</div>"
      ],
      "text/plain": [
       "   userid  version  sum_gamerounds  retention_1  retention_7\n",
       "0     116  gate_30               3        False        False\n",
       "1     337  gate_30              38         True        False\n",
       "2     377  gate_40             165         True        False\n",
       "3     483  gate_40               1        False        False\n",
       "4     488  gate_40             179         True         True"
      ]
     },
     "execution_count": 45,
     "metadata": {},
     "output_type": "execute_result"
    }
   ],
   "source": [
    "data = pd.read_csv('AB_test/cookie_cats.csv')\n",
    "data.head()"
   ]
  },
  {
   "cell_type": "markdown",
   "metadata": {},
   "source": [
    "userid - уникальный номер, идентифицирующий каждого игрока\n",
    "\n",
    "version - был ли игрок в контрольной группе (gate_30 - ворота на уровне 30) или в тестовой (gate_40 - ворота на уровне 40).\n",
    "\n",
    "sum_gamerounds - количество игровых раундов, сыгранных игроком в течение первой недели после установки\n",
    "\n",
    "retention_1 - игрок вернулся и играл через 1 день после установки?\n",
    "\n",
    "retention_7 - игрок вернулся и играл через 7 дней после установки?"
   ]
  },
  {
   "cell_type": "code",
   "execution_count": 31,
   "metadata": {},
   "outputs": [
    {
     "data": {
      "text/html": [
       "<div>\n",
       "<style scoped>\n",
       "    .dataframe tbody tr th:only-of-type {\n",
       "        vertical-align: middle;\n",
       "    }\n",
       "\n",
       "    .dataframe tbody tr th {\n",
       "        vertical-align: top;\n",
       "    }\n",
       "\n",
       "    .dataframe thead th {\n",
       "        text-align: right;\n",
       "    }\n",
       "</style>\n",
       "<table border=\"1\" class=\"dataframe\">\n",
       "  <thead>\n",
       "    <tr style=\"text-align: right;\">\n",
       "      <th></th>\n",
       "      <th>userid</th>\n",
       "      <th>sum_gamerounds</th>\n",
       "      <th>retention_1</th>\n",
       "      <th>retention_7</th>\n",
       "    </tr>\n",
       "    <tr>\n",
       "      <th>version</th>\n",
       "      <th></th>\n",
       "      <th></th>\n",
       "      <th></th>\n",
       "      <th></th>\n",
       "    </tr>\n",
       "  </thead>\n",
       "  <tbody>\n",
       "    <tr>\n",
       "      <th>gate_30</th>\n",
       "      <td>44700</td>\n",
       "      <td>44700</td>\n",
       "      <td>44700</td>\n",
       "      <td>44700</td>\n",
       "    </tr>\n",
       "    <tr>\n",
       "      <th>gate_40</th>\n",
       "      <td>45489</td>\n",
       "      <td>45489</td>\n",
       "      <td>45489</td>\n",
       "      <td>45489</td>\n",
       "    </tr>\n",
       "  </tbody>\n",
       "</table>\n",
       "</div>"
      ],
      "text/plain": [
       "         userid  sum_gamerounds  retention_1  retention_7\n",
       "version                                                  \n",
       "gate_30   44700           44700        44700        44700\n",
       "gate_40   45489           45489        45489        45489"
      ]
     },
     "execution_count": 31,
     "metadata": {},
     "output_type": "execute_result"
    }
   ],
   "source": [
    "#Сгрупируем результаты теста по версиям игры.\n",
    "data.groupby('version').count()"
   ]
  },
  {
   "cell_type": "markdown",
   "metadata": {},
   "source": [
    "#### Ваши выводы:\n",
    "Ожидаемо,что перенос ворот на 40 уровень увеличил число раундов, потому что часть не доходила до 40 уровня, но увеличение менее 2%, так что можно сказать, что на число раундов перенос не повлиял"
   ]
  },
  {
   "cell_type": "code",
   "execution_count": 159,
   "metadata": {},
   "outputs": [
    {
     "data": {
      "text/plain": [
       "<matplotlib.axes._subplots.AxesSubplot at 0x7fbe896d1e50>"
      ]
     },
     "execution_count": 159,
     "metadata": {},
     "output_type": "execute_result"
    },
    {
     "data": {
      "image/png": "[encoded data removed]",
      "text/plain": [
       "<Figure size 432x288 with 1 Axes>"
      ]
     },
     "metadata": {
      "needs_background": "light"
     },
     "output_type": "display_data"
    }
   ],
   "source": [
    "# Подсчет количества игроков для каждого количества раундов\n",
    "plot_df = data.groupby('sum_gamerounds')['userid'].count()\n",
    "plot_df.hist(bins=150, range=[0, 200])"
   ]
  },
  {
   "cell_type": "markdown",
   "metadata": {},
   "source": [
    "#### Ваши выводы:\n",
    "Малочисленные группы с одним числом раундом встречаются чаще многочисленных. Число сыгранных раундов индивидуально, и по числу раундов игроки распределились равномерно."
   ]
  },
  {
   "cell_type": "code",
   "execution_count": 113,
   "metadata": {},
   "outputs": [
    {
     "data": {
      "text/plain": [
       "Text(0.5, 0, '# Game rounds')"
      ]
     },
     "execution_count": 113,
     "metadata": {},
     "output_type": "execute_result"
    },
    {
     "data": {
      "image/png": "[encoded data removed]",
      "text/plain": [
       "<Figure size 720x432 with 1 Axes>"
      ]
     },
     "metadata": {
      "needs_background": "light"
     },
     "output_type": "display_data"
    }
   ],
   "source": [
    "# Построим график распределения игроков, сыгравших от 0 до 100 игровых раундов в течение своей первой недели игры.\n",
    "%matplotlib inline\n",
    "\n",
    "ax = plot_df[:100].plot(figsize=(10,6))\n",
    "ax.set_title(\"The number of players that played 0-100 game rounds during the first week\")\n",
    "ax.set_ylabel(\"Number of Players\")\n",
    "ax.set_xlabel('# Game rounds')"
   ]
  },
  {
   "cell_type": "markdown",
   "metadata": {},
   "source": [
    "#### Ваши выводы:\n",
    "Большая часть игроков играет мало раундов, до 30."
   ]
  },
  {
   "cell_type": "code",
   "execution_count": 145,
   "metadata": {},
   "outputs": [
    {
     "data": {
      "text/plain": [
       "<matplotlib.axes._subplots.AxesSubplot at 0x7fbe86bcfe10>"
      ]
     },
     "execution_count": 145,
     "metadata": {},
     "output_type": "execute_result"
    },
    {
     "data": {
      "image/png": "[encoded data removed]",
      "text/plain": [
       "<Figure size 432x288 with 1 Axes>"
      ]
     },
     "metadata": {
      "needs_background": "light"
     },
     "output_type": "display_data"
    }
   ],
   "source": [
    "# Creating an list with bootstrapped means for each AB-group\n",
    "boot_1d = []\n",
    "for i in range(1000):\n",
    "    boot_mean = data.sample(frac = 0.8,replace = True).groupby('version')['retention_7'].mean()  #retention_1\n",
    "    boot_1d.append(boot_mean)\n",
    "    \n",
    "# Преобразование списка в DataFrame\n",
    "boot_1d = pd.DataFrame(boot_1d)\n",
    "    \n",
    "# A Kernel Density Estimate plot of the bootstrap distributions\n",
    "boot_1d.plot(kind='density')"
   ]
  },
  {
   "cell_type": "markdown",
   "metadata": {},
   "source": [
    "#### Ваши выводы:\n",
    "Процент игроков вернувшихся после 7 (или одного) дней ниже в версии gate_40, чем в версии gate_30.\n",
    "Предположительно, усталось от более длительной игры негативно сказывается на возврате к игре"
   ]
  },
  {
   "cell_type": "code",
   "execution_count": null,
   "metadata": {},
   "outputs": [],
   "source": []
  }
 ],
 "metadata": {
  "kernelspec": {
   "display_name": "Python 3",
   "language": "python",
   "name": "python3"
  },
  "language_info": {
   "codemirror_mode": {
    "name": "ipython",
    "version": 3
   },
   "file_extension": ".py",
   "mimetype": "text/x-python",
   "name": "python",
   "nbconvert_exporter": "python",
   "pygments_lexer": "ipython3",
   "version": "3.7.6"
  }
 },
 "nbformat": 4,
 "nbformat_minor": 4
}
